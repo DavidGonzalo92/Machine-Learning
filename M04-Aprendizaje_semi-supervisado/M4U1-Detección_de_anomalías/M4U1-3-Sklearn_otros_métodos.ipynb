{
 "cells": [
  {
   "cell_type": "markdown",
   "id": "fa006ebc-665a-499d-a3fc-3ff94d1a23e2",
   "metadata": {},
   "source": [
    "# Detección de anomalías: Otros métodos con Scikit-learn\n",
    "M4U1 - Ejercicio 3\n",
    "\n",
    "## ¿Qué vamos a hacer?\n",
    "- Resolver un dataset de detección de anomalías con Scikit-learn\n",
    "\n",
    "Recuerda seguir las instrucciones para las entregas de prácticas indicadas en [Instrucciones entregas](https://github.com/Tokio-School/Machine-Learning/blob/main/Instrucciones%20entregas.md).\n",
    "\n",
    "## Instrucciones\n",
    "En esta ocasión, vamos a utilizar otro de los métodos que incluye Scikit-learn para detección de anomalías.\n",
    "\n",
    "El método que vamos a utilizar es [EllipticEnvelope](https://scikit-learn.org/stable/modules/generated/sklearn.covariance.EllipticEnvelope.html).\n",
    "\n",
    "Para ello, primero descarga el primer ejemplo de [Outlier detection on a real data set](https://scikit-learn.org/stable/auto_examples/applications/plot_outlier_detection_wine.html#first-example) y cópialo en la siguiente celda, modificándolo para que sólo entrene un modelo de covarianza empírica (\"Empirical Covariance\"):"
   ]
  },
  {
   "cell_type": "code",
   "execution_count": null,
   "id": "df04311d-aca8-424c-ae21-ae20c5ca9b62",
   "metadata": {},
   "outputs": [],
   "source": [
    "# TODO: Copia el primer ejemplo sobre Elliptic Envelope y entrena únicamente un modelo de covarianza empírica"
   ]
  },
  {
   "cell_type": "markdown",
   "id": "8ea1071e-f061-41d7-aae6-910c768075d0",
   "metadata": {},
   "source": [
    "Por último, vamos a compararlo con nuestra implementación, siguiendo los mismos pasos que en el ejercicio del dataset sintético:\n",
    "\n",
    "1. Crea un dataset sintético para detección de anomalías con datasets de datos normales y anómalos.\n",
    "1. Normaliza los datos de ambos datasets y reordénalos aleatoriamente.\n",
    "1. Dividelos en subsets de entrenamiento y test, con datos normales y anómalos distribuidos por igual.\n",
    "1. Representa los 2 subsets gráficamente.\n",
    "1. Entrena el modelo de EllipticEnvelope sobre el subset de entrenamiento.\n",
    "1. Calcula la F1-score del modelo sobre el subset de test.\n",
    "1. Representa los datos normales y anómalos diferenciados junto a la función de decisión del modelo en una línea de contorno."
   ]
  },
  {
   "cell_type": "code",
   "execution_count": null,
   "id": "a8f3d97d-fddc-48a0-acc1-5b9be7183ec4",
   "metadata": {},
   "outputs": [],
   "source": [
    "# TODO: Crea un dataset sintético, preprocesa los datos, entrena un modelo y evalúalo, siguiendo dichos pasos"
   ]
  },
  {
   "cell_type": "markdown",
   "id": "e1e906f4-8d02-4777-8778-05fe2d39c81d",
   "metadata": {},
   "source": [
    "De esta forma hemos visto una de las formas disponibles en Scikit-learn para resolver un problema de detección de anomalías."
   ]
  }
 ],
 "metadata": {
  "environment": {
   "kernel": "python3",
   "name": "common-cpu.m87",
   "type": "gcloud",
   "uri": "gcr.io/deeplearning-platform-release/base-cpu:m87"
  },
  "kernelspec": {
   "display_name": "Python 3",
   "language": "python",
   "name": "python3"
  },
  "language_info": {
   "codemirror_mode": {
    "name": "ipython",
    "version": 3
   },
   "file_extension": ".py",
   "mimetype": "text/x-python",
   "name": "python",
   "nbconvert_exporter": "python",
   "pygments_lexer": "ipython3",
   "version": "3.7.12"
  }
 },
 "nbformat": 4,
 "nbformat_minor": 5
}
