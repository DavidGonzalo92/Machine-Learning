{
 "cells": [
  {
   "cell_type": "markdown",
   "id": "0aa1e653-43cc-498e-89d7-fcd9d96454bd",
   "metadata": {},
   "source": [
    "# Detección de anomalías: Dataset sintético\n",
    "M041- Ejercicio 1\n",
    "\n",
    "## ¿Qué vamos a hacer?\n",
    "- Crear un dataset sintético para detección de anomalías con casos normales y anómalos\n",
    "- Modelizar una distribución gaussiana sobre los datos normales\n",
    "- Determinar el umbral de probabilidad para detectar los datos anómalos por validación\n",
    "- Evaluar la precisión final del modelo sobre el subconjunto de test\n",
    "- Representar gráficamente el comportamiento del modelo en cada paso\n",
    "\n",
    "Recuerda seguir las instrucciones para las entregas de prácticas indicadas en [Instrucciones entregas](https://github.com/Tokio-School/Machine-Learning/blob/main/Instrucciones%20entregas.md).\n",
    "\n",
    "## Instrucciones\n",
    "- xxx"
   ]
  }
 ],
 "metadata": {
  "environment": {
   "kernel": "python3",
   "name": "common-cpu.m87",
   "type": "gcloud",
   "uri": "gcr.io/deeplearning-platform-release/base-cpu:m87"
  },
  "kernelspec": {
   "display_name": "Python 3",
   "language": "python",
   "name": "python3"
  },
  "language_info": {
   "codemirror_mode": {
    "name": "ipython",
    "version": 3
   },
   "file_extension": ".py",
   "mimetype": "text/x-python",
   "name": "python",
   "nbconvert_exporter": "python",
   "pygments_lexer": "ipython3",
   "version": "3.7.12"
  }
 },
 "nbformat": 4,
 "nbformat_minor": 5
}
