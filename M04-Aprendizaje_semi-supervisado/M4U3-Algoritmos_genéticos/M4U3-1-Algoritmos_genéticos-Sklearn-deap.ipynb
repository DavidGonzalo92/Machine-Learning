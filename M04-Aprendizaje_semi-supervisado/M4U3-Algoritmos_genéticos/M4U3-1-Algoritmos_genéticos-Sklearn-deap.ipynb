{
 "cells": [
  {
   "cell_type": "markdown",
   "id": "a6f66284-8b3a-495d-8831-d48b9beb9b81",
   "metadata": {},
   "source": [
    "# Algoritmos genéticos: Sklearn-deap\n",
    "M4U3 - Ejercicio 1\n",
    "\n",
    "## ¿Qué vamos a hacer?\n",
    "- Optimizar los hiperparámetros del entrenamiento en la validación de un modelo por algoritmos genéticos\n",
    "- Utilizar la librería DEAP a través de SKlearn-deap\n",
    "\n",
    "## Instrucciones\n",
    "Los algoritmos genéticos son muy interesantes para una gran variedad de casos, donde queramos optimizar nuestro sistema o función de una forma evolutiva.\n",
    "\n",
    "Sin embargo, son especialmente difíciles de utilizar de forma efectiva, ya que añaden un gran número de parámetros que no siempre es sencillo identificar con parámetros reales del sistema: fenotipos, genotipos, probabilidades de mutación, apareamiento y supervivencia, etc.\n",
    "\n",
    "Además, no siempre son especialmente eficientes a la hora de encontrar la solución más óptima y pueden caer en mínimos locales.\n",
    "\n",
    "En este ejercicio vamos a plantear un ejemplo muy sencillo de utilización, en sustitución de métodos de validación de Scikit-learn como [GridSearchCV](https://scikit-learn.org/stable/modules/generated/sklearn.model_selection.GridSearchCV.html) y [RandomizedSearchCV](https://scikit-learn.org/stable/modules/generated/sklearn.model_selection.RandomizedSearchCV.html).\n",
    "\n",
    "Para ello, utiliza la librería [SKlearn-deap](https://github.com/rsteca/sklearn-deap) para entrenar un modelo de clasificación de SVM por validación cruzada (K-fold).\n",
    "\n",
    "Sigue las instrucciones de las siguientes celdas, básate en el código de ejercicios pasados siempre que puedas y en este [ejemplo](https://github.com/rsteca/sklearn-deap/blob/master/test.ipynb) de uso de SKlearn-deap:"
   ]
  },
  {
   "cell_type": "code",
   "execution_count": null,
   "id": "fc969aab-ea3d-44e3-8945-ead9d8fcffc4",
   "metadata": {},
   "outputs": [],
   "source": [
    "# TODO: Utiliza esta celda para importar todas las librerías necesarias"
   ]
  },
  {
   "cell_type": "code",
   "execution_count": null,
   "id": "7eda9e04-1c39-47ea-8441-71d3350912f9",
   "metadata": {},
   "outputs": [],
   "source": [
    "# TODO: Crea un dataset sintético para clasificación con un parámetro de error considerable"
   ]
  },
  {
   "cell_type": "code",
   "execution_count": null,
   "id": "d4debef9-281d-4e6c-96cd-1ec85dcf6e66",
   "metadata": {},
   "outputs": [],
   "source": [
    "# TODO: Preprocesa los datos: normalízalos, divídelos en 2 subsets de entrenamiento y test y reordénalos aleatoriamente"
   ]
  },
  {
   "cell_type": "code",
   "execution_count": null,
   "id": "78b3083f-8a82-428f-856f-6f8f0ff4d429",
   "metadata": {},
   "outputs": [],
   "source": [
    "# TODO: Entrena un modelo de SVM con validación cruzada por algoritmos genéticos para escoger la mejor combinación de\n",
    "# kernel e hiper-parámetros"
   ]
  },
  {
   "cell_type": "code",
   "execution_count": null,
   "id": "d0c79ab2-c14b-4962-9218-a0dac2c5a0fe",
   "metadata": {},
   "outputs": [],
   "source": [
    "# TODO: Evalúa el F1-score del modelo en el subset de test"
   ]
  },
  {
   "cell_type": "markdown",
   "id": "95a3cd97-2665-477b-aa90-a015cac5bb64",
   "metadata": {},
   "source": [
    "*BONUS*: Como puedes ver en la página frontal del repositorio de SKlearn-deap, también se puede utilizar para maximizar o minimizar funciones personalizadas.\n",
    "\n",
    "*¿Podrías utilizar SKlearn-deap para minimizar tu implementación a mano de la función de coste para regresión logística?*\n",
    "\n",
    "*NOTA*: Intenta usar un dataset sin error con un nº bajo de dimensiones *n* y sin regularización."
   ]
  },
  {
   "cell_type": "code",
   "execution_count": null,
   "id": "9ebd0171-9738-4d34-a43b-36da78a357f0",
   "metadata": {},
   "outputs": [],
   "source": [
    "# BONUS TODO: Crea un dataset sintético para clasificación sin parámetro de error"
   ]
  },
  {
   "cell_type": "code",
   "execution_count": null,
   "id": "4d04f597-27bc-48e3-99ba-7a488f7e690b",
   "metadata": {},
   "outputs": [],
   "source": [
    "# BONUS TODO: Copia tu función de coste para regresión logística regularizada"
   ]
  },
  {
   "cell_type": "code",
   "execution_count": null,
   "id": "8c6e174b-2dfa-4cb6-9aed-feb4bfa7e9cd",
   "metadata": {},
   "outputs": [],
   "source": [
    "# BONUS TODO: Optimiza Theta minimizando tu función de coste utilizando SKlearn-deap"
   ]
  }
 ],
 "metadata": {
  "environment": {
   "kernel": "python3",
   "name": "common-cpu.m87",
   "type": "gcloud",
   "uri": "gcr.io/deeplearning-platform-release/base-cpu:m87"
  },
  "kernelspec": {
   "display_name": "Python 3",
   "language": "python",
   "name": "python3"
  },
  "language_info": {
   "codemirror_mode": {
    "name": "ipython",
    "version": 3
   },
   "file_extension": ".py",
   "mimetype": "text/x-python",
   "name": "python",
   "nbconvert_exporter": "python",
   "pygments_lexer": "ipython3",
   "version": "3.7.12"
  }
 },
 "nbformat": 4,
 "nbformat_minor": 5
}
