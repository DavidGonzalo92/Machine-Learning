{
 "cells": [
  {
   "cell_type": "markdown",
   "id": "a6f66284-8b3a-495d-8831-d48b9beb9b81",
   "metadata": {},
   "source": [
    "# Algoritmos genéticos: Sklearn-deap\n",
    "M4U3 - Ejercicio 1\n",
    "\n",
    "## ¿Qué vamos a hacer?\n",
    "- Optimizar los hiperparámetros del entrenamiento en la validación de un modelo por algoritmos genéticos\n",
    "- Utilizar la librería DEAP a través de SKlearn-deap\n",
    "\n",
    "## Instrucciones\n",
    "- xxx"
   ]
  }
 ],
 "metadata": {
  "environment": {
   "kernel": "python3",
   "name": "common-cpu.m87",
   "type": "gcloud",
   "uri": "gcr.io/deeplearning-platform-release/base-cpu:m87"
  },
  "kernelspec": {
   "display_name": "Python 3",
   "language": "python",
   "name": "python3"
  },
  "language_info": {
   "codemirror_mode": {
    "name": "ipython",
    "version": 3
   },
   "file_extension": ".py",
   "mimetype": "text/x-python",
   "name": "python",
   "nbconvert_exporter": "python",
   "pygments_lexer": "ipython3",
   "version": "3.7.12"
  }
 },
 "nbformat": 4,
 "nbformat_minor": 5
}
