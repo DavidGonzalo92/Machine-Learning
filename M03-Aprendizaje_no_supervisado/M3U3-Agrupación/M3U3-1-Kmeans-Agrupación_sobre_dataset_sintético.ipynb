{
 "cells": [
  {
   "cell_type": "markdown",
   "id": "0502b7a7-32f1-4f0f-899e-43f70d06d534",
   "metadata": {},
   "source": [
    "# K-means: Agrupación sobre dataset sintético\n",
    "M3U3 - Ejercicio 1\n",
    "\n",
    "## ¿Qué vamos a hacer?\n",
    "- xxx\n",
    "\n",
    "## Instrucciones\n",
    "- xxx"
   ]
  }
 ],
 "metadata": {
  "environment": {
   "kernel": "python3",
   "name": "common-cpu.m87",
   "type": "gcloud",
   "uri": "gcr.io/deeplearning-platform-release/base-cpu:m87"
  },
  "kernelspec": {
   "display_name": "Python 3",
   "language": "python",
   "name": "python3"
  },
  "language_info": {
   "codemirror_mode": {
    "name": "ipython",
    "version": 3
   },
   "file_extension": ".py",
   "mimetype": "text/x-python",
   "name": "python",
   "nbconvert_exporter": "python",
   "pygments_lexer": "ipython3",
   "version": "3.7.12"
  }
 },
 "nbformat": 4,
 "nbformat_minor": 5
}
