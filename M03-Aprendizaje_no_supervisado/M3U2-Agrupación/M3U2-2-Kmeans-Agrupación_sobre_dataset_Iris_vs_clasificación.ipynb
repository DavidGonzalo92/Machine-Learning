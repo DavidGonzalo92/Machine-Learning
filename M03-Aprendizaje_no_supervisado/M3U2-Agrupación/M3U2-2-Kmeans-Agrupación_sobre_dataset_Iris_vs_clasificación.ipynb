{
 "cells": [
  {
   "cell_type": "markdown",
   "id": "7eda123c-c621-46ab-b23d-abb27ff12e34",
   "metadata": {},
   "source": [
    "# K-means: Agrupación sobre dataset Iris y comparación con clasificación\n",
    "M3U2 - Ejercicio 2\n",
    "\n",
    "## ¿Qué vamos a hacer?\n",
    "- Descargar el dataset Iris\n",
    "- Entrenar un modelo de agrupación por K-means usando Scikit-learn\n",
    "- Evaluar los resultados del modelo gráficamente\n",
    "- Entrenar un modelo de clasificación por SVM sobre el mismo dataset\n",
    "- Evaluar los resultados de la clasificación\n",
    "- Comparar ambos modelos y sus resultados\n",
    "\n",
    "Recuerda seguir las instrucciones para las entregas de prácticas indicadas en [Instrucciones entregas](https://github.com/Tokio-School/Machine-Learning/blob/main/Instrucciones%20entregas.md).\n",
    "\n",
    "## Instrucciones\n",
    "- xxx"
   ]
  }
 ],
 "metadata": {
  "environment": {
   "kernel": "python3",
   "name": "common-cpu.m87",
   "type": "gcloud",
   "uri": "gcr.io/deeplearning-platform-release/base-cpu:m87"
  },
  "kernelspec": {
   "display_name": "Python 3",
   "language": "python",
   "name": "python3"
  },
  "language_info": {
   "codemirror_mode": {
    "name": "ipython",
    "version": 3
   },
   "file_extension": ".py",
   "mimetype": "text/x-python",
   "name": "python",
   "nbconvert_exporter": "python",
   "pygments_lexer": "ipython3",
   "version": "3.7.12"
  }
 },
 "nbformat": 4,
 "nbformat_minor": 5
}
