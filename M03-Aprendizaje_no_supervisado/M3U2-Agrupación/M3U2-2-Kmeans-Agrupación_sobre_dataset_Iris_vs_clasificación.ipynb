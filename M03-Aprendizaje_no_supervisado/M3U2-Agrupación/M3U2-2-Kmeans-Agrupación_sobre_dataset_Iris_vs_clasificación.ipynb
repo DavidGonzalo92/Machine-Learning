{
 "cells": [
  {
   "cell_type": "markdown",
   "id": "7eda123c-c621-46ab-b23d-abb27ff12e34",
   "metadata": {},
   "source": [
    "# K-means: Agrupación sobre dataset Iris y comparación con clasificación\n",
    "M3U2 - Ejercicio 2\n",
    "\n",
    "## ¿Qué vamos a hacer?\n",
    "- Descargar el dataset Iris\n",
    "- Entrenar un modelo de agrupación por K-means usando Scikit-learn\n",
    "- Evaluar los resultados del modelo gráficamente\n",
    "- Entrenar un modelo de clasificación por SVM sobre el mismo dataset\n",
    "- Evaluar los resultados de la clasificación\n",
    "- Comparar ambos modelos y sus resultados\n",
    "\n",
    "Recuerda seguir las instrucciones para las entregas de prácticas indicadas en [Instrucciones entregas](https://github.com/Tokio-School/Machine-Learning/blob/main/Instrucciones%20entregas.md).\n",
    "\n",
    "## Instrucciones\n",
    "En este ejercicio, vamos a comparar ambos algoritmos sobre el dataset Iris, que habíamos utilizado previamente en clasificación. De esta forma vamos a poder comparar ambos tipos de aprendizaje, el aprendizaje supervisado de la clasificación y el no supervisado de la agrupación.\n",
    "\n",
    "Habitualmente podemos confundir ambos tipos de modelos, o pensar que podemos utilizarlos para casos de uso similares. Sin embargo, siempre debemos recordar la diferencia fundamental entre ellos: que la clasificación es un aprendizaje supervisado (tenemos resultados previamente anotados y conocidos) y la agrupación no supervisado (no tenemos resultados)."
   ]
  },
  {
   "cell_type": "code",
   "execution_count": null,
   "id": "45265144-50db-465c-aec3-c50b4e56f9dc",
   "metadata": {},
   "outputs": [],
   "source": [
    "# TODO: Importa todos los módulos necesarios en esta celda"
   ]
  },
  {
   "cell_type": "markdown",
   "id": "8f9da86e-2482-4c2b-9799-2e580c33a421",
   "metadata": {},
   "source": [
    "## Descargar el dataset Iris\n",
    "\n",
    "Descarga el dataset Iris en formato *X* e *Y* para utilizarlo en este ejercicio.\n",
    "\n",
    "Puedes usar el método: [sklearn.datasets.load_iris](https://scikit-learn.org/stable/modules/generated/sklearn.datasets.load_iris.html)."
   ]
  },
  {
   "cell_type": "code",
   "execution_count": null,
   "id": "5ac7ecbd-9c76-481b-a209-9a0a6a2ea18f",
   "metadata": {},
   "outputs": [],
   "source": [
    "# TODO: Descarga el dataset Iris"
   ]
  },
  {
   "cell_type": "markdown",
   "id": "786f40a6-3696-419f-a142-d6fb6f8c0926",
   "metadata": {},
   "source": [
    "*¿Te atreves a representar en 3D sus primeras 3 características? Longitud de los sépalos, anchura de los sépalos y longitud de los pétalos*.\n",
    "\n",
    "*¿Aprecias una clara diferenciación entre clases? ¿Aprecias varios clústeres de datos?*\n",
    "\n",
    "Puedes usar como referencia estos ejercicios:\n",
    "- [The Iris Dataset](https://scikit-learn.org/stable/modules/generated/sklearn.datasets.load_iris.html)\n",
    "- [3D scatterplot](https://matplotlib.org/3.1.1/gallery/mplot3d/scatter3d.html)\n",
    "- [K-means Clustering](https://scikit-learn.org/stable/auto_examples/cluster/plot_cluster_iris.html)\n",
    "\n",
    "*NOTA:* Utilizaremos esta misma técnica de representación 3D y 3 características cuando representemos resultados a lo largo del ejercicio."
   ]
  },
  {
   "cell_type": "code",
   "execution_count": null,
   "id": "e3f9511c-8865-44c7-b8fb-dd65b06d920d",
   "metadata": {},
   "outputs": [],
   "source": [
    "# TODO: Representa en 3D 3 características del dataset 4-dimensional"
   ]
  },
  {
   "cell_type": "markdown",
   "id": "c295a255-2e9d-4e0a-97a0-03942f9a2562",
   "metadata": {},
   "source": [
    "Para analizar mejor el dataset, intenta representar otra elección de 3 características diferentes, incluyendo también la anchura del pétalo.\n",
    "\n",
    "Entre dichas combinaciones de características, representadas en diferentes gráficas, *¿puedes encontrar una diferencia entre clases más clara? ¿Varios clústeres de datos agrupados? ¿Variables más descriptoras?*\n",
    "\n",
    "Ante tales datos, que se pueden ser difíciles de apreciar tambíen para nuestros modelos, vamos a comprobar sus resultados."
   ]
  },
  {
   "cell_type": "markdown",
   "id": "86f2fcdb-2cc4-4070-b08d-15a030adcc88",
   "metadata": {},
   "source": [
    "## Preprocesar los datos\n",
    "\n",
    "Vamos a preprocesar los datos de la forma habitual:\n",
    "- Reordena aleatoriamente los ejemplos.\n",
    "- Normalízalos sólo si es necesario.\n",
    "- Divídelos en subsets de entrenamiento y test.\n",
    "\n",
    "Usaremos exclusivamente el subset de entrenamiento para entrenar nuestros modelos y el de test para evaluarlos, con validación cruzada por K-means. De esta forma nos aseguraremos de que ambos tipos de modelos se han entrenado y evaluado en igualdad de condiciones."
   ]
  },
  {
   "cell_type": "code",
   "execution_count": null,
   "id": "6add6120-33af-4a52-ac10-793050b55419",
   "metadata": {},
   "outputs": [],
   "source": [
    "# TODO: Reordena aleatoriamente, normaliza si es necesario y divide los datos en subsets de entrenamiento y test"
   ]
  },
  {
   "cell_type": "markdown",
   "id": "abe7d289-ef69-4534-8651-230d9b0b3176",
   "metadata": {},
   "source": [
    "## Entrenar un modelo de agrupación por K-means usando Scikit-learn\n",
    "\n",
    "Vamos a entrenar un modelo de agrupación por K-means usando el método de Scikit-learn [sklearn.cluster.KMeans](https://scikit-learn.org/stable/modules/generated/sklearn.cluster.KMeans.html).\n",
    "\n",
    "Dicho método acepta un nº de clústeres *n_clusters* y realiza varias inicializaciones con diferentes centroides originales, por lo que no tendremos que realizar validación cruzada en el mismo.\n",
    "\n",
    "Entrena un modelo de K-means para 3 clústeres sobre el subset de entrenamiento:"
   ]
  },
  {
   "cell_type": "code",
   "execution_count": null,
   "id": "7f49ca63-0cdb-4b6c-b6d7-0c238970c456",
   "metadata": {},
   "outputs": [],
   "source": [
    "# TODO: Entrena un modelo de K-means con Scikit-learn para 3 clústeres"
   ]
  },
  {
   "cell_type": "markdown",
   "id": "b632cdfc-6d40-488f-a7a1-6d9c7410899d",
   "metadata": {},
   "source": [
    "## Evaluar sus resultados gráficamente"
   ]
  },
  {
   "cell_type": "markdown",
   "id": "bb2c4456-88e4-4073-9e04-5d0b01dd5848",
   "metadata": {},
   "source": [
    "En esta ocasión, para evaluar el modelo de K-means vamos a usar el subset de test final, ya que disponemos del mismo.\n",
    "\n",
    "Evalúa dicho modelo con su método `model.score()` y con el coeficiente de silueta:\n",
    "\n",
    "*NOTA:* Aunque lo implementa por consistencia, `model.score()` no utiliza *Y*."
   ]
  },
  {
   "cell_type": "code",
   "execution_count": null,
   "id": "3b6b5388-a73f-4687-b569-8e5135b42f38",
   "metadata": {},
   "outputs": [],
   "source": [
    "# TODO: Evalúa dicho modelo sin usar Y sobre el subset de test"
   ]
  },
  {
   "cell_type": "markdown",
   "id": "11ebd51b-b1b8-4124-83dd-d232c9367f46",
   "metadata": {},
   "source": [
    "Representa gráficamente sus resultados:"
   ]
  },
  {
   "cell_type": "code",
   "execution_count": null,
   "id": "a3da25ec-aba4-42a7-8829-ea812a57c232",
   "metadata": {},
   "outputs": [],
   "source": [
    "# TODO: Representa gráficamente los centroides y los ejemplos asignados a cada clúster en 3D"
   ]
  },
  {
   "cell_type": "markdown",
   "id": "c613604e-c033-451c-9f12-5391cf85c247",
   "metadata": {},
   "source": [
    "## Entrenar un modelo de clasificación por SVM sobre el dataset Iris\n",
    "\n",
    "Ahora entrena un modelo de clasificación por SVM usando [sklearn.svm.SVC](https://scikit-learn.org/stable/modules/generated/sklearn.svm.SVC.html) sobre el dataset Iris.\n",
    "\n",
    "Evalúa varios valores del hiper-parámetro *C* y kernels disponibles por K-fold con [sklearn.model_selection.GridSearchCV](https://scikit-learn.org/stable/modules/generated/sklearn.model_selection.GridSearchCV.html).\n",
    "\n",
    "Para *gamma* puedes utilizar el valor por defecto o `auto`.\n",
    "\n",
    "Puedes usar como referencia este ejercicio: [Plot differente SVM classifiers in the Iris Dataset](https://scikit-learn.org/stable/auto_examples/svm/plot_iris_svc.html)."
   ]
  },
  {
   "cell_type": "code",
   "execution_count": null,
   "id": "3d8fc597-b702-40f0-9371-52bfaf931ae7",
   "metadata": {},
   "outputs": [],
   "source": [
    "# TODO: Entrena un modelo de SVC optimizando sus hiper-parámetros y kernel usado por CV con K-fold"
   ]
  },
  {
   "cell_type": "markdown",
   "id": "dae325a7-7153-421f-8ec4-23f33f433c3e",
   "metadata": {},
   "source": [
    "## Evaluar sus resultados gráficamente\n",
    "\n",
    "Al igual que hicimos en los ejercicios de la sesión anterior, evalúa el modelo finalmente sobre el subset de test y representa sus predicciones gráficamente:"
   ]
  },
  {
   "cell_type": "code",
   "execution_count": null,
   "id": "c70d8d9d-b2b6-49ca-aac5-50b69082933b",
   "metadata": {},
   "outputs": [],
   "source": [
    "# TODO: Evalúa el mejor modelo sobre el subset de test"
   ]
  },
  {
   "cell_type": "code",
   "execution_count": null,
   "id": "b15332ec-0e13-4fd3-9a8b-418481808037",
   "metadata": {},
   "outputs": [],
   "source": [
    "# TODO: Representa sus predicciones gráficamente en 3D"
   ]
  },
  {
   "cell_type": "markdown",
   "id": "d5b3a584-17bf-4bd6-898a-61f0b4eb8ce6",
   "metadata": {},
   "source": [
    "## Comparar ambos modelos y sus resultados\n",
    "\n",
    "Aunque ambas tareas, la agrupación y la clasificación son inherentemente diferentes, podemos comparar dichos resultados para destacar sus diferencias.\n",
    "\n",
    "Para ello, puedes comparar la asignación de ejemplos a cada clúster en agrupación y a cada clase en clasificación.\n",
    "\n",
    "*Nota*: Ten en cuenta la dificultad inherente de los ejemplos y características de este dataset Iris.\n",
    "\n",
    "- *¿Hay una gran diferencia en nº de ejemplos que estarían asignados a un clúster en agrupación y a una clase diferente en clasificación?*\n",
    "- *¿Qué modelo acierta más? ¿Es capaz una agrupación de tener un resultado similar a un modelo de clasificación, cuando podemos evaluar la clase real*\n",
    "- *¿Cómo es la división del espacio n-dimensional en ambos casos? ¿El espacio asignado a las clases y el asignado a los clústeres es similar en las representaciones gráficas?*"
   ]
  }
 ],
 "metadata": {
  "environment": {
   "kernel": "python3",
   "name": "common-cpu.m87",
   "type": "gcloud",
   "uri": "gcr.io/deeplearning-platform-release/base-cpu:m87"
  },
  "kernelspec": {
   "display_name": "Python 3",
   "language": "python",
   "name": "python3"
  },
  "language_info": {
   "codemirror_mode": {
    "name": "ipython",
    "version": 3
   },
   "file_extension": ".py",
   "mimetype": "text/x-python",
   "name": "python",
   "nbconvert_exporter": "python",
   "pygments_lexer": "ipython3",
   "version": "3.7.12"
  }
 },
 "nbformat": 4,
 "nbformat_minor": 5
}
