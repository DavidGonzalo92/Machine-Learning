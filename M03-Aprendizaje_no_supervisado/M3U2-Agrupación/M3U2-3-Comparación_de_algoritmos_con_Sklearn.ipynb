{
 "cells": [
  {
   "cell_type": "markdown",
   "id": "80c4fd02-5ac3-41a8-851e-4bd6c7e7e564",
   "metadata": {},
   "source": [
    "# Comparación de algoritmos con Scikit-learn\n",
    "M3U2 - Ejercicio 3\n",
    "\n",
    "## ¿Qué vamos a hacer?\n",
    "- Comparar los diferentes algoritmos de agrupación disponibles en Scikit-learn\n",
    "- Comprobar las asumpciones para el caso de K-means\n",
    "\n",
    "Recuerda seguir las instrucciones para las entregas de prácticas indicadas en [Instrucciones entregas](https://github.com/Tokio-School/Machine-Learning/blob/main/Instrucciones%20entregas.md).\n",
    "\n",
    "## Instrucciones\n",
    "- xxx"
   ]
  }
 ],
 "metadata": {
  "environment": {
   "kernel": "python3",
   "name": "common-cpu.m87",
   "type": "gcloud",
   "uri": "gcr.io/deeplearning-platform-release/base-cpu:m87"
  },
  "kernelspec": {
   "display_name": "Python 3",
   "language": "python",
   "name": "python3"
  },
  "language_info": {
   "codemirror_mode": {
    "name": "ipython",
    "version": 3
   },
   "file_extension": ".py",
   "mimetype": "text/x-python",
   "name": "python",
   "nbconvert_exporter": "python",
   "pygments_lexer": "ipython3",
   "version": "3.7.12"
  }
 },
 "nbformat": 4,
 "nbformat_minor": 5
}
