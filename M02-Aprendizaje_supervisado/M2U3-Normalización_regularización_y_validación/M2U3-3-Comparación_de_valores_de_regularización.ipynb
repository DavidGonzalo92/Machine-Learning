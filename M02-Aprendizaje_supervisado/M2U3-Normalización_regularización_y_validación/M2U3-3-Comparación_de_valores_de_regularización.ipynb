{
 "cells": [
  {
   "cell_type": "markdown",
   "id": "3064ed2b-d40e-4c47-92be-8f482d0894a1",
   "metadata": {},
   "source": [
    "# Regresión lineal: Comparación de valores de regularización\n",
    "M2U3 - Ejercicio 3\n",
    "\n",
    "## ¿Qué vamos a hacer?\n",
    "- Crear un dataset sintético para regresión lineal multivariable con un término de error aleatorio\n",
    "- Entrenar 3 modelos de regresión lineal diferentes sobre dicho dataset con diferentes valores de *lambda*\n",
    "- Comparar el efecto del valor de *lambda* sobre el modelo, su precisión y sus resíduos\n",
    "\n",
    "Recuerda seguir las instrucciones para las entregas de prácticas indicadas en [Instrucciones entregas](https://github.com/Tokio-School/Machine-Learning/blob/main/Instrucciones%20entregas.md).\n",
    "\n",
    "## Instrucciones\n",
    "- xxx"
   ]
  }
 ],
 "metadata": {
  "environment": {
   "kernel": "python3",
   "name": "common-cpu.m87",
   "type": "gcloud",
   "uri": "gcr.io/deeplearning-platform-release/base-cpu:m87"
  },
  "kernelspec": {
   "display_name": "Python 3",
   "language": "python",
   "name": "python3"
  },
  "language_info": {
   "codemirror_mode": {
    "name": "ipython",
    "version": 3
   },
   "file_extension": ".py",
   "mimetype": "text/x-python",
   "name": "python",
   "nbconvert_exporter": "python",
   "pygments_lexer": "ipython3",
   "version": "3.7.12"
  }
 },
 "nbformat": 4,
 "nbformat_minor": 5
}
