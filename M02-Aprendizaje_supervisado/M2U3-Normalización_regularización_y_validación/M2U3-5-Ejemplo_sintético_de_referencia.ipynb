{
 "cells": [
  {
   "cell_type": "markdown",
   "id": "6051a930-e5d1-4e37-a0c9-22929ea3cf14",
   "metadata": {},
   "source": [
    "# Regresión lineal: Ejemplo sintético de referencia\n",
    "M2U3 - Ejercicio 5\n",
    "\n",
    "## ¿Qué vamos a hacer?\n",
    "- Crear un notebook de referencia con todos los pasos para entrenar un modelo de regresión lineal multivariable\n",
    "- Limpiar el código de todo comentario o explicación sobrante\n",
    "- Modificar el dataset original para comprobar cómo afecta al modelo entrenado\n",
    "\n",
    "Recuerda seguir las instrucciones para las entregas de prácticas indicadas en [Instrucciones entregas](https://github.com/Tokio-School/Machine-Learning/blob/main/Instrucciones%20entregas.md).\n",
    "\n",
    "## Instrucciones\n",
    "- xxx"
   ]
  }
 ],
 "metadata": {
  "environment": {
   "kernel": "python3",
   "name": "common-cpu.m87",
   "type": "gcloud",
   "uri": "gcr.io/deeplearning-platform-release/base-cpu:m87"
  },
  "kernelspec": {
   "display_name": "Python 3",
   "language": "python",
   "name": "python3"
  },
  "language_info": {
   "codemirror_mode": {
    "name": "ipython",
    "version": 3
   },
   "file_extension": ".py",
   "mimetype": "text/x-python",
   "name": "python",
   "nbconvert_exporter": "python",
   "pygments_lexer": "ipython3",
   "version": "3.7.12"
  }
 },
 "nbformat": 4,
 "nbformat_minor": 5
}
