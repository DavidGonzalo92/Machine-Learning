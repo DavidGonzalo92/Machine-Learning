{
 "cells": [
  {
   "cell_type": "markdown",
   "id": "6051a930-e5d1-4e37-a0c9-22929ea3cf14",
   "metadata": {},
   "source": [
    "# Regresión lineal: Ejemplo sintético de referencia\n",
    "M2U3 - Ejercicio 5\n",
    "\n",
    "## ¿Qué vamos a hacer?\n",
    "- Crear un notebook de referencia con todos los pasos para entrenar un modelo de regresión lineal multivariable\n",
    "- Limpiar el código de todo comentario o explicación sobrante\n",
    "- Modificar el dataset original para comprobar cómo afecta al modelo entrenado\n",
    "\n",
    "Recuerda seguir las instrucciones para las entregas de prácticas indicadas en [Instrucciones entregas](https://github.com/Tokio-School/Machine-Learning/blob/main/Instrucciones%20entregas.md)."
   ]
  },
  {
   "cell_type": "markdown",
   "id": "b5c11f34-3150-4459-acc6-30a700f6e561",
   "metadata": {},
   "source": [
    "Éste ejercicio va a ser diferente. El último notebook era bastante largo, y contenía mucha información y explicaciones adicionales.\n",
    "\n",
    "Queremos que tengas un notebook de referencia donde puedas ver claramente qué pasos hay que seguir para entrenar un modelo de regresión lineal multivariable.\n",
    "Usaremos este notebook también como referencia para entrenar otro tipo de modelos, no de regresión lineal, y optimizar sus hiper-parámetros con un subset de validación.\n",
    "\n",
    "También queremos que aproveches la oportunidad para limpiar tus celdas de código, quitando cualquier comentario de instrucciones, consejos, etc., para poder usar estas celdas o notebook en el futuro directamente.\n",
    "\n",
    "Por tanto, tu tarea en este ejercicio será sencilla: copia las celdas de código de ejercicios anteriores, límpialas y déjalas listas como referencia para entrenar modelos de regresión lineal.\n",
    "\n",
    "*Nota*: Puedes modificar y añadir cualquier celda de markdown para añadir alguna explicación o resumen que te ayude a comprender los pasos a seguir."
   ]
  },
  {
   "cell_type": "markdown",
   "id": "95947358-f014-44c7-ae97-416596d6bdf2",
   "metadata": {},
   "source": [
    "## Crear un dataset sintético para regresión lineal\n",
    "\n",
    "- Créalo de forma manual o con los métodos específicos de Scikit-learn.\n",
    "- Añádele un término de bias y de error modificable."
   ]
  },
  {
   "cell_type": "markdown",
   "id": "8fff0e45-2cff-40ea-9028-cef22440bebd",
   "metadata": {},
   "source": [
    "## Preprocesar los datos\n",
    "\n",
    "- Reordenarlos aleatoriamente.\n",
    "- Normalizarlos.\n",
    "- Dividirlos en subsets de entrenamiento, validación y test."
   ]
  },
  {
   "cell_type": "markdown",
   "id": "38da9fd3-e834-4621-b325-f08b0f84af98",
   "metadata": {},
   "source": [
    "## Entrenar un modelo inicial\n",
    "\n",
    "- Entrenar un modelo inicial sobre el subset de entrenamiento sin regularización.\n",
    "- Representar el histórico de su coste para comprobar su evolución.\n",
    "- Comprueba la idoneidad del modelo.\n",
    "- Reentrenar el modelo variando los hiper-parámetros si es necesario.\n",
    "- Comprueba si existe desviación o sobreajuste."
   ]
  },
  {
   "cell_type": "markdown",
   "id": "f2573e33-4174-4602-bd4f-d1e6cbd6a38f",
   "metadata": {},
   "source": [
    "## Hallar la *lambda* óptima sobre el subset de validación\n",
    "\n",
    "- Entrena un modelo por cada valor de *lambda* a considerar\n",
    "- Representa gráficamente el error final sobre el subset de entrenamiento y validación de cada modelo/*lambda*\n",
    "- Escoge el modelo y valor de *lambda* óptimos"
   ]
  },
  {
   "cell_type": "markdown",
   "id": "2a385ed8-2a78-46b5-8661-ce83a7a2b457",
   "metadata": {},
   "source": [
    "## Evaluar el modelo finalmente sobre el subset de test\n",
    "\n",
    "- Calcula el coste del modelo sobre el subset de test con las correspondientes *theta* y *lambda*.\n",
    "- Muestra un resumen de su/s métrica/s de evaluación: RMSE, R^2, etc.\n",
    "- Calcula los resíduos sobre el subset de test y represéntalos."
   ]
  },
  {
   "cell_type": "markdown",
   "id": "d5247344-5e1e-47dd-92e6-77962e7959ef",
   "metadata": {},
   "source": [
    "## Realizar predicciones sobre nuevos ejemplos\n",
    "\n",
    "- Genera un nuevo ejemplo siguiendo el mismo patrón del dataset original.\n",
    "- Normaliza sus características.\n",
    "- Genera una predicción para dicho ejemplo."
   ]
  },
  {
   "cell_type": "markdown",
   "id": "16392578-bcec-47e4-9d48-d0559a7321a3",
   "metadata": {},
   "source": [
    "## Reto adicional\n",
    "\n",
    "Imagínate que en un suceso real que queremos modelar, no hemos recogido todas las características que realmente afectan al mismo. P. ej. que le afectaran 25 características y nosotros sólo hubierámos estimado o podido recoger 12 de ellas.\n",
    "\n",
    "¿Cómo podría afectarle al modelo?\n",
    "\n",
    "*¿Puedes crear un dataset sintético con un nº mayor de características que determinen *Y* mayor que el nº de características usadas para entrenar el modelo, y así comprobarlo?*"
   ]
  }
 ],
 "metadata": {
  "environment": {
   "kernel": "python3",
   "name": "common-cpu.m87",
   "type": "gcloud",
   "uri": "gcr.io/deeplearning-platform-release/base-cpu:m87"
  },
  "kernelspec": {
   "display_name": "Python 3",
   "language": "python",
   "name": "python3"
  },
  "language_info": {
   "codemirror_mode": {
    "name": "ipython",
    "version": 3
   },
   "file_extension": ".py",
   "mimetype": "text/x-python",
   "name": "python",
   "nbconvert_exporter": "python",
   "pygments_lexer": "ipython3",
   "version": "3.7.12"
  }
 },
 "nbformat": 4,
 "nbformat_minor": 5
}
