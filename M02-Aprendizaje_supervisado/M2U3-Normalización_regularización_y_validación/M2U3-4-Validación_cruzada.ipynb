{
 "cells": [
  {
   "cell_type": "markdown",
   "id": "b99297ac-4801-4c79-a2fa-901355a5801c",
   "metadata": {},
   "source": [
    "# Validación cruzada, evaluación final y métricas\n",
    "M2U3 - Ejercicio 4\n",
    "\n",
    "## ¿Qué vamos a hacer?\n",
    "- xxx\n",
    "\n",
    "## Instrucciones\n",
    "- xxx"
   ]
  }
 ],
 "metadata": {
  "environment": {
   "kernel": "python3",
   "name": "common-cpu.m87",
   "type": "gcloud",
   "uri": "gcr.io/deeplearning-platform-release/base-cpu:m87"
  },
  "kernelspec": {
   "display_name": "Python 3",
   "language": "python",
   "name": "python3"
  },
  "language_info": {
   "codemirror_mode": {
    "name": "ipython",
    "version": 3
   },
   "file_extension": ".py",
   "mimetype": "text/x-python",
   "name": "python",
   "nbconvert_exporter": "python",
   "pygments_lexer": "ipython3",
   "version": "3.7.12"
  }
 },
 "nbformat": 4,
 "nbformat_minor": 5
}
