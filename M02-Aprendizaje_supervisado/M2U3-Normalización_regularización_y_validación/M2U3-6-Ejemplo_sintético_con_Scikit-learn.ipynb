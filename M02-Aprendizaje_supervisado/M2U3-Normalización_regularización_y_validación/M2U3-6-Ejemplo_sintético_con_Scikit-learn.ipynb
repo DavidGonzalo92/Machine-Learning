{
 "cells": [
  {
   "cell_type": "markdown",
   "id": "de9426a6-87f3-40a6-8c5f-941f0a4be60d",
   "metadata": {},
   "source": [
    "# Regresión lineal: Ejemplo sintético con Scikit-learn\n",
    "M2U3 - Ejercicio 6\n",
    "\n",
    "## ¿Qué vamos a hacer?\n",
    "- Resolver un modelo de regresión lineal multivariable usando Scikit-learn.\n",
    "\n",
    "Recuerda seguir las instrucciones para las entregas de prácticas indicadas en [Instrucciones entregas](https://github.com/Tokio-School/Machine-Learning/blob/main/Instrucciones%20entregas.md).\n",
    "\n",
    "## Instrucciones\n",
    "- xxx"
   ]
  }
 ],
 "metadata": {
  "environment": {
   "kernel": "python3",
   "name": "common-cpu.m87",
   "type": "gcloud",
   "uri": "gcr.io/deeplearning-platform-release/base-cpu:m87"
  },
  "kernelspec": {
   "display_name": "Python 3",
   "language": "python",
   "name": "python3"
  },
  "language_info": {
   "codemirror_mode": {
    "name": "ipython",
    "version": 3
   },
   "file_extension": ".py",
   "mimetype": "text/x-python",
   "name": "python",
   "nbconvert_exporter": "python",
   "pygments_lexer": "ipython3",
   "version": "3.7.12"
  }
 },
 "nbformat": 4,
 "nbformat_minor": 5
}
