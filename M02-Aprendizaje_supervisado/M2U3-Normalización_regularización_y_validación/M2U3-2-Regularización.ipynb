{
 "cells": [
  {
   "cell_type": "markdown",
   "id": "89b71ed5-8c08-462d-a3f3-bdfaa4b03bb5",
   "metadata": {},
   "source": [
    "# Regularización\n",
    "M2U3 - Ejercicio 2\n",
    "\n",
    "## ¿Qué vamos a hacer?\n",
    "- xxx\n",
    "\n",
    "## Instrucciones\n",
    "- xxx"
   ]
  }
 ],
 "metadata": {
  "environment": {
   "kernel": "python3",
   "name": "common-cpu.m87",
   "type": "gcloud",
   "uri": "gcr.io/deeplearning-platform-release/base-cpu:m87"
  },
  "kernelspec": {
   "display_name": "Python 3",
   "language": "python",
   "name": "python3"
  },
  "language_info": {
   "codemirror_mode": {
    "name": "ipython",
    "version": 3
   },
   "file_extension": ".py",
   "mimetype": "text/x-python",
   "name": "python",
   "nbconvert_exporter": "python",
   "pygments_lexer": "ipython3",
   "version": "3.7.12"
  }
 },
 "nbformat": 4,
 "nbformat_minor": 5
}
