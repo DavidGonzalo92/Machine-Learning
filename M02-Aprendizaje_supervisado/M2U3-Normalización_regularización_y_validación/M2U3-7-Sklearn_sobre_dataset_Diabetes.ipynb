{
 "cells": [
  {
   "cell_type": "markdown",
   "id": "f4dca5f6-059d-47c6-ac45-5c51b5b14091",
   "metadata": {},
   "source": [
    "# Regresión lineal con Scikit-learn: Dataset Diabetes\n",
    "M2U3 - Ejercicio 7\n",
    "\n",
    "## ¿Qué vamos a hacer?\n",
    "- Analizar el dataset de muestra de diabetes de Scikit-learn\n",
    "- Entrenar un modelo de regresión lineal multivariable sobre el mismo\n",
    "- Explorar el modelo de regresión lineal de Lasso\n",
    "- Comparar la CV incluida en LassoCV con una CV manual\n",
    "\n",
    "Recuerda seguir las instrucciones para las entregas de prácticas indicadas en [Instrucciones entregas](https://github.com/Tokio-School/Machine-Learning/blob/main/Instrucciones%20entregas.md)."
   ]
  },
  {
   "cell_type": "markdown",
   "id": "3d7a9094-8412-4d53-b47a-c5c7847c07a3",
   "metadata": {},
   "source": [
    "# Regresión lineal: Scikit-learn sobre dataset Diabetes\n",
    "\n",
    "## ¿Qué vamos a hacer?\n",
    "- Analizar el dataset de muestra de diabetes de Scikit-learn\n",
    "- Entrenar un modelo de regresión lineal multivariable sobre el mismo\n",
    "- Descubrir el modelo de regresión lineal de Lasso\n",
    "- Comparar la CV incluida en LassoCV con una CV hecha manualmente\n",
    "\n",
    "Para este ejercicio puedes contar con las siguientes referencias, entre otras:\n",
    "- [Diabetes dataset](https://scikit-learn.org/stable/datasets/toy_dataset.html#diabetes-dataset)\n",
    "- [sklearn.datasets.load_diabetes](https://scikit-learn.org/stable/modules/generated/sklearn.datasets.load_diabetes.html#sklearn.datasets.load_diabetes)\n",
    "- [Cross-validation on Diabetes dataset exercise](https://scikit-learn.org/stable/auto_examples/exercises/plot_cv_diabetes.html)\n",
    "- [sklearn.model_selection.GridSearchCV](https://scikit-learn.org/stable/modules/generated/sklearn.model_selection.GridSearchCV.html)"
   ]
  },
  {
   "cell_type": "code",
   "execution_count": null,
   "id": "d1d5132d-b5d5-471f-b472-aeebad2a2fa5",
   "metadata": {},
   "outputs": [],
   "source": [
    "# TODO: Importa todos los módulos necesarios en esta celda"
   ]
  },
  {
   "cell_type": "markdown",
   "id": "19a08b87-37b8-4c56-8ab5-e51de965c84e",
   "metadata": {},
   "source": [
    "## Cargar el dataset de Diabetes\n",
    "\n",
    "Antes de comenzar a trabajar con un dataset nuevo, es interesante revisar sus características y mostrar por pantalla algunos ejemplos para hacernos una idea de qué datos contiene, en qué formato, etc:\n",
    "\n",
    "*NOTA:* Si tienes experiencia usando Pandas, puedes utilizar el método dataframe.describe()"
   ]
  },
  {
   "cell_type": "code",
   "execution_count": null,
   "id": "ff614b53-792a-47b0-92c5-8502d3ff7582",
   "metadata": {},
   "outputs": [],
   "source": [
    "# TODO: Carga el dataset de Diabetes\n",
    "# Primero cárgalo como un objeto tipo Bunch, analiza sus características y muestra algunos ejemplos\n",
    "# Luego modifica tu código y cárgalo como una tupla (X, Y) o dataset de Pandas, si lo prefieres"
   ]
  },
  {
   "cell_type": "markdown",
   "id": "7a0fad93-7978-42ec-86a1-ed9f40c3cb9c",
   "metadata": {},
   "source": [
    "## Preprocesar los datos\n",
    "- Reordenarlos aleatoriamente\n",
    "- Normalizarlos\n",
    "- Dividirlos en subsets de entrenamiento y test\n",
    "\n",
    "*Nota*: Antes de normalizar los datos de un nuevo dataset, comprueba que sea necesario y si no se han normalizado ya previamente.\n",
    "\n",
    "*Pista*: [Diabetes dataset](https://scikit-learn.org/stable/datasets/toy_dataset.html#:~:text=blood%20sugar%20level-,Note,-%3A%20Each%20of%20these)"
   ]
  },
  {
   "cell_type": "code",
   "execution_count": null,
   "id": "d6917d8e-ebc1-49c6-b3b7-0721172257ad",
   "metadata": {},
   "outputs": [],
   "source": [
    "# TODO: Reordena aleatoriamente, normaliza los datos y divide el dataset en 2 subsets, según sea necesario"
   ]
  },
  {
   "cell_type": "markdown",
   "id": "2ef3caf7-23c2-453f-b8f4-b644d64db35b",
   "metadata": {},
   "source": [
    "## Entrenar un modelo inicial\n",
    "\n",
    "- Entrena un modelo inicial sobre el subset de entrenamiento sin regularización.\n",
    "- Comprueba la idoneidad del modelo.\n",
    "- Comprueba si existe desviación o sobreajuste sobre el subset de test (en esta ocasión).\n",
    "\n",
    "Para ello, vuelve a usar un modelo de regresión lineal más simple, como el LinearRegression:"
   ]
  },
  {
   "cell_type": "code",
   "execution_count": null,
   "id": "d151c30b-09e3-4b2b-842c-cbe6e492d947",
   "metadata": {},
   "outputs": [],
   "source": [
    "# TODO: Entrena un modelo de regresión lineal más simple sobre el subset de entrenamiento sin regularización"
   ]
  },
  {
   "cell_type": "code",
   "execution_count": null,
   "id": "d1ef5fc6-d813-4e92-8172-c1787c71a55f",
   "metadata": {},
   "outputs": [],
   "source": [
    "# TODO: Comprueba la idoneidad del modelo evaluándolo sobre el subset de test con varias métricas"
   ]
  },
  {
   "cell_type": "code",
   "execution_count": null,
   "id": "87d635f9-2673-428b-ab57-b8a58925af11",
   "metadata": {},
   "outputs": [],
   "source": [
    "# TODO: Comprueba si la evaluación sobre ambos subsets es similar con el RMSE"
   ]
  },
  {
   "cell_type": "markdown",
   "id": "6e62b0fc-bd3e-4366-ac41-c09394807c74",
   "metadata": {},
   "source": [
    "## Entrenar el modelo con CV\n",
    "\n",
    "- Entrena un modelo por cada valor de regularización a considerar.\n",
    "- Entrénalos y evalúalos sobre el subset de entrenamiento por K-fold.\n",
    "- Escoge el modelo y su regularización óptimas.\n",
    "\n",
    "Entrena el modelo por el algoritmo de [Lasso](https://scikit-learn.org/stable/modules/linear_model.html#lasso):\n",
    "\n",
    "*NOTA:* Puedes basarte en el notebook del ejercicio referenciado.\n",
    "\n",
    "*PREGUNTA:* ¿Qué tipo de regularización implementa dicho algoritmo?"
   ]
  },
  {
   "cell_type": "code",
   "execution_count": null,
   "id": "88fb43a1-cc7e-4346-830a-370a67b4a690",
   "metadata": {},
   "outputs": [],
   "source": [
    "# TODO: Entrena un modelo diferente por cada alpha sobre un fold de K-fold diferente, evalúalos y escoge\n",
    "# el modelo de mejor precisión usando GridSearchCV"
   ]
  },
  {
   "cell_type": "markdown",
   "id": "09d495fd-0c01-4976-8af8-2502de6c0f6b",
   "metadata": {},
   "source": [
    "*Bonus opcional*: ¿Te atreves a hacer la misma representación gráfica de la evaluación de cada modelo para múltiples *alpha*s?"
   ]
  },
  {
   "cell_type": "markdown",
   "id": "72453f4a-c81c-43ca-8435-115230ac5831",
   "metadata": {},
   "source": [
    "## Evaluar el modelo finalmente sobre el subset de test\n",
    "\n",
    "- Muestra los coeficientes (bias e intercept) del mejor modelo.\n",
    "- Evalúa el mejor modelo sobre el subset de test inicial.\n",
    "- Calcula los residuos sobre el subset de test y represéntalos."
   ]
  },
  {
   "cell_type": "code",
   "execution_count": null,
   "id": "b10c55b9-7bed-42a0-86e3-d8669a4d402c",
   "metadata": {},
   "outputs": [],
   "source": [
    "# TODO: Evalúa el mejor modelo sobre el subset de test inicial y calcula sus residuos"
   ]
  },
  {
   "cell_type": "markdown",
   "id": "e1d136b8-f9c2-4883-b46e-d18dc8b74bbd",
   "metadata": {},
   "source": [
    "## *Bonus*: Comparar los resultados de nuestra CV con los de LassoCV\n",
    "\n",
    "Varios algoritmos permiten usar una implementación adicional que ya realiza la optimización por CV internamente, como es el caso de [LassoCV](https://scikit-learn.org/stable/modules/generated/sklearn.linear_model.LassoCV.html#sklearn.linear_model.LassoCV).\n",
    "\n",
    "Sin embargo, en muchos casos no podemos confiar del todo en que hayan escogido el mejor *alpha*. Por ello, puede ser interesante comparar los resultados de LassoCV con los de nuestro modelo de Lasso con CV manual.\n",
    "\n",
    "*¿Te atreves a implementarlo por ti mismo?*"
   ]
  },
  {
   "cell_type": "code",
   "execution_count": null,
   "id": "ca954453-453d-4fe2-861c-622e1d542ab0",
   "metadata": {
    "tags": []
   },
   "outputs": [],
   "source": [
    "# TODO: Compara los resultados de nuestro modelo entrenado por CV manualmente frente a los de LassoCV"
   ]
  },
  {
   "cell_type": "markdown",
   "id": "c22bfe52-5ad9-4542-8dea-2b581a89ab7d",
   "metadata": {},
   "source": [
    "*PREGUNTAS:*\n",
    "- ¿Cuánto puedes confiar en la selección de *alpha* de LassoCV?\n",
    "- ¿Son similares los *alpha*s escogidos por LassoCV y sus precisiones a las de nuestro modelo?"
   ]
  }
 ],
 "metadata": {
  "environment": {
   "kernel": "python3",
   "name": "common-cpu.m87",
   "type": "gcloud",
   "uri": "gcr.io/deeplearning-platform-release/base-cpu:m87"
  },
  "kernelspec": {
   "display_name": "Python 3",
   "language": "python",
   "name": "python3"
  },
  "language_info": {
   "codemirror_mode": {
    "name": "ipython",
    "version": 3
   },
   "file_extension": ".py",
   "mimetype": "text/x-python",
   "name": "python",
   "nbconvert_exporter": "python",
   "pygments_lexer": "ipython3",
   "version": "3.7.12"
  }
 },
 "nbformat": 4,
 "nbformat_minor": 5
}
