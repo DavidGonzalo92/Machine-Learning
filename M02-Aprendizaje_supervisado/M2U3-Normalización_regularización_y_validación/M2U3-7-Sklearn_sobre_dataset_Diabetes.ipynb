{
 "cells": [
  {
   "cell_type": "markdown",
   "id": "f4dca5f6-059d-47c6-ac45-5c51b5b14091",
   "metadata": {},
   "source": [
    "# Regresión lineal con Scikit-learn: Dataset Diabetes\n",
    "M2U3 - Ejercicio 7\n",
    "\n",
    "## ¿Qué vamos a hacer?\n",
    "- Analizar el dataset de muestra de diabetes de Scikit-learn\n",
    "- Entrenar un modelo de regresión lineal multivariable sobre el mismo\n",
    "- Explorar el modelo de regresión lineal de Lasso\n",
    "- Comparar la CV incluida en LassoCV con una CV manual\n",
    "\n",
    "Recuerda seguir las instrucciones para las entregas de prácticas indicadas en [Instrucciones entregas](https://github.com/Tokio-School/Machine-Learning/blob/main/Instrucciones%20entregas.md).\n",
    "\n",
    "## Instrucciones\n",
    "- xxx"
   ]
  }
 ],
 "metadata": {
  "environment": {
   "kernel": "python3",
   "name": "common-cpu.m87",
   "type": "gcloud",
   "uri": "gcr.io/deeplearning-platform-release/base-cpu:m87"
  },
  "kernelspec": {
   "display_name": "Python 3",
   "language": "python",
   "name": "python3"
  },
  "language_info": {
   "codemirror_mode": {
    "name": "ipython",
    "version": 3
   },
   "file_extension": ".py",
   "mimetype": "text/x-python",
   "name": "python",
   "nbconvert_exporter": "python",
   "pygments_lexer": "ipython3",
   "version": "3.7.12"
  }
 },
 "nbformat": 4,
 "nbformat_minor": 5
}
