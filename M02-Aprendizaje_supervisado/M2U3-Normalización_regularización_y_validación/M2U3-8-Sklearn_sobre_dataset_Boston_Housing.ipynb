{
 "cells": [
  {
   "cell_type": "markdown",
   "id": "4852003a-8978-4850-8f14-a2f007ed61f8",
   "metadata": {},
   "source": [
    "# Regresión lineal con Scikit-learn: Dataset Boston Housing\n",
    "M2U3 - Ejercicio 8\n",
    "\n",
    "## ¿Qué vamos a hacer?\n",
    "- Analizar el dataset de muestra inmobiliario de Boston Housing de Scikit-learn.\n",
    "- Entrenar un modelo de regresión lineal multivariable sobre el mismo.\n",
    "\n",
    "Recuerda seguir las instrucciones para las entregas de prácticas indicadas en [Instrucciones entregas](https://github.com/Tokio-School/Machine-Learning/blob/main/Instrucciones%20entregas.md).\n",
    "\n",
    "## Instrucciones\n",
    "- xxx"
   ]
  }
 ],
 "metadata": {
  "environment": {
   "kernel": "python3",
   "name": "common-cpu.m87",
   "type": "gcloud",
   "uri": "gcr.io/deeplearning-platform-release/base-cpu:m87"
  },
  "kernelspec": {
   "display_name": "Python 3",
   "language": "python",
   "name": "python3"
  },
  "language_info": {
   "codemirror_mode": {
    "name": "ipython",
    "version": 3
   },
   "file_extension": ".py",
   "mimetype": "text/x-python",
   "name": "python",
   "nbconvert_exporter": "python",
   "pygments_lexer": "ipython3",
   "version": "3.7.12"
  }
 },
 "nbformat": 4,
 "nbformat_minor": 5
}
