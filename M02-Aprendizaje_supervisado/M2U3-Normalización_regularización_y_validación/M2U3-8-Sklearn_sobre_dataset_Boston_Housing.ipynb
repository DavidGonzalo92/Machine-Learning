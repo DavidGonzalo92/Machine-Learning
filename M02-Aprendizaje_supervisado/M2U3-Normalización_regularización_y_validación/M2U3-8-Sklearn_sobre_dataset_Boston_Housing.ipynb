{
 "cells": [
  {
   "cell_type": "markdown",
   "id": "4852003a-8978-4850-8f14-a2f007ed61f8",
   "metadata": {},
   "source": [
    "# Scikit-learn: Dataset Boston Housing\n",
    "M2U3 - Ejercicio 8\n",
    "\n",
    "## ¿Qué vamos a hacer?\n",
    "- xxx\n",
    "\n",
    "## Instrucciones\n",
    "- xxx"
   ]
  }
 ],
 "metadata": {
  "environment": {
   "kernel": "python3",
   "name": "common-cpu.m87",
   "type": "gcloud",
   "uri": "gcr.io/deeplearning-platform-release/base-cpu:m87"
  },
  "kernelspec": {
   "display_name": "Python 3",
   "language": "python",
   "name": "python3"
  },
  "language_info": {
   "codemirror_mode": {
    "name": "ipython",
    "version": 3
   },
   "file_extension": ".py",
   "mimetype": "text/x-python",
   "name": "python",
   "nbconvert_exporter": "python",
   "pygments_lexer": "ipython3",
   "version": "3.7.12"
  }
 },
 "nbformat": 4,
 "nbformat_minor": 5
}
