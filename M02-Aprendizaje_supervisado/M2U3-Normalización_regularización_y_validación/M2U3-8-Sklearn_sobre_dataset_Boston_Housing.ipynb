{
 "cells": [
  {
   "cell_type": "markdown",
   "id": "4852003a-8978-4850-8f14-a2f007ed61f8",
   "metadata": {},
   "source": [
    "# Regresión lineal con Scikit-learn: Dataset Boston Housing\n",
    "M2U3 - Ejercicio 8\n",
    "\n",
    "## ¿Qué vamos a hacer?\n",
    "- Analizar el dataset de muestra inmobiliario de Boston Housing de Scikit-learn.\n",
    "- Entrenar un modelo de regresión lineal multivariable sobre el mismo.\n",
    "\n",
    "Recuerda seguir las instrucciones para las entregas de prácticas indicadas en [Instrucciones entregas](https://github.com/Tokio-School/Machine-Learning/blob/main/Instrucciones%20entregas.md)."
   ]
  },
  {
   "cell_type": "markdown",
   "id": "a451e552-bec3-4b9f-ac66-eb1941201cb1",
   "metadata": {},
   "source": [
    "# Regresión lineal: Scikit-learn sobre dataset Boston Housing\n",
    "\n",
    "## ¿Qué vamos a hacer?\n",
    "- Analizar el dataset de muestra inmobiliario de Boston Housing de Scikit-learn.\n",
    "- Entrenar un modelo de regresión lineal multivariable sobre el mismo.\n",
    "\n",
    "De nuevo, vamos a entrenar completamente otro modelo de regresión lineal usando Scikit-learn, y puesto que vamos a seguir los mismos pasos generalmente que en el ejercicio anterior, vamos a minimizar las indicaciones para no distraerte.\n",
    "\n",
    "Para este ejercicio puedes contar con la siguiente referencia:\n",
    "- [Boston Housing dataset](https://scikit-learn.org/stable/modules/generated/sklearn.datasets.load_boston.html#sklearn.datasets.load_boston)\n",
    "\n",
    "*NOTA:* Esta función y dataset serán deprecados en la v1.2 de Scikit-learn."
   ]
  },
  {
   "cell_type": "code",
   "execution_count": null,
   "id": "4ebdd2ce-6aa2-4660-8cff-2e190502c899",
   "metadata": {},
   "outputs": [],
   "source": [
    "# TODO: Importa todos los módulos necesarios en esta celda"
   ]
  },
  {
   "cell_type": "markdown",
   "id": "42f3ed77-f4ea-4dc7-ad1c-e00fcf67abdc",
   "metadata": {},
   "source": [
    "## Cargar el dataset de Boston Housing\n",
    "\n",
    "Antes de comenzar a trabajar con él, analíza sus características y algunos de los ejemplos incluidos."
   ]
  },
  {
   "cell_type": "code",
   "execution_count": null,
   "id": "7f354478-2145-4db3-af9e-c91d9d9731ff",
   "metadata": {},
   "outputs": [],
   "source": [
    "# TODO: Carga el dataset de Boston Housing, analiza sus características y ejemplos y, finalmente, cárgalo como\n",
    "# una tupla (X, Y)"
   ]
  },
  {
   "cell_type": "markdown",
   "id": "d023fa91-91d3-40c3-9ff8-231a9c0fb06f",
   "metadata": {},
   "source": [
    "## Preprocesar los datos\n",
    "- Reordenarlos aleatoriamente\n",
    "- Normalizarlos\n",
    "- Dividirlos en subsets de entrenamiento y test\n",
    "\n",
    "*Nota*: Antes de normalizar los datos de un nuevo dataset, comprueba que sea necesario y si no se han normalizado ya previamente."
   ]
  },
  {
   "cell_type": "code",
   "execution_count": null,
   "id": "1ed3a1ce-6f1d-4834-8ccb-1b43e864984c",
   "metadata": {},
   "outputs": [],
   "source": [
    "# TODO: Reordena aleatoriamente, normaliza los datos y divide el dataset en 2 subsets, según sea necesario"
   ]
  },
  {
   "cell_type": "markdown",
   "id": "2cd6b9b4-4ad1-4167-b4cd-c97a03edb3a9",
   "metadata": {},
   "source": [
    "## Entrenar un modelo inicial\n",
    "\n",
    "- Entrena un modelo inicial sobre el subset de entrenamiento sin regularización.\n",
    "- Comprueba la idoneidad del modelo.\n",
    "- Comprueba si existe desviación o sobreajuste.\n",
    "\n",
    "Para ello, vuelve a usar un modelo de regresión lineal omo el [Lasso](https://scikit-learn.org/stable/modules/linear_model.html#lasso) (sin regularización):"
   ]
  },
  {
   "cell_type": "code",
   "execution_count": null,
   "id": "9f5a8996-86c0-478f-be24-4db28564e2e7",
   "metadata": {},
   "outputs": [],
   "source": [
    "# TODO: Entrena un modelo de regresión lineal más simple sobre el subset de entrenamiento sin regularización"
   ]
  },
  {
   "cell_type": "code",
   "execution_count": null,
   "id": "fffc53fe-db1d-45af-89d1-49e0210b6f1d",
   "metadata": {},
   "outputs": [],
   "source": [
    "# TODO: Comprueba la idoneidad del modelo evaluándolo sobre el set de test con varias métricas"
   ]
  },
  {
   "cell_type": "code",
   "execution_count": null,
   "id": "ae473d20-2cb5-4ac4-95a6-dd2df948d943",
   "metadata": {},
   "outputs": [],
   "source": [
    "# TODO: Comprueba si la evaluación sobre ambos subsets es similar con el RMSE"
   ]
  },
  {
   "cell_type": "markdown",
   "id": "205c985f-4b71-482b-a729-999a62e02059",
   "metadata": {},
   "source": [
    "## Entrenar el modelo con CV\n",
    "\n",
    "- Entrena un modelo por cada valor de regularización a considerar.\n",
    "- Entrénalos y evalúalos sobre el subset de entrenamiento por K-fold.\n",
    "- Escoge el modelo y su regularización óptimas.\n",
    "\n",
    "Entrena el modelo por el algoritmo de [Lasso](https://scikit-learn.org/stable/modules/linear_model.html#lasso) y optimiza la regularización por GridSearchCV:"
   ]
  },
  {
   "cell_type": "code",
   "execution_count": null,
   "id": "134e87ed-863e-4081-8eb6-0e0a57110bbe",
   "metadata": {},
   "outputs": [],
   "source": [
    "# TODO: Entrena un modelo diferente por cada alpha sobre un fold de K-fold diferente, evalúalos y escoge\n",
    "# el modelo de mejor precisión usando GridSearchCV"
   ]
  },
  {
   "cell_type": "markdown",
   "id": "1b03dce4-636f-49ec-a627-8931b785e1e1",
   "metadata": {},
   "source": [
    "## Evaluar el modelo finalmente sobre el subset de test\n",
    "\n",
    "- Muestra los coeficientes y RMSE del mejor modelo.\n",
    "- Evalúa el mejor modelo sobre el subset de test inicial.\n",
    "- Calcula los residuos sobre el subset de test y represéntalos."
   ]
  },
  {
   "cell_type": "code",
   "execution_count": null,
   "id": "19558e0f-6927-4564-9641-fabaf5120ca8",
   "metadata": {},
   "outputs": [],
   "source": [
    "# TODO: Evalúa el mejor modelo sobre el subset de test inicial y calcula sus residuos"
   ]
  }
 ],
 "metadata": {
  "environment": {
   "kernel": "python3",
   "name": "common-cpu.m87",
   "type": "gcloud",
   "uri": "gcr.io/deeplearning-platform-release/base-cpu:m87"
  },
  "kernelspec": {
   "display_name": "Python 3",
   "language": "python",
   "name": "python3"
  },
  "language_info": {
   "codemirror_mode": {
    "name": "ipython",
    "version": 3
   },
   "file_extension": ".py",
   "mimetype": "text/x-python",
   "name": "python",
   "nbconvert_exporter": "python",
   "pygments_lexer": "ipython3",
   "version": "3.7.12"
  }
 },
 "nbformat": 4,
 "nbformat_minor": 5
}
