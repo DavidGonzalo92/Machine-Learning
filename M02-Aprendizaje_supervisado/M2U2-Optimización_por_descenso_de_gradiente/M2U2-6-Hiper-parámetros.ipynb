{
 "cells": [
  {
   "cell_type": "markdown",
   "id": "58ab6f1f-db65-45ea-a1b8-45afe5146a9e",
   "metadata": {},
   "source": [
    "# Hiper-parámetros\n",
    "M2U2 - Ejercicio 6\n",
    "\n",
    "## ¿Qué vamos a hacer?\n",
    "- xxx\n",
    "\n",
    "## Instrucciones\n",
    "- xxx"
   ]
  }
 ],
 "metadata": {
  "environment": {
   "kernel": "python3",
   "name": "common-cpu.m87",
   "type": "gcloud",
   "uri": "gcr.io/deeplearning-platform-release/base-cpu:m87"
  },
  "kernelspec": {
   "display_name": "Python 3",
   "language": "python",
   "name": "python3"
  },
  "language_info": {
   "codemirror_mode": {
    "name": "ipython",
    "version": 3
   },
   "file_extension": ".py",
   "mimetype": "text/x-python",
   "name": "python",
   "nbconvert_exporter": "python",
   "pygments_lexer": "ipython3",
   "version": "3.7.12"
  }
 },
 "nbformat": 4,
 "nbformat_minor": 5
}
