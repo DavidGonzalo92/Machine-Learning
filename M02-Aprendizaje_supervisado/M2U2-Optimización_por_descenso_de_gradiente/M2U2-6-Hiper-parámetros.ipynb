{
 "cells": [
  {
   "cell_type": "markdown",
   "id": "58ab6f1f-db65-45ea-a1b8-45afe5146a9e",
   "metadata": {},
   "source": [
    "# Regresión lineal: Hiper-parámetros del entrenamiento\n",
    "M2U2 - Ejercicio 6\n",
    "\n",
    "## ¿Qué vamos a hacer?\n",
    "- Comprobar el efecto de los diferentes hiper-parámetros en el entrenamiento de un modelo\n",
    "\n",
    "Recuerda seguir las instrucciones para las entregas de prácticas indicadas en [Instrucciones entregas](https://github.com/Tokio-School/Machine-Learning/blob/main/Instrucciones%20entregas.md)."
   ]
  },
  {
   "cell_type": "markdown",
   "id": "4886664c-e5bc-4697-b6e0-1d281df590b4",
   "metadata": {},
   "source": [
    "## Efecto de los hiper-parámetros\n",
    "\n",
    "En este laboratorio no vamos a introducir ningún concepto nuevo, ni a implementar ningún código que no hayamos implementado en otros ejercicios previos.\n",
    "\n",
    "El objetivo de este ejercicio es tener la oportunidad de comprobar cómo afectan los diferentes hiper-parámetros y otras configuraciones a nuestro proceso de entrenamiento.\n",
    "\n",
    "Para ello, simplemente vas a copiar tus celdas de código del ejercicio anterior ([Regresión lineal: Ejemplo sobre dataset sintético](https://github.com/Tokio-School/Machine-Learning/blob/main/M02-Aprendizaje_supervisado/M2U2-Optimizaci%C3%B3n_por_descenso_de_gradiente/M2U2-5-Dataset_sint%C3%A9tico.ipynb), vas a modificar muchas veces los hiper-parámetros utilizados y vas a comprobar su efecto sobre el entrenamiento, además de validar tu implementación de nuevo, que usarás en múltiples ejercicios posteriores.\n",
    "\n",
    "Por cierto, *¿conoces ya las hotkeys de JupyterLab? Te serán muy útiles durante el curso:* https://jupyterlab.readthedocs.io/en/stable/user/interface.html#keyboard-shortcuts"
   ]
  },
  {
   "cell_type": "code",
   "execution_count": 1,
   "id": "7be14e80-41b5-4ee7-9f93-4e545ba25ea3",
   "metadata": {},
   "outputs": [],
   "source": [
    "import time\n",
    "import numpy as np\n",
    "from matplotlib import pyplot as plt"
   ]
  },
  {
   "cell_type": "markdown",
   "id": "1b7145f0-4971-45d6-89b8-2dd0fab3f032",
   "metadata": {},
   "source": [
    "## Creación del dataset sintético\n",
    "\n",
    "Copia la celda del ejercicio anterior para crear un dataset sintético, con término de bias y término de error. Dale un valor al término de error distinto a 0."
   ]
  },
  {
   "cell_type": "code",
   "execution_count": 2,
   "id": "e6f01689-241a-44ee-8e85-e2360155bb47",
   "metadata": {},
   "outputs": [],
   "source": [
    "# TODO: Copia aquí el código de la celda correspondiente, o copia la celda completa y elimina ésta."
   ]
  },
  {
   "cell_type": "markdown",
   "id": "4556d33f-42cd-4086-8b61-0dee85b21bb9",
   "metadata": {},
   "source": [
    "## Entrenamiento del modelo\n",
    "\n",
    "Copia la celda con las funciones de coste y el gradient descent y la celda que entrena el modelo por gradient descent."
   ]
  },
  {
   "cell_type": "markdown",
   "id": "efc2c3eb-53a9-4f29-b3b5-5f6c7c89d5d9",
   "metadata": {},
   "source": [
    "## Comprobar el entrenamiento del modelo\n",
    "\n",
    "Copia la celda que representa gráficamente el histórico de la función de coste de tu modelo."
   ]
  },
  {
   "cell_type": "markdown",
   "id": "119a9adc-fb51-4ad0-b6d0-9f1b6c34fce3",
   "metadata": {},
   "source": [
    "## Evaluación del modelo\n",
    "\n",
    "Copia la celda que calcula y representa gráficamente los resíduos de tu modelo.\n",
    "\n",
    "Añádele a dicha celda el cálculo de la Y predicha (*Y_pred*) de la celda anterior, ya que sin dicha variable su código no funcionará correctamente."
   ]
  },
  {
   "cell_type": "markdown",
   "id": "19b8d4a3-e835-4d12-9de9-24b41812ff39",
   "metadata": {},
   "source": [
    "## Modifica los hiper-parámetros y comprueba su efecto.\n",
    "\n",
    "Ahora procede a modificar uno a uno los diferentes hiper-parámetros y comprueba su efecto. Los hiper-parámetros del entrenamiento y otros parámetros de configuración que vamos a modificar son los siguientes:\n",
    "1. *m* y *n*\n",
    "1. Término del error del dataset, *error*\n",
    "1. Ratio de entrenamiento, *alpha*\n",
    "1. Parámetro de convergencia, *e*\n",
    "1. Nº máximo de iteraciones, *iter_*\n",
    "\n",
    "Queremos que en esta tarea seas lo más autónomo posible, que te tomes este tiempo para poder experimentar, descubrir por ti mismo el comportamiento de dichos parámetros, para aprender cómo modificarlos en el futuro, cuando debamos modificarlos para optimizar el entrenamiento de modelos más complejos.\n",
    "\n",
    "Por tanto, *¿por qué no aprovechas para disfrutar y descubrir por tu cuenta qué puede suceder cuando los modificamos, tanto individualmente como en conjunto?*\n",
    "\n",
    "Cuando estés listo para continuar, puedes pasar al último apartado"
   ]
  },
  {
   "cell_type": "markdown",
   "id": "6aca73c2-d94d-4535-9b5b-1b5055f1aed1",
   "metadata": {},
   "source": [
    "## Modificación de los hiper-parámetros: preguntas y conclusiones\n",
    "\n",
    "Como objetivo de evaluación del ejercicio, vamos a incluir algunas preguntas simples para que las puedas responder en función de tus apreciaciones en el punto anterior. Puedes modificar esta celda de markdown y añadir tus respuestas a las mismas."
   ]
  },
  {
   "cell_type": "markdown",
   "id": "3ca92e81-0c6f-4faa-b064-b6cb46f2fe13",
   "metadata": {},
   "source": [
    "1. *¿Qué sucede cuando aumentamos el nº de ejemplos?*\n",
    "1. *¿Cómo afecta al tiempo de entrenamiento?*\n",
    "1. *¿Cómo afecta a la precisión o coste final del modelo?*\n",
    "1. *¿Qué sucede cuando aumentamos el nº de características? ¿Cómo afecta al tiempo de entrenamiento y a la precisión del modelo?*\n",
    "1. *¿Cómo afecta el término del error a tu entrenamiento? A su precisión, al nº de iteraciones hasta que converge...*\n",
    "1. *¿Cómo afecta el nº máximo de iteraciones al entrenamiento? ¿Tiene algo que ver con el tiempo de entrenamiento, la precisión final, etc.?*\n",
    "1. *¿Hay un límite del nº máximo de iteraciones? ¿Podemos aumentar este nº hasta el infinito para conseguir p. ej. mejorar la precisión?*\n",
    "1. *¿Están relacionados el nº máximo de iteraciones y el parámetro de convergencia del entrenamiento?*\n",
    "1. *¿Está relacionado el parámetro de convergencia y el coste final del modelo?*\n",
    "1. *¿Cómo afecta el ratio de entrenamiento al modelo? ¿Afecta a su velocidad, a su precisión?*\n",
    "1. *¿Podemos elevar el ratio de entrenamiento hasta el infinito? ¿Hay algún límite a partir del cual deje de funcionar, tanto en valor máximo como mínimo?*"
   ]
  },
  {
   "cell_type": "markdown",
   "id": "0ec88c16-3d8a-4591-b8e7-d1672dcc9874",
   "metadata": {},
   "source": [
    "Curiosidades: Vamos a testear tu entorno de trabajo actual. Ésto nos dará una idea a nosotros sobre su potencia, pero también una referencia para ti, para recordarla en el futuro y conocer sus límites:\n",
    "1. *¿Cuál es el nº máximo de ejemplos y características que admite los recursos de tu entorno de trabajo actual?* Haz varias pruebas, y cuando alcances el límite de características, modifica el nº de ejemplos. Saca unos 3 puntos de combinaciones de ambos valores a partir de los cuales tu entorno te arroje un error de recursos\n",
    "\n",
    "1. Hazte una idea del tiempo de entrenamiento que necesita un modelo típico en tu entorno para un algoritmo básico, como es la regresión lineal. Con un término de error del 15%, un límite de iteraciones, ratio de aprendizaje y parámetro de convergencia suficiente, anota el tiempo que tarda el modelo en entrenarse en tu equipo. Pueba con varios valores de nº de ejemplos y características, digamos p. ej. un tamaño de dataset \"pequeño\", \"medio\" y \"grande\"."
   ]
  },
  {
   "cell_type": "code",
   "execution_count": null,
   "id": "66ad5f43-8a0c-4f74-9333-c942eb61f97a",
   "metadata": {},
   "outputs": [],
   "source": [
    "# TODO: Representa visualmente en una gráfica de líneas los tiempos de entrenamiento para los 3 tamaños de dataset"
   ]
  },
  {
   "cell_type": "markdown",
   "id": "f3beb1de-7137-4577-b92e-b18d72ebbc1b",
   "metadata": {},
   "source": [
    "Por último, *¿hay alguna conclusión adicional que hayas descubierto y no se incluya en las preguntas anteriores? ¡Estamos deseando oirte!*"
   ]
  }
 ],
 "metadata": {
  "environment": {
   "kernel": "python3",
   "name": "common-cpu.m87",
   "type": "gcloud",
   "uri": "gcr.io/deeplearning-platform-release/base-cpu:m87"
  },
  "kernelspec": {
   "display_name": "Python 3",
   "language": "python",
   "name": "python3"
  },
  "language_info": {
   "codemirror_mode": {
    "name": "ipython",
    "version": 3
   },
   "file_extension": ".py",
   "mimetype": "text/x-python",
   "name": "python",
   "nbconvert_exporter": "python",
   "pygments_lexer": "ipython3",
   "version": "3.7.12"
  }
 },
 "nbformat": 4,
 "nbformat_minor": 5
}
