{
 "cells": [
  {
   "cell_type": "markdown",
   "id": "24b8dffe-b786-4809-8670-0c2c892da116",
   "metadata": {},
   "source": [
    "# Regresión lineal: Ejemplo sobre dataset inmobiliario real\n",
    "M2U2 - Ejercicio 8\n",
    "\n",
    "## ¿Qué vamos a hacer?\n",
    "- Entrenar un modelo de ML de regresión lineal multivariable sobre un dataset inmobiliario real\n",
    "\n",
    "Recuerda seguir las instrucciones para las entregas de prácticas indicadas en [Instrucciones entregas](https://github.com/Tokio-School/Machine-Learning/blob/main/Instrucciones%20entregas.md).\n",
    "\n",
    "## Instrucciones\n",
    "- xxx"
   ]
  }
 ],
 "metadata": {
  "environment": {
   "kernel": "python3",
   "name": "common-cpu.m87",
   "type": "gcloud",
   "uri": "gcr.io/deeplearning-platform-release/base-cpu:m87"
  },
  "kernelspec": {
   "display_name": "Python 3",
   "language": "python",
   "name": "python3"
  },
  "language_info": {
   "codemirror_mode": {
    "name": "ipython",
    "version": 3
   },
   "file_extension": ".py",
   "mimetype": "text/x-python",
   "name": "python",
   "nbconvert_exporter": "python",
   "pygments_lexer": "ipython3",
   "version": "3.7.12"
  }
 },
 "nbformat": 4,
 "nbformat_minor": 5
}
