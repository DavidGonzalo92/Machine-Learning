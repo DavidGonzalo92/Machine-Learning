{
 "cells": [
  {
   "cell_type": "markdown",
   "id": "7770db87-84a8-4449-9a79-84bbaf5cb644",
   "metadata": {
    "tags": []
   },
   "source": [
    "# Regresión lineal: Ejemplo sobre dataset de diabetes real\n",
    "M2U2 - Ejercicio 9\n",
    "\n",
    "## ¿Qué vamos a hacer?\n",
    "- Entrenar un modelo de ML de regresión lineal multivariable sobre un dataset real\n",
    "\n",
    "Recuerda seguir las instrucciones para las entregas de prácticas indicadas en [Instrucciones entregas](https://github.com/Tokio-School/Machine-Learning/blob/main/Instrucciones%20entregas.md)."
   ]
  },
  {
   "cell_type": "markdown",
   "id": "81290257-7dcf-4851-9a15-03bd27f00170",
   "metadata": {},
   "source": [
    "## Dataset de evolución de la diabetes\n",
    "\n",
    "Este ejercicio complementa como 2º dataset real al ejercicio anterior.\n",
    "\n",
    "Este dataset es un dataset pequeño, de sólo 442 ejemplos y 10 características, representando la evolución de diabetes en algunos pacientes.\n",
    "\n",
    "Puedes encontrar el dataset y ejemplos de cómo descargarlo aquí: [Diabetes dataset](https://scikit-learn.org/stable/datasets/toy_dataset.html#diabetes-dataset)\n",
    "\n",
    "Comprueba el dataset. Tal vez tengas que hacer alguna pequeña modificación sobre los datos o tu implementación para resolverlo según el método que hemos venido utilizando."
   ]
  },
  {
   "cell_type": "code",
   "execution_count": null,
   "id": "58299ab7-7026-4d23-bf1b-a12c32da41e3",
   "metadata": {},
   "outputs": [],
   "source": [
    "# TODO: Explora el dataset, descárgalo, explora sus ejemplos y visualiza sus características\n",
    "\n",
    "# Carga el dataset\n",
    "[...]\n",
    "\n",
    "# Explora algunos ejemplos (al menos 5)\n",
    "[...]\n",
    "\n",
    "# Representa la variable objetivo y al menos 3 características que consideres muy significativas con una gráfica boxplot\n",
    "[...]"
   ]
  },
  {
   "cell_type": "markdown",
   "id": "2a472ee0-ba0e-474a-adb4-50f491bbba9e",
   "metadata": {},
   "source": [
    "## Entrenar el modelo, comprobar su proceso de entrenamiento y evaluar su resultado final\n",
    "\n",
    "Para este ejercicio no vas a tener instrucciones concretas, una guía o una plantilla de celdas de código, sino que queremos darte la libertad y la posibildad de enfrentarte a tu primer problema real, desde 0.\n",
    "\n",
    "Los objetivos de este ejercicio son, de nuevo:\n",
    "1. Descargarte el dataset para entrenar el modelo\n",
    "1. Entrenar un modelo de regresión lineal multivariable sobre dicho dataset, que tratará de predecir las valoraciones inmobiliarias en Boston\n",
    "1. Comprobar el proceso de entrenamiento del modelo\n",
    "1. Evaluar el modelo comprobando su peso final y la gráfica de sus residuos\n",
    "\n",
    "Para ello, fíjate en los pasos que has seguido en ejercicios anteriores y copia aquí las celdas y código que necesites para poder resolverlo.\n",
    "\n",
    "¡Ánimo!"
   ]
  },
  {
   "cell_type": "markdown",
   "id": "a0a91c86-9d69-4fca-863f-a09bece77ccf",
   "metadata": {},
   "source": [
    "*BONUS:* Échale un vistazo a la fuente del dataset, que encontrarás en Scikit-learn, *¿de dónde viene? ¿Qué artículos, trabajos y tutoriales lo referencian?*"
   ]
  }
 ],
 "metadata": {
  "environment": {
   "kernel": "python3",
   "name": "common-cpu.m87",
   "type": "gcloud",
   "uri": "gcr.io/deeplearning-platform-release/base-cpu:m87"
  },
  "kernelspec": {
   "display_name": "Python 3",
   "language": "python",
   "name": "python3"
  },
  "language_info": {
   "codemirror_mode": {
    "name": "ipython",
    "version": 3
   },
   "file_extension": ".py",
   "mimetype": "text/x-python",
   "name": "python",
   "nbconvert_exporter": "python",
   "pygments_lexer": "ipython3",
   "version": "3.7.12"
  }
 },
 "nbformat": 4,
 "nbformat_minor": 5
}
