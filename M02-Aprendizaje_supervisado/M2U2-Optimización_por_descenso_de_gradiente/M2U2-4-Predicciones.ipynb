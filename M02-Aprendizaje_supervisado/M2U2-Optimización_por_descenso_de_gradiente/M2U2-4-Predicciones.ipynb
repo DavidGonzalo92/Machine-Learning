{
 "cells": [
  {
   "cell_type": "markdown",
   "id": "3c66bed4-806b-4376-9650-d5ee945a70d1",
   "metadata": {},
   "source": [
    "# Regresión lineal: Predicciones\n",
    "M2U2 - Ejercicio 4\n",
    "\n",
    "## ¿Qué vamos a hacer?\n",
    "- Realizar predicciones con un modelo\n",
    "\n",
    "Recuerda seguir las instrucciones para las entregas de prácticas indicadas en [Instrucciones entregas](https://github.com/Tokio-School/Machine-Learning/blob/main/Instrucciones%20entregas.md)."
   ]
  },
  {
   "cell_type": "markdown",
   "id": "bf263410-2b66-44fc-8b1b-bd58464aa1d4",
   "metadata": {},
   "source": [
    "## Tarea 1: Crear un dataset sintético\n",
    "\n",
    "Genera un dataset sintético para esta tarea. En este caso, no usaremos el dataset para calcular una $\\Theta$, los coeficientes del modelo, sino que vamos a usar la $\\Theta$ para realizar predicciones sobre nuevos ejemplos."
   ]
  },
  {
   "cell_type": "code",
   "execution_count": null,
   "id": "7fd1cec1-42c4-431a-a14f-627cd1ddd753",
   "metadata": {},
   "outputs": [],
   "source": [
    "# TODO: Genera un dataset sintético, sin término de error, de la forma que prefieras\n",
    "\n",
    "m = 0\n",
    "n = 0\n",
    "\n",
    "X = [...]\n",
    "Theta = [...]\n",
    "Y = [...]\n",
    "\n",
    "# Comprueba los valores y dimensiones (forma o \"shape\") de los vectores\n",
    "print('Theta a estimar:')\n",
    "print()\n",
    "\n",
    "print('Primeras 10 filas y 5 columnas de X e Y:')\n",
    "print()\n",
    "print()\n",
    "\n",
    "print('Dimensiones de X e Y:')\n",
    "print('shape', 'shape')"
   ]
  },
  {
   "cell_type": "markdown",
   "id": "f087776a-d154-44b1-b77c-d34daddcd633",
   "metadata": {},
   "source": [
    "## Tarea 2: Realiza predicciones con el modelo\n",
    "\n",
    "El modelo se compone únicamente de los coeficientes $\\Theta$, no necesitamos X o Y para definir el modelo.\n",
    "\n",
    "Una vez obtenida la $\\Theta$ óptima, entrenando el modelo o generando el dataset directamente como en esta ocasión, usaremos la ecuación de la regresión lineal para realizar predicciones:\n",
    "\n",
    "$Y_{pred} = X \\times \\Theta$"
   ]
  },
  {
   "cell_type": "code",
   "execution_count": null,
   "id": "2ca1fa74-480f-47e7-b773-9b5ce57ad6f4",
   "metadata": {},
   "outputs": [],
   "source": [
    "# TODO: Realiza predicciones usando los coeficientes Theta\n",
    "\n",
    "def predict(x, theta):\n",
    "    \"\"\" Realiza predicciones para nuevos ejemplos\n",
    "\n",
    "    Argumentos posicionales:\n",
    "    x -- array 2D de Numpy con los valores de las variables independientes de los ejemplos, de tamaño m x n\n",
    "    theta -- array 1D de Numpy con los pesos de los coeficientes del modelo, de tamaño 1 x n (vector fila)\n",
    "    \n",
    "    Devuelve:\n",
    "    y_pred -- array 1D de Numpy con la variable dependiente/objetivo, de tamaño m x 1\n",
    "    \"\"\"\n",
    "    y_pred = [...]\n",
    "    \n",
    "    return y_pred"
   ]
  },
  {
   "cell_type": "markdown",
   "id": "257a648d-49eb-4904-89d6-839880646efe",
   "metadata": {},
   "source": [
    "Para realizar predicciones, comprueba que obtienes un valor muy similar a la Y original:"
   ]
  },
  {
   "cell_type": "code",
   "execution_count": null,
   "id": "017436c0-97c3-4cc6-958a-1075fa8b3520",
   "metadata": {},
   "outputs": [],
   "source": [
    "# TODO: Comprueba la diferencia entre tus predicciones y la Y original, i.e. los residuos\n",
    "\n",
    "y_pred = predict(x, theta)\n",
    "\n",
    "# Calcula la diferencia en valor absoluto entre la Y_pred y la Y original\n",
    "residuos = [...]\n",
    "\n",
    "print(residuos)"
   ]
  },
  {
   "cell_type": "markdown",
   "id": "950804e3-b619-4c65-b340-07b9f4ced974",
   "metadata": {},
   "source": [
    "Para crear múltiples subgráficas, ¿te atreves a usar la función subplots de Matplotlib?\n",
    "\n",
    "https://matplotlib.org/stable/gallery/subplots_axes_and_figures/subplots_demo.html"
   ]
  },
  {
   "cell_type": "code",
   "execution_count": null,
   "id": "b792fe0a-e17b-47f6-b9ac-950d6b3d2eda",
   "metadata": {},
   "outputs": [],
   "source": [
    "# TODO: Representa gráficamente las predicciones y la Y original\n",
    "\n",
    "plt.figure()\n",
    "\n",
    "# Representa un gráfico de puntos con la Y original vs la X, y la Y predicha vs la X, en colores diferentes,\n",
    "# con etiquetas para cada color\n",
    "# Representa también los resíduos para cada X como un gráfico de líneas/barras\n",
    "\n",
    "plt.title('Predicciones')\n",
    "plt.xlabel('X')\n",
    "plt.ylabel('Y real')\n",
    "\n",
    "plt.plot([...])\n",
    "\n",
    "plt.grid()\n",
    "plt.show()"
   ]
  },
  {
   "cell_type": "markdown",
   "id": "b257612e-4efd-4af5-a219-344291197f7c",
   "metadata": {},
   "source": [
    "De esta forma tan sencilla podemos realizar predicciones con un modelo.\n",
    "\n",
    "En siguientes laboratorios veremos cómo realizarlas para modelos que entrenemos nosotros mismos.\n",
    "\n",
    "### Predicciones sobre un dataset con término de error\n",
    "\n",
    "Por otro lado, estas predicciones casan bien con los valores de Y originales, ya que el dataset no tenía ningún término de error o variación.\n",
    "\n",
    "*¿Y si vuelves a tu código de generación de un dataset sintético y lo modificas para añadir un término de error?\n",
    "En este caso, ¿cómo se comportarán las predicciones? ¿Casarán con la Y original?*\n",
    "\n",
    "Puedes comprobarlo modificando la celda de código original, añadiendo un término de error a *Y* y reejecutando el resto."
   ]
  }
 ],
 "metadata": {
  "environment": {
   "kernel": "python3",
   "name": "common-cpu.m94",
   "type": "gcloud",
   "uri": "gcr.io/deeplearning-platform-release/base-cpu:m94"
  },
  "kernelspec": {
   "display_name": "Python 3",
   "language": "python",
   "name": "python3"
  },
  "language_info": {
   "codemirror_mode": {
    "name": "ipython",
    "version": 3
   },
   "file_extension": ".py",
   "mimetype": "text/x-python",
   "name": "python",
   "nbconvert_exporter": "python",
   "pygments_lexer": "ipython3",
   "version": "3.7.12"
  }
 },
 "nbformat": 4,
 "nbformat_minor": 5
}
