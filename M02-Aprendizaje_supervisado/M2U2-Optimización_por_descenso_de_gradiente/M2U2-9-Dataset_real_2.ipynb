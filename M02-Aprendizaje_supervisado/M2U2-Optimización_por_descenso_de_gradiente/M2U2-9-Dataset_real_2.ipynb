{
 "cells": [
  {
   "cell_type": "markdown",
   "id": "7770db87-84a8-4449-9a79-84bbaf5cb644",
   "metadata": {
    "tags": []
   },
   "source": [
    "# Regresión lineal: Ejemplo sobre dataset real\n",
    "M2U2 - Ejercicio 9\n",
    "\n",
    "## ¿Qué vamos a hacer?\n",
    "- Entrenar un modelo de ML de regresión lineal multivariable sobre un dataset real\n",
    "\n",
    "Recuerda seguir las instrucciones para las entregas de prácticas indicadas en [Instrucciones entregas](https://github.com/Tokio-School/Machine-Learning/blob/main/Instrucciones%20entregas.md).\n",
    "\n",
    "## Instrucciones\n",
    "- xxx"
   ]
  }
 ],
 "metadata": {
  "environment": {
   "kernel": "python3",
   "name": "common-cpu.m87",
   "type": "gcloud",
   "uri": "gcr.io/deeplearning-platform-release/base-cpu:m87"
  },
  "kernelspec": {
   "display_name": "Python 3",
   "language": "python",
   "name": "python3"
  },
  "language_info": {
   "codemirror_mode": {
    "name": "ipython",
    "version": 3
   },
   "file_extension": ".py",
   "mimetype": "text/x-python",
   "name": "python",
   "nbconvert_exporter": "python",
   "pygments_lexer": "ipython3",
   "version": "3.7.12"
  }
 },
 "nbformat": 4,
 "nbformat_minor": 5
}
