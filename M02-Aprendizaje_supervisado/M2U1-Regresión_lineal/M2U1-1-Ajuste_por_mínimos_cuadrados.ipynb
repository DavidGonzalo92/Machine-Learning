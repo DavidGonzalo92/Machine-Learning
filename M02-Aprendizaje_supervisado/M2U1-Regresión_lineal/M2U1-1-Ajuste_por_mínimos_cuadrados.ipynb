{
 "cells": [
  {
   "cell_type": "markdown",
   "id": "09a786aa-445c-4259-851a-e9fe70f57f36",
   "metadata": {},
   "source": [
    "# Regresión lineal simple: Ajuste por mínimos cuadrados\n",
    "M2U1 - Ejercicio 1\n",
    "\n",
    "## ¿Qué vamos a hacer?\n",
    "- Importar datasets en el entorno de trabajo\n",
    "- Ajustar una regresión lineal simple por mínimos cuadrados de forma manual\n",
    "- Resolver dicha regresión usando funciones matemáticas de Numpy\n",
    "- Visualizar la regresión con Matplotlib\n",
    "\n",
    "Recuerda seguir las instrucciones para las entregas de prácticas indicadas en [Instrucciones entregas](https://github.com/Tokio-School/Machine-Learning/blob/main/Instrucciones%20entregas.md)."
   ]
  },
  {
   "cell_type": "markdown",
   "id": "1997f247-8b3e-497d-b468-8dcad6344edb",
   "metadata": {},
   "source": [
    "## Tarea 1: Importar datasets\n",
    "\n",
    "Para este ejercicio debemos importar el siguiente datasets al entorno local, que usamos en un ejercicio anterior y estará disponibles en dicha unidad:\n",
    "- [M1U1-2-dataset_tarea2.csv](https://github.com/Tokio-School/Machine-Learning/blob/main/M01-Introducci%C3%B3n_al_Machine_Learning/M1U1-Introducci%C3%B3n_al_big_data_y_ML/M1U1-2-dataset_tarea2.csv)\n",
    "\n",
    "En función de tu entorno de trabajo, tendrás que seguir pasos diferentes para importarlo. Puedes importarlo tanto en Google Colab como en tu VM o entorno local, usando la interfaz de JupyterLab o usando las funcionalidades de tu entorno.\n",
    "Como los entornos son tan diferentes, no incluimos instrucciones paso a paso para ello, pero no debes tener dificultad ninguna para hacerlo :).\n",
    "\n",
    "Tómate este tiempo para familiarizarte con tu entorno de trabajo y descubrir las opciones para importar datasets localmente."
   ]
  },
  {
   "cell_type": "markdown",
   "id": "2a94c225-5a82-43dc-995a-5d093f1932ec",
   "metadata": {},
   "source": [
    "## Tarea 2: Ajustar la regresión lineal simple por mínimos cuadrados\n",
    "\n",
    "Para esta tarea, vamos a ajustar la regresión paso a paso, calculando cada valor con Numpy para familiarizarnos con sus funciones.\n",
    "\n",
    "**Nota:** Vamos a utilizar únicamente la función de suma de Numpy. En la siguiente tarea usaremos las funciones para calcular directamente la media de un array, desviaciones típicas o covarianza."
   ]
  },
  {
   "cell_type": "code",
   "execution_count": null,
   "id": "919f7af3-3e63-42e9-aa30-92426332bfc2",
   "metadata": {},
   "outputs": [],
   "source": [
    "import numpy as np"
   ]
  },
  {
   "cell_type": "markdown",
   "id": "a90818e5-051c-41bc-b489-024b52dc5063",
   "metadata": {},
   "source": [
    "### Importar el datasets en Numpy\n",
    "\n",
    "Ejecuta la siguiente celda para importar el dataset com un array de Numpy, asegurándote de que el nombre del dataset es correcto y que el archivo se encuentra en el mismo directorio que el notebook.\n",
    "\n",
    "*NOTA:* Si utilizas Google Colab, utiliza estos métodos para subir el archivo desde local o Google Drive: [External data: Local Files, Drive, Sheets, and Cloud Storage](https://colab.research.google.com/notebooks/io.ipynb)"
   ]
  },
  {
   "cell_type": "code",
   "execution_count": null,
   "id": "ef567219-93d8-404b-80cd-f2296bdd6f38",
   "metadata": {},
   "outputs": [],
   "source": [
    "import csv\n",
    "\n",
    "with open('M1U1-2-dataset_tarea2.csv') as csvfile:\n",
    "    read_csv = list(csv.reader(csvfile))\n",
    "    \n",
    "# Eliminar cabecera\n",
    "read_csv = read_csv[1:]\n",
    "\n",
    "# Cambiar el caracter de coma decimal a puntos\n",
    "for line in read_csv:\n",
    "    for i in [0, 1]:\n",
    "        line[i] = line[i].replace(',', '.')\n",
    "    \n",
    "    \n",
    "# Cargar como array de Numpy\n",
    "dataset = np.asarray(read_csv).astype(np.float)\n",
    "\n",
    "print(dataset)"
   ]
  },
  {
   "cell_type": "markdown",
   "id": "9829d322-e107-48ac-96c3-514cf8f1aec9",
   "metadata": {},
   "source": [
    "Ya disponemos de los datos en un array 2D de Numpy.\n",
    "\n",
    "Ahora, completa el código de las siguientes celdas para ajustar la regresión lineal:"
   ]
  },
  {
   "cell_type": "code",
   "execution_count": null,
   "id": "33cbd408-f9e0-4a8e-b0c2-a29708ad27b8",
   "metadata": {},
   "outputs": [],
   "source": [
    "## TODO: Crea 2 arrays 1D a partir del dataset importado que correspondan a las columnas X e Y del CSV\n",
    "\n",
    "X = [...]\n",
    "Y = [...]"
   ]
  },
  {
   "cell_type": "code",
   "execution_count": null,
   "id": "34d8e1fc-6dbb-488b-8ea7-2f312ecc5c87",
   "metadata": {},
   "outputs": [],
   "source": [
    "## TODO: Antes de entrenar el modelo, representa los datos en una gráfica de puntos de Matplotlib\n",
    "\n",
    "import matplotlib.pyplot as plt\n",
    "\n",
    "# Puedes usar la función scatter()\n",
    "\n",
    "plt.show()"
   ]
  },
  {
   "cell_type": "markdown",
   "id": "20d5871f-dae6-4a24-b16f-0994ab3c52ea",
   "metadata": {},
   "source": [
    "Recuerda las ecuaciones de la regresión lineal:\n",
    "\n",
    "$$Y=m \\times X + b$$\n",
    "\n",
    "$$m=\\frac{\\sum XY - \\frac{(\\sum X)(\\sum Y)}{n}}{\\sum X^2-\\frac{(\\sum X)^2}{n}}$$\n",
    "\n",
    "$$b=\\overline{Y} - m \\times \\overline{X}$$"
   ]
  },
  {
   "cell_type": "code",
   "execution_count": null,
   "id": "2213caf3-c5a1-416e-9157-e0fe0c7b0909",
   "metadata": {},
   "outputs": [],
   "source": [
    "## TODO: Calcula m usando la función np.sum(ndarray) o ndarray.sum(), donde ndarray es el array a sumar\n",
    "n = [...]\n",
    "\n",
    "# Recuerda, es una multiplicación de vectores elemento-a-elemento. Usa la función np.multiply()\n",
    "# En otros ejercicios del curso usaremos np.matmul() para multiplicar matrices 2D en su lugar\n",
    "XY = [...]\n",
    "\n",
    "X2 = [...]    # Array X al cuadrado\n",
    "\n",
    "m = [...]"
   ]
  },
  {
   "cell_type": "code",
   "execution_count": null,
   "id": "698fb7fb-ef75-49a3-b2fc-35c348f357a8",
   "metadata": {},
   "outputs": [],
   "source": [
    "## TODO: Calcula b\n",
    "\n",
    "# TODO: Sustituye \"sum_y\" y \"sum_x\" por el código o variables correspondientes\n",
    "y_avg = sum_y / n\n",
    "x_avg = sum_x / n\n",
    "\n",
    "b = [...]"
   ]
  },
  {
   "cell_type": "markdown",
   "id": "1f12efa1-8eec-4c4f-b0ea-0124c847259c",
   "metadata": {},
   "source": [
    "Evalúa el modelo calculando su R<sup>2</sup>.\n",
    "\n",
    "Recuerda las ecuaciones para calcular el coeficiente de correlación:\n",
    "\n",
    "$$R^2 = \\frac{\\sigma_{XY}}{\\sigma_X \\cdot \\sigma_Y};$$\n",
    "\n",
    "$$S_{XY} = \\frac{1}{n - 1} [\\sum_{i = 1}^{n}{x_i y_i - \\bar{x}\\bar{y}}]$$\n",
    "\n",
    "$$\\sigma_X = \\sqrt{\\frac{\\sum X^2}{n} - \\bar{X}^2};$$\n",
    "\n",
    "$$\\sigma_Y = \\sqrt{\\frac{\\sum Y^2}{n} - \\bar{Y}^2}$$\n",
    "\n",
    "*Nota:* Utilizaremos una fórmula para la covarianza ligeramente diferente de la utilizada en ejercicios anteriores."
   ]
  },
  {
   "cell_type": "code",
   "execution_count": null,
   "id": "e7404c96-db6f-4858-b543-9766a90cf6ab",
   "metadata": {},
   "outputs": [],
   "source": [
    "## TODO: Calcula R**2\n",
    "\n",
    "x_std = [...]\n",
    "y_std = [...]\n",
    "cov_xy = [...]\n",
    "\n",
    "r2 = [...]"
   ]
  },
  {
   "cell_type": "markdown",
   "id": "904e932d-f9c7-4615-8dd9-4fe4b3fc71df",
   "metadata": {},
   "source": [
    "Calcula las predicciones de Y como *y_pred* para los valores de X originales, con los coeficientes del modelo ajustado:\n",
    "\n",
    "$y\\_pred = m \\times X + b$"
   ]
  },
  {
   "cell_type": "code",
   "execution_count": null,
   "id": "cec3b5c2-31a5-4bcd-860d-e38100184a9c",
   "metadata": {},
   "outputs": [],
   "source": [
    "## TODO: Calcula y_pred\n",
    "y_pred = [...]"
   ]
  },
  {
   "cell_type": "code",
   "execution_count": null,
   "id": "160d75fd-5c06-4b27-a214-17e954f2058e",
   "metadata": {},
   "outputs": [],
   "source": [
    "# TODO: Representa con Matplotlib una gráfica con 2 series en colores diferentes: Y vs X, y_pred vs X\n",
    "# Usa una gráfica de puntos para Y vs X y una gráfica de líneas para y_pred vs X\n",
    "\n",
    "[...]"
   ]
  },
  {
   "cell_type": "markdown",
   "id": "8cdd11f5-535a-4ee9-95a3-365882ff6a45",
   "metadata": {},
   "source": [
    "## Tarea 3: Ajustar la regresión lineal usando las funciones matemáticas de Numpy\n",
    "\n",
    "Ahora, repite los pasos anteriores para ajustar la regresión lineal aprovechando todas las capacidades de Numpy, sus funciones para calcular las suma, media, desviación típica y covarianza de arrays."
   ]
  },
  {
   "cell_type": "code",
   "execution_count": null,
   "id": "0d9af855-ae41-45d3-84b5-2bfecd9abb57",
   "metadata": {},
   "outputs": [],
   "source": [
    "## TODO: Resuelve la regresión lineal con las funciones avanzadas de Numpy\n",
    "## Usa nuevos nombres de variables como np_x_avg, np_x_std, np_r2, etc.\n",
    "\n",
    "np_m = [...]\n",
    "np_b = [...]\n",
    "np_r2 = [...]"
   ]
  },
  {
   "cell_type": "markdown",
   "id": "af7aae8e-bd19-4be7-8b91-897447cd4b5d",
   "metadata": {},
   "source": [
    "## Tarea 4: Calcula los residuos y realiza predicciones\n",
    "\n",
    "Calcula los residuos de tu modelo:\n",
    "\n",
    "$residuos = Y - Y\\_pred$"
   ]
  },
  {
   "cell_type": "code",
   "execution_count": null,
   "id": "7fb0dc6d-3457-4ceb-84ef-91945c865461",
   "metadata": {},
   "outputs": [],
   "source": [
    "## TODO: Calcula los residuos y represéntalos con Matplotlib en una gráfica de puntos vs X\n",
    "\n",
    "res = [...]\n",
    "\n",
    "# Gráfica de Matplotlib"
   ]
  },
  {
   "cell_type": "markdown",
   "id": "af7cc76d-4683-473c-a8d0-ab44c302441d",
   "metadata": {},
   "source": [
    "Realiza predicciones para 2 (o más) valores nuevos de X, 1 valor para interpolación y 1 valor para extrapolación."
   ]
  },
  {
   "cell_type": "code",
   "execution_count": null,
   "id": "aada49b7-7cc0-4a73-9780-93dbea3b934e",
   "metadata": {},
   "outputs": [],
   "source": [
    "# TODO: Realiza predicciones con el modelo ajustado\n",
    "\n",
    "x_interpol = [...]\n",
    "y_interpol = [...]\n",
    "\n",
    "x_extrapol = [...]\n",
    "y_extrapol = [...]"
   ]
  },
  {
   "cell_type": "markdown",
   "id": "3b22110e-860e-4e63-99bb-02bb235f604b",
   "metadata": {},
   "source": [
    "Representa gráficamente las predicciones sobre los valores de entrenamiento"
   ]
  },
  {
   "cell_type": "code",
   "execution_count": null,
   "id": "24cd1e05-4fad-4aa8-b6ad-a1b74717e08f",
   "metadata": {},
   "outputs": [],
   "source": [
    "# TODO: Representa las predicciones como puntos de una serie diferente sobre la nube de puntos Y vs X de entrenamiento\n"
   ]
  },
  {
   "cell_type": "markdown",
   "id": "ab83d264-1f48-4ff5-993e-af9bebbc0cfa",
   "metadata": {},
   "source": [
    "## Tarea 5: Resolución con Scikit-learn\n",
    "\n",
    "*¿Te atreves a resolver una regresión lineal simple usando Scikit-learn? ¿Y a evalularla y realizar predicciones?*\n",
    "\n",
    "Revisa el código de este notebook y adáptalo para usar nuestros datos: https://scikit-learn.org/stable/auto_examples/linear_model/plot_ols.html"
   ]
  },
  {
   "cell_type": "code",
   "execution_count": null,
   "id": "98d7ba99-7b09-4a7a-b30c-bba72cdb393d",
   "metadata": {},
   "outputs": [],
   "source": [
    "# TODO: Resuelve la regresión lineal simple usando Scikit-learn a partir de dicho ejemplo"
   ]
  }
 ],
 "metadata": {
  "environment": {
   "kernel": "python3",
   "name": "common-cpu.m87",
   "type": "gcloud",
   "uri": "gcr.io/deeplearning-platform-release/base-cpu:m87"
  },
  "kernelspec": {
   "display_name": "Python 3",
   "language": "python",
   "name": "python3"
  },
  "language_info": {
   "codemirror_mode": {
    "name": "ipython",
    "version": 3
   },
   "file_extension": ".py",
   "mimetype": "text/x-python",
   "name": "python",
   "nbconvert_exporter": "python",
   "pygments_lexer": "ipython3",
   "version": "3.7.12"
  }
 },
 "nbformat": 4,
 "nbformat_minor": 5
}
