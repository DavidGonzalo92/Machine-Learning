{
 "cells": [
  {
   "cell_type": "markdown",
   "id": "c0ae2b82-6c66-4298-af76-72364ff94e03",
   "metadata": {},
   "source": [
    "# Datasets sintéticos\n",
    "M2U1 - Ejercicio 2\n",
    "\n",
    "## ¿Qué vamos a hacer?\n",
    "- xxx\n",
    "\n",
    "## Instrucciones\n",
    "- xxx"
   ]
  }
 ],
 "metadata": {
  "environment": {
   "kernel": "python3",
   "name": "common-cpu.m87",
   "type": "gcloud",
   "uri": "gcr.io/deeplearning-platform-release/base-cpu:m87"
  },
  "kernelspec": {
   "display_name": "Python 3",
   "language": "python",
   "name": "python3"
  },
  "language_info": {
   "codemirror_mode": {
    "name": "ipython",
    "version": 3
   },
   "file_extension": ".py",
   "mimetype": "text/x-python",
   "name": "python",
   "nbconvert_exporter": "python",
   "pygments_lexer": "ipython3",
   "version": "3.7.12"
  }
 },
 "nbformat": 4,
 "nbformat_minor": 5
}
