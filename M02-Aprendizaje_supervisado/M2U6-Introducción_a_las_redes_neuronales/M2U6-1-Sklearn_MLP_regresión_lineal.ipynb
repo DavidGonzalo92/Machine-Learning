{
 "cells": [
  {
   "cell_type": "markdown",
   "id": "6af5dc28-e41b-4170-823d-2519be463973",
   "metadata": {},
   "source": [
    "# Scikit-learn MLP: Regresión lineal con dataset California Housing\n",
    "M2U6 - Ejercicio 1\n",
    "\n",
    "## ¿Qué vamos a hacer?\n",
    "- Usar el dataset de California Housing de regresión lineal\n",
    "- Entrenar una red neuronal multicapa\n",
    "- Optimizar su regularización por validación\n",
    "- Evaluar la red neuronal sobre el subset de test\n",
    "\n",
    "Recuerda seguir las instrucciones para las entregas de prácticas indicadas en [Instrucciones entregas](https://github.com/Tokio-School/Machine-Learning/blob/main/Instrucciones%20entregas.md).\n",
    "\n",
    "## Instrucciones\n",
    "- xxx"
   ]
  }
 ],
 "metadata": {
  "environment": {
   "kernel": "python3",
   "name": "common-cpu.m87",
   "type": "gcloud",
   "uri": "gcr.io/deeplearning-platform-release/base-cpu:m87"
  },
  "kernelspec": {
   "display_name": "Python 3",
   "language": "python",
   "name": "python3"
  },
  "language_info": {
   "codemirror_mode": {
    "name": "ipython",
    "version": 3
   },
   "file_extension": ".py",
   "mimetype": "text/x-python",
   "name": "python",
   "nbconvert_exporter": "python",
   "pygments_lexer": "ipython3",
   "version": "3.7.12"
  }
 },
 "nbformat": 4,
 "nbformat_minor": 5
}
