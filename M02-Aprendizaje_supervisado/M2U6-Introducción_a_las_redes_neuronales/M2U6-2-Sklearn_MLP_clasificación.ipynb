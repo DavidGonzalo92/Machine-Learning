{
 "cells": [
  {
   "cell_type": "markdown",
   "id": "9f198998-3a32-4d6a-a918-aaf1f100f6bf",
   "metadata": {},
   "source": [
    "# Scikit-learn MLP: Clasificación con dataset Labeled Faces in the Wild\n",
    "M2U6 - Ejercicio 2\n",
    "\n",
    "## ¿Qué vamos a hacer?\n",
    "- Usar el dataset de Labeled Faces in the Wild\n",
    "- Entrenar una red neuronal multicapa de clasificación\n",
    "- Optimizar su regularización por validación\n",
    "- Evaluar la red neuronal sobre el subset de test\n",
    "\n",
    "Recuerda seguir las instrucciones para las entregas de prácticas indicadas en [Instrucciones entregas](https://github.com/Tokio-School/Machine-Learning/blob/main/Instrucciones%20entregas.md).\n",
    "\n",
    "## Instrucciones\n",
    "Vamos a entrenar otra red neuronal (RNN), en este caso de clasificación. Para ello entrenaremos una RNN profunda o multicapa (Perceptrón multi-capa) para clasificación multiclase, con la función de activación sigmoide.\n",
    "\n",
    "El dataset de clasificación multiclase sobre el que entrenaremos el modelo será un dataset real: el dataset de caras de famosos Labeled Faces in the Wild, incluido en Scikit-learn, en su versión para el problema de reconocer caras.\n",
    "\n",
    "Referencias:\n",
    "- [The Labeled Faces in the Wild face recognition dataset](https://scikit-learn.org/stable/datasets/real_world.html#labeled-faces-in-the-wild-dataset)\n",
    "- [sklearn.datasets.fetch_lfw_people](https://scikit-learn.org/stable/modules/generated/sklearn.datasets.fetch_lfw_people.html)\n",
    "- [Neuronal network models: Classification](https://scikit-learn.org/stable/modules/neural_networks_supervised.html#classification)\n",
    "- [sklearn.neural_network.MLPClassifier](https://scikit-learn.org/stable/modules/generated/sklearn.neural_network.MLPClassifier.html)"
   ]
  },
  {
   "cell_type": "code",
   "execution_count": null,
   "id": "013b77dd-1e2b-4fd5-be32-7b50f35597c9",
   "metadata": {},
   "outputs": [],
   "source": [
    "# TODO: Importa todos los módulos necesarios en esta celda"
   ]
  },
  {
   "cell_type": "markdown",
   "id": "083a863a-2ddb-4129-82e5-df6429f1adf8",
   "metadata": {},
   "source": [
    "## Descargar el dataset y analizarlo\n",
    "\n",
    "Descarga el dataset de LFW en formato `(dataset.data, dataset.target)` y analízalo para hacerte una idea de sus características, dimensionalidad, etc..\n",
    "\n",
    "P. ej., *¿necesita ser normalizado? ¿Están ordenados aleatoriamente los ejemplos?*"
   ]
  },
  {
   "cell_type": "code",
   "execution_count": null,
   "id": "3002f1c8-6bb7-473f-a771-9c0aee8a214c",
   "metadata": {},
   "outputs": [],
   "source": [
    "# TODO: Descarga el dataset y analiza algunos de sus ejemplos"
   ]
  },
  {
   "cell_type": "markdown",
   "id": "b6a679c1-f0d3-4f03-a5d6-bcdceea957e4",
   "metadata": {},
   "source": [
    "## Preprocesar los datos\n",
    "\n",
    "De nuevo, vamos a preprocesar los datos siguiendo nuestros pasos habituales, siempre que sea necesario:\n",
    "- Reordena los datos aleatoriamente.\n",
    "- Normalízalos.\n",
    "- Divídelos en subset de entrenamiento y test (usaremos validación cruzada por K-fold)."
   ]
  },
  {
   "cell_type": "code",
   "execution_count": null,
   "id": "67e295c8-2355-421a-bbe8-101bf227b452",
   "metadata": {},
   "outputs": [],
   "source": [
    "# TODO: Reordena los datos aleatoriamente"
   ]
  },
  {
   "cell_type": "code",
   "execution_count": null,
   "id": "de83c682-b7b7-45ba-b0a6-8fc8247ca621",
   "metadata": {},
   "outputs": [],
   "source": [
    "# TODO: Normaliza los datos sólo si es necesario"
   ]
  },
  {
   "cell_type": "code",
   "execution_count": null,
   "id": "6a618c22-fe9e-42cd-8689-1197ff4ce27d",
   "metadata": {},
   "outputs": [],
   "source": [
    "# TODO: Divídelos en subset de entrenamiento y test"
   ]
  },
  {
   "cell_type": "markdown",
   "id": "e9e943e5-3d55-465b-9ab3-ffa81ca5259a",
   "metadata": {},
   "source": [
    "## Entrena una RNN multicapa inicial\n",
    "\n",
    "De nuevo, para comprobar nuestra implementación y que un modelo de clasificación multiclase por RNN multicapa podría resolver este dataset, vamos a entrenar una RNN inicial, sin regularización.\n",
    "\n",
    "Entrénalo sobre el subset de entrenamiento y evalúalo con su método `model.score()` sobre el subset de test:"
   ]
  },
  {
   "cell_type": "code",
   "execution_count": null,
   "id": "4ff7d63a-989d-4000-b637-85cd18a5cbf9",
   "metadata": {},
   "outputs": [],
   "source": [
    "# TODO: Entrena una RNN multicapa sin regularización\n",
    "# Como topología, usa 2 capas intermedias de 25 nodos cada una\n",
    "hidden_layer_sizes = (25, 25)\n",
    "\n",
    "# Usa la función de activación logística sigmoide para entrenar la RNN\n",
    "activation = 'logistic'"
   ]
  },
  {
   "cell_type": "markdown",
   "id": "7ad128de-e30a-4b7e-9b56-c02f3ab249e8",
   "metadata": {},
   "source": [
    "## Optimiza la RNN por validación cruzada\n",
    "\n",
    "Vamos a optimizar los diferentes hiper-parámetros de la RNN para nuestro modelo por CV, usando K-fold.\n",
    "\n",
    "Vamos a usar [sklearn.model_selection.GridSearchCV](https://scikit-learn.org/stable/modules/generated/sklearn.model_selection.GridSearchCV.html) puesto que tenemos que optimizar 2 valores a la vez:\n",
    "- *hidden_layer_sizes*: el nº de capas ocultas y nº de neuronas por capa, en el rango `[1, 4]` capas ocultas y `[10, 50]` neuronas por capa.\n",
    "- *alpha*: parámetro de regularización L2, en el rango `[10^0, 10^7]`.\n",
    "\n",
    "Según los recursos de tu entorno de trabajo y el tiempo que le lleve entrenar los modelos, puedes evaluar cuantos valores consideres convenientes en dichos rangos:"
   ]
  },
  {
   "cell_type": "code",
   "execution_count": null,
   "id": "9eaab131-fdb7-435d-8c52-8a7d673edd94",
   "metadata": {},
   "outputs": [],
   "source": [
    "# TODO: Entrena una RNN multicapa optimizando sus hiper-parámetros hidden_layer_sizes y alpha por CV"
   ]
  },
  {
   "cell_type": "code",
   "execution_count": null,
   "id": "d63f44d1-02b7-42c4-89e2-57400e177aec",
   "metadata": {},
   "outputs": [],
   "source": [
    "# TODO: Escoge el modelo más óptimo entre los entrenados"
   ]
  },
  {
   "cell_type": "markdown",
   "id": "1d4c0b68-d460-4909-8fb5-557ab8208487",
   "metadata": {},
   "source": [
    "## Evalúa la RNN sobre el subset de test\n",
    "\n",
    "Finalmente, evalúa la RNN sobre el subset de test usando su método `model.score()`, la precisión media de las clasificaciones:"
   ]
  },
  {
   "cell_type": "code",
   "execution_count": null,
   "id": "826f54c8-8fde-44a8-9152-c794e3009416",
   "metadata": {},
   "outputs": [],
   "source": [
    "# TODO: Evalúa la RNN sobre el subset de test"
   ]
  },
  {
   "cell_type": "markdown",
   "id": "b5e7dd28-30c9-4363-aff3-d39785bcb200",
   "metadata": {},
   "source": [
    "Representa algunas de las caras predichas.\n",
    "\n",
    "Para ello, puedes seguir este ejemplo: [Faces recognition example using eigenfaces and SVMs](https://scikit-learn.org/stable/auto_examples/applications/plot_face_recognition.html) (no te preocupes por las *eigenfaces* ni los *eigenvalues*, no hemos explicado aún este concepto durante el curso)."
   ]
  },
  {
   "cell_type": "markdown",
   "id": "fc8341f0-ca80-47e7-a9c0-2a5aa75b5dda",
   "metadata": {},
   "source": [
    "*Bonus*: Compara la precisión de tu RNN con la del modelo de SVM de clasificación que usaste sobre este mismo dataset, *¿qué modelo ha conseguido mayor precisión final?*"
   ]
  }
 ],
 "metadata": {
  "environment": {
   "kernel": "python3",
   "name": "common-cpu.m87",
   "type": "gcloud",
   "uri": "gcr.io/deeplearning-platform-release/base-cpu:m87"
  },
  "kernelspec": {
   "display_name": "Python 3",
   "language": "python",
   "name": "python3"
  },
  "language_info": {
   "codemirror_mode": {
    "name": "ipython",
    "version": 3
   },
   "file_extension": ".py",
   "mimetype": "text/x-python",
   "name": "python",
   "nbconvert_exporter": "python",
   "pygments_lexer": "ipython3",
   "version": "3.7.12"
  }
 },
 "nbformat": 4,
 "nbformat_minor": 5
}
