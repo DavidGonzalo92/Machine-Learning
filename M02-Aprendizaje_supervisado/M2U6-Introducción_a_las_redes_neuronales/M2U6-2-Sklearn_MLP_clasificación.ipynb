{
 "cells": [
  {
   "cell_type": "markdown",
   "id": "9f198998-3a32-4d6a-a918-aaf1f100f6bf",
   "metadata": {},
   "source": [
    "# Scikit-learn MLP: Clasificación con dataset Labeled Faces in the Wild\n",
    "M2U6 - Ejercicio 2\n",
    "\n",
    "## ¿Qué vamos a hacer?\n",
    "- Usar el dataset de Labeled Faces in the Wild\n",
    "- Entrenar una red neuronal multicapa de clasificación\n",
    "- Optimizar su regularización por validación\n",
    "- Evaluar la red neuronal sobre el subset de test\n",
    "\n",
    "Recuerda seguir las instrucciones para las entregas de prácticas indicadas en [Instrucciones entregas](https://github.com/Tokio-School/Machine-Learning/blob/main/Instrucciones%20entregas.md).\n",
    "\n",
    "## Instrucciones\n",
    "- xxx"
   ]
  }
 ],
 "metadata": {
  "environment": {
   "kernel": "python3",
   "name": "common-cpu.m87",
   "type": "gcloud",
   "uri": "gcr.io/deeplearning-platform-release/base-cpu:m87"
  },
  "kernelspec": {
   "display_name": "Python 3",
   "language": "python",
   "name": "python3"
  },
  "language_info": {
   "codemirror_mode": {
    "name": "ipython",
    "version": 3
   },
   "file_extension": ".py",
   "mimetype": "text/x-python",
   "name": "python",
   "nbconvert_exporter": "python",
   "pygments_lexer": "ipython3",
   "version": "3.7.12"
  }
 },
 "nbformat": 4,
 "nbformat_minor": 5
}
