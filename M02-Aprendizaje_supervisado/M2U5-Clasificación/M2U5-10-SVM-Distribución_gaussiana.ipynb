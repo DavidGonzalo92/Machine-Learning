{
 "cells": [
  {
   "cell_type": "markdown",
   "id": "d729d579-4381-4f15-9b99-7a0afa61cdc6",
   "metadata": {
    "tags": []
   },
   "source": [
    "# SVM: Distribución gaussiana\n",
    "M2U5 - Ejercicio 10\n",
    "\n",
    "## ¿Qué vamos a hacer?\n",
    "- Implementar la función de densidad de probabilidad de la distribución gaussiana/normal multivariable\n",
    "- Representarla gráficamente\n",
    "- Comprobar cómo varía su comportamiento modificando sus parámetros de media y covarianza\n",
    "\n",
    "Recuerda seguir las instrucciones para las entregas de prácticas indicadas en [Instrucciones entregas](https://github.com/Tokio-School/Machine-Learning/blob/main/Instrucciones%20entregas.md).\n",
    "\n",
    "## Instrucciones\n",
    "La distribución normal o gaussiana es usada en ML en modelos como los SVM de kernel gaussiano o la detección de anomalías, que veremos en un módulo posterior.\n",
    "\n",
    "La distribución puede ser univariable (1 sola característica) o multivariable (2 o más), la que usaremos en este ejercicio.\n",
    "\n",
    "Esta distribución viene definida por 2 parámetros:\n",
    "- La media *mu* de las características, un vector de tamaño *n*.\n",
    "- La matriz de covarianza *Sigma* entre las características, un vector 2D de tamaño *n x n*."
   ]
  },
  {
   "cell_type": "code",
   "execution_count": null,
   "id": "b6c9e684-5f24-4c20-ab2b-02a9618fa07f",
   "metadata": {},
   "outputs": [],
   "source": [
    "import numpy as np\n",
    "\n",
    "from scipy.stats import multivariate_normal\n",
    "from matplotlib import pyplot as plt\n",
    "from matplotlib import cm\n",
    "from mpl_toolkits.mplot3d import Axes3D"
   ]
  },
  {
   "cell_type": "markdown",
   "id": "80a54427-8975-4e86-ac1b-d019ce58bdbd",
   "metadata": {},
   "source": [
    "## Implementa la función de densidad de probabilidad de la distribución gaussiana\n",
    "\n",
    "Dicha función *PDF* puede ser implementada con el método de SciPy [scipy.stats.multivariate_normal](https://docs.scipy.org/doc/scipy/reference/generated/scipy.stats.multivariate_normal.html):"
   ]
  },
  {
   "cell_type": "code",
   "execution_count": null,
   "id": "ba123994-4bd3-4c09-8746-bd598914ee7c",
   "metadata": {},
   "outputs": [],
   "source": [
    "# TODO: Define unos ndarrays de mu y sigma para 2 características o dimensiones\n",
    "\n",
    "# Define la media como ndarray 1D de 2 valores cualquiera\n",
    "mu = [...]\n",
    "\n",
    "# Define la Sigma como ndarray 2D de 2x2 valores cualquiera\n",
    "sigma = [...]"
   ]
  },
  {
   "cell_type": "markdown",
   "id": "7f50a3b9-1e82-4e98-a3ca-d020c4cb9543",
   "metadata": {},
   "source": [
    "## Represéntala gráficamente en un rango de posibles valores\n",
    "\n",
    "Para ello, crea un espacio lineal con Numpy de 100 valores en el rango `[-5, 5]` como ejemplo:"
   ]
  },
  {
   "cell_type": "code",
   "execution_count": null,
   "id": "89d3f490-a71b-4189-9ea7-68665e4e34cc",
   "metadata": {},
   "outputs": [],
   "source": [
    "# TODO: Calcula la PDF sobre un espacio lineal 2D\n",
    "\n",
    "# Crea una meshgrid con dicho espacio lineal: 100 valores entre [-5, 5]\n",
    "x1 = np.linspace([...])\n",
    "x2 = np.linspace([...])\n",
    "x1, x2 = np.meshgrid(x1, x2)\n",
    "\n",
    "xy = np.empty(x1.shape + (2,))\n",
    "xy[:,:,0] = x1\n",
    "xy[:,:,1] = x2\n",
    "\n",
    "# Calcula la PDF sobre dicha meshgrid XY, con la mu y sigma establecidas previamente\n",
    "z = multivariate_normal([...])"
   ]
  },
  {
   "cell_type": "code",
   "execution_count": null,
   "id": "1b63e653-f9a4-4b35-8924-3b3ea6806572",
   "metadata": {},
   "outputs": [],
   "source": [
    "# TODO: Representa gráficamente en 3D la PDF sobre dicho espacio\n",
    "fig = plt.figure(1)\n",
    "\n",
    "ax = fig.gca(projection='3d')\n",
    "ax.plot_surface(x1, x2, z, rstride=3, cstride=3, linewidth=1, antialiased=True, cmap=cm.viridis)\n",
    "\n",
    "cset = ax.contour(x1, x2, z, zdir='z', offset=-0.5, cmap=cm.viridis)\n",
    "\n",
    "ax.set_zlim(-0.15, 0.2)\n",
    "ax.set_zticks(np.linspace(0, 0.2, 5))\n",
    "ax.view_init(27, -21)\n",
    "\n",
    "plt.show()"
   ]
  },
  {
   "cell_type": "markdown",
   "id": "00de69e5-3d2a-4b83-8619-cfdcc37d648d",
   "metadata": {},
   "source": [
    "*Bonus*: *¿Te apetece experimentar?* Puedes modificar los parámetros de la representación anterior para comprobar cómo afecta a la gráfica 3D de Matplotlib."
   ]
  },
  {
   "cell_type": "markdown",
   "id": "5d292c18-7bbf-45a7-9332-0de73c41ac10",
   "metadata": {},
   "source": [
    "## Comprueba cómo varía su comportamiento modificando sus parámetros\n",
    "\n",
    "Hemos representado la PDF de la distribución gaussiana en 3D, usando sus 2 parámetros, *mu* y *Sigma*.\n",
    "\n",
    "*¿Por qué no compruebas qué sucede cuando cambias mu y Sigma?*\n",
    "*¿Cómo varía la gráfica cuando cambias los 2 valores de mu, por separado y a la vez?*\n",
    "*¿Cómo varía cuando cambias los 4 valores de Sigma?*"
   ]
  },
  {
   "cell_type": "markdown",
   "id": "945ccd32-44ff-4bae-8b31-2f8f63d7ccd1",
   "metadata": {},
   "source": [
    "Responde a estas preguntas con tus conclusiones:\n",
    "- Variando *mu*...\n",
    "- Variando *Sigma*..."
   ]
  }
 ],
 "metadata": {
  "environment": {
   "kernel": "python3",
   "name": "common-cpu.m87",
   "type": "gcloud",
   "uri": "gcr.io/deeplearning-platform-release/base-cpu:m87"
  },
  "kernelspec": {
   "display_name": "Python 3",
   "language": "python",
   "name": "python3"
  },
  "language_info": {
   "codemirror_mode": {
    "name": "ipython",
    "version": 3
   },
   "file_extension": ".py",
   "mimetype": "text/x-python",
   "name": "python",
   "nbconvert_exporter": "python",
   "pygments_lexer": "ipython3",
   "version": "3.7.12"
  }
 },
 "nbformat": 4,
 "nbformat_minor": 5
}
