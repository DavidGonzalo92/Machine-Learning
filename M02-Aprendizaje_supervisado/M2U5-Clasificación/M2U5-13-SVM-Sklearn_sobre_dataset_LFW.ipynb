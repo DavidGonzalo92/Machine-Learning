{
 "cells": [
  {
   "cell_type": "markdown",
   "id": "698d5c36-4987-499b-bf55-0a49e04ff20b",
   "metadata": {},
   "source": [
    "# SVM: Scikit-learn sobre dataset Labeled Faces in the Wild\n",
    "M2U5 - Ejercicio 13\n",
    "\n",
    "## ¿Qué vamos a hacer?\n",
    "- Descargar y analizar el dataset Labeled Faces in the Wild (LFW)\n",
    "- Preprocesar el dataset\n",
    "- Entrenar un modelo de clasificación multiclase con SVM\n",
    "- Evaluar la precisión del modelo y representarla gráficamente\n",
    "\n",
    "Recuerda seguir las instrucciones para las entregas de prácticas indicadas en [Instrucciones entregas](https://github.com/Tokio-School/Machine-Learning/blob/main/Instrucciones%20entregas.md).\n",
    "\n",
    "## Instrucciones\n",
    "Éste va a ser un ejercicio de reto, sin instrucciones, aunque muy similar a los anteriores:\n",
    "1. Entrena un modelo de SVM para clasificar las imágenes del dataset \"Labeled Faces in the Wild\" o LFW, disponible en Scikit-learn\n",
    "1. Carga el dataset para la tarea de clasificación multiclase o \"Face Identification task\"\n",
    "1. El dataset tiene un tamaño en disco de 200 Mb, por lo que tardará unos segundos en cargarse la primera vez.\n",
    "1. Carga y preprocesa los datos, entrena un modelo inicial, optimiza su regularización, evalúalo y representa gráficamente algunas de sus predicciones y todos sus errores, para procesarlos manualmente.\n",
    "\n",
    "*Psst, recuerda que probablemente haya información y ejemplos online al respecto. ¡Ánimo!*"
   ]
  }
 ],
 "metadata": {
  "environment": {
   "kernel": "python3",
   "name": "common-cpu.m87",
   "type": "gcloud",
   "uri": "gcr.io/deeplearning-platform-release/base-cpu:m87"
  },
  "kernelspec": {
   "display_name": "Python 3",
   "language": "python",
   "name": "python3"
  },
  "language_info": {
   "codemirror_mode": {
    "name": "ipython",
    "version": 3
   },
   "file_extension": ".py",
   "mimetype": "text/x-python",
   "name": "python",
   "nbconvert_exporter": "python",
   "pygments_lexer": "ipython3",
   "version": "3.7.12"
  }
 },
 "nbformat": 4,
 "nbformat_minor": 5
}
