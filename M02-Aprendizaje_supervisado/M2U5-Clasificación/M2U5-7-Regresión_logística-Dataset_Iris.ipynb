{
 "cells": [
  {
   "cell_type": "markdown",
   "id": "8199a0fd-7f83-4390-a6c0-06b3a5e5ed92",
   "metadata": {},
   "source": [
    "# Regresión logística: Dataset Iris\n",
    "M2U5 - Ejercicio 7\n",
    "\n",
    "## ¿Qué vamos a hacer?\n",
    "- Descargar y analizar el dataset Iris\n",
    "- Preprocesar el dataset\n",
    "- Entrenar un modelo de clasificación sobre el mismo\n",
    "- Optimizar nuestro modelo con validación\n",
    "\n",
    "Recuerda seguir las instrucciones para las entregas de prácticas indicadas en [Instrucciones entregas](https://github.com/Tokio-School/Machine-Learning/blob/main/Instrucciones%20entregas.md).\n",
    "\n",
    "## Instrucciones\n",
    "El dataset Iris es uno de los más conocidos y utilizados en ML. Lo usamos habitualmente como ejemplo para explicar algoritmos de modelos, y también se usa ampliamente para comparar varios modelos entre sí, en función de su precisión en el mismo.\n",
    "\n",
    "Puedes conocer más sobre este dataset en la Wikipedia: [Conjuntos de datos flor iris](https://es.wikipedia.org/wiki/Conjunto_de_datos_flor_iris)\n",
    "\n",
    "Puedes encontrar este modelo en Scikit-learn como [dataset de ejemplo](https://scikit-learn.org/stable/datasets/toy_dataset.html#iris-dataset) y cargarlo con la función [sklearn.datasets.load_iris](https://scikit-learn.org/stable/modules/generated/sklearn.datasets.load_iris.html).\n",
    "\n",
    "En este ejercicio vas a seguir los mismos pasos del último ejercicio para resolver un modelo de clasificación de 3 clases, en este caso sobre un dataset real."
   ]
  },
  {
   "cell_type": "code",
   "execution_count": null,
   "id": "64a72dff-c3be-4a65-944e-73b65030b909",
   "metadata": {},
   "outputs": [],
   "source": [
    "# TODO: Importa todos los módulos necesarios en esta celda"
   ]
  },
  {
   "cell_type": "markdown",
   "id": "9ff80868-03e7-434c-ad4a-c12a49bd3a29",
   "metadata": {},
   "source": [
    "## Cargar el dataset Iris\n",
    "\n",
    "Carga el dataset y analiza algunos de los ejemplos para conocer más sobre él.\n",
    "\n",
    "Para representarlos gráficamente puedes guiarte por este ejemplo: [The Iris Dataset](https://scikit-learn.org/stable/auto_examples/datasets/plot_iris_dataset.html)"
   ]
  },
  {
   "cell_type": "code",
   "execution_count": null,
   "id": "2c431506-794f-4380-920c-81df66eaeb14",
   "metadata": {},
   "outputs": [],
   "source": [
    "# TODO: Carga el dataset Iris como arrays X e Y\n",
    "# Comprueba en qué formato está codificado Y"
   ]
  },
  {
   "cell_type": "code",
   "execution_count": null,
   "id": "a92380df-b9a9-4a6f-837d-61d17c091b8b",
   "metadata": {},
   "outputs": [],
   "source": [
    "# TODO: Representa gráficamente en 3D la distribución de ejemplos"
   ]
  },
  {
   "cell_type": "markdown",
   "id": "2ef83629-aefd-4adb-a79a-ac8432f2e69c",
   "metadata": {},
   "source": [
    "## Preprocesar los datos\n",
    "\n",
    "Preprocesa los datos siguiendo los pasos habituales:\n",
    "- Reordénalos aleatoriamente.\n",
    "- Normalízalos, sólo si es necesario.\n",
    "- Divídelos en subsets de entrenamiento, validación y test.\n",
    "\n",
    "*Nota*: Cuidado a la hora de dividirlos en subsets, *¿cuántos ejemplos tiene el dataset original?*"
   ]
  },
  {
   "cell_type": "code",
   "execution_count": null,
   "id": "b4ecc41a-1fe6-4baa-88d9-5c9730eaab36",
   "metadata": {},
   "outputs": [],
   "source": [
    "# TODO: Reordena los datos aleatoriamente, normalízalos sólo si es necesario y divídelos en subsets de entrenamiento, validación y test"
   ]
  },
  {
   "cell_type": "markdown",
   "id": "56e7d878-abf6-4f4e-b554-e1f31b18a2fe",
   "metadata": {},
   "source": [
    "## Implementa la función de activación sigmoide, la función de coste regularizada y la función de entrenamiento por gradient descent regularizado\n",
    "\n",
    "Copia el código de ejercicios anteriores para implementar dichas funciones:"
   ]
  },
  {
   "cell_type": "code",
   "execution_count": null,
   "id": "621fd9ac-f9dd-4111-ac7a-a3c85f07fa3b",
   "metadata": {},
   "outputs": [],
   "source": [
    "# TODO: Implementa la función sigmoide"
   ]
  },
  {
   "cell_type": "code",
   "execution_count": null,
   "id": "b165be9d-e4be-4353-95da-b49a531ef2dd",
   "metadata": {},
   "outputs": [],
   "source": [
    "# TODO: Implementa las funciones de coste y gradient descent regularizadas"
   ]
  },
  {
   "cell_type": "markdown",
   "id": "512d5fe3-c7ea-4391-833d-18fb12c3969b",
   "metadata": {},
   "source": [
    "## Entrena un modelo inicial para cada clase\n",
    "\n",
    "Para asegurarte de que tu implementación funciona bien con el formato del dataset, entrena un modelo inicial simple para cada clase sin regularización.\n",
    "\n",
    "Comprueba si tu implementación trabaja bien con el formato del dataset. Si es necesario, modifica el dataset para que puedas usarlo con tu código.\n",
    "\n",
    "Modifica los parámetros de entrenamiento y reentrénalos si es necesario:"
   ]
  },
  {
   "cell_type": "code",
   "execution_count": null,
   "id": "13c95387-addc-4930-91e3-ca9964af9d5e",
   "metadata": {},
   "outputs": [],
   "source": [
    "# TODO: Entrena tus modelos sobre el subset de entrenamiento sin regularizar"
   ]
  },
  {
   "cell_type": "markdown",
   "id": "21a787be-f3a4-4f9f-b832-3dbf0f07ad8a",
   "metadata": {},
   "source": [
    "## Halla el hiper-parámetro *lambda* óptimo por validación\n",
    "\n",
    "Una vez entrenado el modelo inicial, y viendo su rendimiento, vamos a entrenar un modelo por cada una de las 3 clases, con varios valores de *lambda*, al igual que en ejercicios pasados:"
   ]
  },
  {
   "cell_type": "code",
   "execution_count": null,
   "id": "8432c9dd-b5c6-4a6d-8fb9-7a7cdb7fb1d7",
   "metadata": {},
   "outputs": [],
   "source": [
    "# TODO: Entrena un modelo por cada valor de lambda diferente para cada una de las clases, y evalúalo sobre X_val\n",
    "\n",
    "# Usa de nuevo un espacio logarítmico entre 10 y 10^3 de 5 elementos con valores que comiencen por un decimal no-cero 1 o 3\n",
    "# Al entrenar más modelos, podemos evaluar menos valores de lambda para reducir el tiempo de entrenamiento\n",
    "lambdas = [...]"
   ]
  },
  {
   "cell_type": "code",
   "execution_count": null,
   "id": "23aaf395-42cd-4034-9920-ba493c257f11",
   "metadata": {},
   "outputs": [],
   "source": [
    "# TODO: Representa gráficamente el error final para cada valor de lambda con una gráfica por clase"
   ]
  },
  {
   "cell_type": "markdown",
   "id": "580f652d-c6c7-441e-9eb4-e5f79f0989c4",
   "metadata": {},
   "source": [
    "### Escoge el mejor modelo para cada clase\n",
    "\n",
    "Copia las celdas de código de ejercicios anteriores y modifícalas si es necesario:"
   ]
  },
  {
   "cell_type": "code",
   "execution_count": null,
   "id": "24bc1176-4619-4065-b30d-6909f5728f26",
   "metadata": {},
   "outputs": [],
   "source": [
    "# TODO: Escoge los modelos y valores de lambda óptimos para cada clase sobre el subset de validación"
   ]
  },
  {
   "cell_type": "markdown",
   "id": "04198b68-e1bd-413d-b7ad-1f891893f260",
   "metadata": {},
   "source": [
    "## Evalúa los modelos sobre el subset de test\n",
    "\n",
    "Una vez entrenados los modelos, evalúalos sobre el subset de test de la misma forma que hiciste en ejercicios previos: para todo el subset de test, realiza una predicción para cada modelo de cada clase y escoge el de mayor resultado tras el sigmoide.\n",
    "\n",
    "Con dichas predicciones, calcula los residuos y represéntalos gráficamente.\n",
    "\n",
    "De esta forma estamos evaluando nuestro modelo de cara a un entorno mucho más próximo a la realidad, usando también para ello un dataset real:"
   ]
  },
  {
   "cell_type": "code",
   "execution_count": null,
   "id": "5e83798f-7a09-49ca-86f7-9c1b6f5d26e4",
   "metadata": {},
   "outputs": [],
   "source": [
    "# TODO: Calcula el error del modelo con los resíduos sobre el subset de test y represéntalos gráficamente"
   ]
  }
 ],
 "metadata": {
  "environment": {
   "kernel": "python3",
   "name": "common-cpu.m87",
   "type": "gcloud",
   "uri": "gcr.io/deeplearning-platform-release/base-cpu:m87"
  },
  "kernelspec": {
   "display_name": "Python 3",
   "language": "python",
   "name": "python3"
  },
  "language_info": {
   "codemirror_mode": {
    "name": "ipython",
    "version": 3
   },
   "file_extension": ".py",
   "mimetype": "text/x-python",
   "name": "python",
   "nbconvert_exporter": "python",
   "pygments_lexer": "ipython3",
   "version": "3.7.12"
  }
 },
 "nbformat": 4,
 "nbformat_minor": 5
}
