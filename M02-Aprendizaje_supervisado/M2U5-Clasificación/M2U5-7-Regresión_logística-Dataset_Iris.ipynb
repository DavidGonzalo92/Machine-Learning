{
 "cells": [
  {
   "cell_type": "markdown",
   "id": "8199a0fd-7f83-4390-a6c0-06b3a5e5ed92",
   "metadata": {},
   "source": [
    "# Regresión logística: Dataset Iris\n",
    "M2U5 - Ejercicio 7\n",
    "\n",
    "## ¿Qué vamos a hacer?\n",
    "- Descargar y analizar el dataset Iris\n",
    "- Preprocesar el dataset\n",
    "- Entrenar un modelo de clasificación sobre el mismo\n",
    "- Optimizar nuestro modelo con validación\n",
    "\n",
    "Recuerda seguir las instrucciones para las entregas de prácticas indicadas en [Instrucciones entregas](https://github.com/Tokio-School/Machine-Learning/blob/main/Instrucciones%20entregas.md).\n",
    "\n",
    "## Instrucciones\n",
    "- xxx"
   ]
  }
 ],
 "metadata": {
  "environment": {
   "kernel": "python3",
   "name": "common-cpu.m87",
   "type": "gcloud",
   "uri": "gcr.io/deeplearning-platform-release/base-cpu:m87"
  },
  "kernelspec": {
   "display_name": "Python 3",
   "language": "python",
   "name": "python3"
  },
  "language_info": {
   "codemirror_mode": {
    "name": "ipython",
    "version": 3
   },
   "file_extension": ".py",
   "mimetype": "text/x-python",
   "name": "python",
   "nbconvert_exporter": "python",
   "pygments_lexer": "ipython3",
   "version": "3.7.12"
  }
 },
 "nbformat": 4,
 "nbformat_minor": 5
}
