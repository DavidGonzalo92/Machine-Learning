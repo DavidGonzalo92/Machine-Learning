{
 "cells": [
  {
   "cell_type": "markdown",
   "id": "2c330f7f-dfc7-4981-af4b-62c975587cea",
   "metadata": {},
   "source": [
    "# Regresión logística: Función de coste\n",
    "M2U5 - Ejercicio 3\n",
    "\n",
    "## ¿Qué vamos a hacer?\n",
    "- Crear un dataset sintético para regresión logística de forma manual y con Scikit-learn\n",
    "- Implementar la función de activación logística sigmoide\n",
    "- Implementar la función de coste para regresión logística\n",
    "\n",
    "Recuerda seguir las instrucciones para las entregas de prácticas indicadas en [Instrucciones entregas](https://github.com/Tokio-School/Machine-Learning/blob/main/Instrucciones%20entregas.md)."
   ]
  },
  {
   "cell_type": "code",
   "execution_count": null,
   "id": "a748824d-2e53-4cd4-b4fb-f37d09a8a93d",
   "metadata": {},
   "outputs": [],
   "source": [
    "import random\n",
    "import numpy as np"
   ]
  },
  {
   "cell_type": "markdown",
   "id": "213d76f5-c10b-4153-b79d-b8efd5d0f3f0",
   "metadata": {},
   "source": [
    "## Creación de un dataset sintético para regresión logística\n",
    "\n",
    "Vamos a crear un dataset sintético de nuevo, pero en esta ocasión para regresión logística.\n",
    "\n",
    "Vamos a descubrir cómo hacerlo con los 2 métodos que hemos usado previamente: de forma manual y con Scikit-learn, usando la función [sklearn_datasets.make_classification](https://scikit-learn.org/stable/modules/generated/sklearn.datasets.make_classification.html)."
   ]
  },
  {
   "cell_type": "code",
   "execution_count": null,
   "id": "3ddf4701-384c-468a-b36e-4ae8f73c6098",
   "metadata": {},
   "outputs": [],
   "source": [
    "# TODO: Genera un dataset sintético con término de bias y error de forma manual\n",
    "m = 100\n",
    "n = 2\n",
    "\n",
    "# Genera un array 2D m x n con valores aleatorios entre -1 y 1\n",
    "# Insértale el término de bias como una primera columna de 1s\n",
    "X = [...]\n",
    "\n",
    "# Genera un array de theta de n + 1 valores aleatorios entre [0, 1)\n",
    "Theta_verd = [...]\n",
    "\n",
    "# Calcula Y en función de X y Theta_verd\n",
    "# Transforma Y a valores de 1. y 0. (float) cuando Y >= 0.0\n",
    "# Con una probabilidad como término de error, itera sobre Y y modifica la clase asignada a la contraria, 1. a 0. y 0. a 1.\n",
    "error = 0.15\n",
    "\n",
    "Y = [...]\n",
    "Y = [...]\n",
    "Y = [...]\n",
    "\n",
    "# Comprueba los valores y dimensiones de los vectores\n",
    "print('Theta a estimar y sus dimensiones:')\n",
    "print()\n",
    "print()\n",
    "\n",
    "print('Primeras 10 filas y 5 columnas de X e Y:')\n",
    "print()\n",
    "print()\n",
    "\n",
    "print('Dimensiones de X e Y:')\n",
    "print()"
   ]
  },
  {
   "cell_type": "code",
   "execution_count": null,
   "id": "12c4f6d4-a5ae-421a-a782-f55718e726dc",
   "metadata": {},
   "outputs": [],
   "source": [
    "# TODO: Genera un dataset sintético con término de bias y error con Scikit-learn\n",
    "\n",
    "# Usa los mismos valores de m, n y error del dataset anterior\n",
    "X_sklearn = [...]\n",
    "Y_sklearn = [...]\n",
    "\n",
    "# Comprueba los valores y dimensiones de los vectores\n",
    "print('Primeras 10 filas y 5 columnas de X e Y:')\n",
    "print()\n",
    "print()\n",
    "\n",
    "print('Dimensiones de X e Y:')\n",
    "print()"
   ]
  },
  {
   "cell_type": "markdown",
   "id": "3094f456-908c-4818-98c7-873eb5fe4cd9",
   "metadata": {},
   "source": [
    "Ya que con el método de Scikit-learn no podemos recuperar los coeficientes utilizados, vamos a usar el método manual para el resto del ejercicio."
   ]
  },
  {
   "cell_type": "markdown",
   "id": "58898b2a-a012-4c9b-9ba5-7532ab5417da",
   "metadata": {},
   "source": [
    "## Implementar la función sigmoide\n",
    "\n",
    "Vamos a implementar la función de activación sigmoide. Usaremos esta función para implementar nuestra hipótesis, que transforma las predicciones del modelo a valores de 0 y 1.\n",
    "\n",
    "Función sigmoide:\n",
    "\n",
    "$$ g(z) = \\frac{1}{1 + e^{-z}} $$\n",
    "$$ Y = h_\\theta(x) = g(X \\times \\Theta) = \\frac{1}{1 + e^{-x \\times \\Theta^T}} $$"
   ]
  },
  {
   "cell_type": "code",
   "execution_count": null,
   "id": "90355b88-39d0-479c-a868-fd5329739617",
   "metadata": {},
   "outputs": [],
   "source": [
    "# TODO: Implementa la función de activación sigmoide\n",
    "\n",
    "def sigmoid(x, theta):\n",
    "    \"\"\" Devuelve el valor del sigmoide para dicha x y theta\n",
    "    \n",
    "    Argumentos posicionales:\n",
    "    x -- ndarray 1D con las características de un ejemplo\n",
    "    theta -- ndarray 1D con la fila o columna de coeficientes de las características\n",
    "    \n",
    "    Devuelve:\n",
    "    sigmoide -- float (0., 1.) con el valor del sigmoide para dichos parámetros\n",
    "    \"\"\"\n",
    "    \n",
    "    sigmoide = [...]\n",
    "    \n",
    "    return sigmoide"
   ]
  },
  {
   "cell_type": "markdown",
   "id": "4a8f01a2-8c52-4940-a378-e7f6eb61f18c",
   "metadata": {},
   "source": [
    "## Implementar la función de coste\n",
    "\n",
    "Vamos a implementar la función de coste sin regularizar. Esta función será similar a la que implementamos para regresión lineal en un ejercicio anterior.\n",
    "\n",
    "Función de coste:\n",
    "\n",
    "$$ Y = h_\\Theta(x) = g(X \\times \\Theta^T) $$\n",
    "$$ J(\\Theta) = - [\\frac{1}{m} \\sum\\limits_{i=0}^{m} (y^i log(h_\\theta(x^i)) + (1 - y^i) log(1 - h_\\theta(x^i))] $$"
   ]
  },
  {
   "cell_type": "code",
   "execution_count": null,
   "id": "868189d0-c9d1-4cdd-8d68-7f1bbac3e97b",
   "metadata": {},
   "outputs": [],
   "source": [
    "# TODO: Implementa la función de coste sin regularizar para regresión logística\n",
    "\n",
    "def logistic_cost_function(x, y, theta):\n",
    "    \"\"\" Computa la función de coste para el dataset y coeficientes considerados\n",
    "    \n",
    "    Argumentos posicionales:\n",
    "    x -- ndarray 2D con los valores de las variables independientes de los ejemplos, de tamaño m x n\n",
    "    y -- ndarray 1D con la variable dependiente/objetivo, de tamaño m x 1 y valores 0 o 1\n",
    "    theta -- ndarray 1D con los pesos de los coeficientes del modelo, de tamaño 1 x n (vector fila)\n",
    "    \n",
    "    Devuelve:\n",
    "    j -- float con el coste para dicho array theta\n",
    "    \"\"\"\n",
    "    m = [...]\n",
    "    \n",
    "    # Recuerda comprobar las dimensiones de la multiplicación matricial para hacerla correctamente\n",
    "    j = [...]\n",
    "    \n",
    "    return j"
   ]
  },
  {
   "cell_type": "markdown",
   "id": "84c07878-475e-4312-ba1a-945a1096e8a7",
   "metadata": {},
   "source": [
    "Del mismo modo que en ejercicios anteriores, comprueba tu implementación calculando la función de coste para cada ejemplo del dataset.\n",
    "\n",
    "Comprueba que devuelve un escalar float, y no un ndarray. Usa `np.reshape()` si es necesario en tus multiplicaciones matriciales.\n",
    "\n",
    "Con la *theta* correcta, la función de coste debe ser 0. Según se aleja la *theta* de la *Theta_verd*, el coste debe ser superior:"
   ]
  },
  {
   "cell_type": "code",
   "execution_count": null,
   "id": "14099fa4-5f7c-4a00-820e-0187619e7b7a",
   "metadata": {},
   "outputs": [],
   "source": [
    "# TODO: Comprueba tu implementación sobre el dataset\n",
    "\n",
    "theta = Theta_verd    # Modifica y comprueba varios valores de theta\n",
    "\n",
    "j = logistic_cost_function(X, Y, theta)\n",
    "\n",
    "print('Coste del modelo:')\n",
    "print(j)\n",
    "print('Theta comprobado y Theta real:')\n",
    "print(theta)\n",
    "print(Theta_verd)"
   ]
  }
 ],
 "metadata": {
  "environment": {
   "kernel": "python3",
   "name": "common-cpu.m87",
   "type": "gcloud",
   "uri": "gcr.io/deeplearning-platform-release/base-cpu:m87"
  },
  "kernelspec": {
   "display_name": "Python 3",
   "language": "python",
   "name": "python3"
  },
  "language_info": {
   "codemirror_mode": {
    "name": "ipython",
    "version": 3
   },
   "file_extension": ".py",
   "mimetype": "text/x-python",
   "name": "python",
   "nbconvert_exporter": "python",
   "pygments_lexer": "ipython3",
   "version": "3.7.12"
  }
 },
 "nbformat": 4,
 "nbformat_minor": 5
}
