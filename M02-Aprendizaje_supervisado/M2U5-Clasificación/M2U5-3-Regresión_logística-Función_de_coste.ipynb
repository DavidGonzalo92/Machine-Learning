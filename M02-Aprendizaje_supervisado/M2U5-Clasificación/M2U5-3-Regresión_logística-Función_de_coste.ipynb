{
 "cells": [
  {
   "cell_type": "markdown",
   "id": "2c330f7f-dfc7-4981-af4b-62c975587cea",
   "metadata": {},
   "source": [
    "# Regresión logística: Función de coste\n",
    "M2U5 - Ejercicio 3\n",
    "\n",
    "## ¿Qué vamos a hacer?\n",
    "- Crear un dataset sintético para regresión logística de forma manual y con Scikit-learn\n",
    "- Implementar la función de activación logística sigmoide\n",
    "- Implementar la función de coste regularizada para regresión logística\n",
    "\n",
    "Recuerda seguir las instrucciones para las entregas de prácticas indicadas en [Instrucciones entregas](https://github.com/Tokio-School/Machine-Learning/blob/main/Instrucciones%20entregas.md).\n",
    "\n",
    "## Instrucciones\n",
    "- xxx"
   ]
  }
 ],
 "metadata": {
  "environment": {
   "kernel": "python3",
   "name": "common-cpu.m87",
   "type": "gcloud",
   "uri": "gcr.io/deeplearning-platform-release/base-cpu:m87"
  },
  "kernelspec": {
   "display_name": "Python 3",
   "language": "python",
   "name": "python3"
  },
  "language_info": {
   "codemirror_mode": {
    "name": "ipython",
    "version": 3
   },
   "file_extension": ".py",
   "mimetype": "text/x-python",
   "name": "python",
   "nbconvert_exporter": "python",
   "pygments_lexer": "ipython3",
   "version": "3.7.12"
  }
 },
 "nbformat": 4,
 "nbformat_minor": 5
}
