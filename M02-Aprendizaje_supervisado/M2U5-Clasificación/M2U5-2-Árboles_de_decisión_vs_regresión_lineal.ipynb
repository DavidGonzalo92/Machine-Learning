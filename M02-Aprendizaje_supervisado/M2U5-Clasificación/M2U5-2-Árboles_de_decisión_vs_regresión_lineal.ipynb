{
 "cells": [
  {
   "cell_type": "markdown",
   "id": "b4551f26-d023-4bd9-8ec1-9a43d2fa387e",
   "metadata": {},
   "source": [
    "# Árboles de decisión vs regresión lineal\n",
    "M0U0 - Ejercicio 0\n",
    "\n",
    "## ¿Qué vamos a hacer?\n",
    "- xxx\n",
    "\n",
    "## Instrucciones\n",
    "- xxx"
   ]
  }
 ],
 "metadata": {
  "environment": {
   "kernel": "python3",
   "name": "common-cpu.m87",
   "type": "gcloud",
   "uri": "gcr.io/deeplearning-platform-release/base-cpu:m87"
  },
  "kernelspec": {
   "display_name": "Python 3",
   "language": "python",
   "name": "python3"
  },
  "language_info": {
   "codemirror_mode": {
    "name": "ipython",
    "version": 3
   },
   "file_extension": ".py",
   "mimetype": "text/x-python",
   "name": "python",
   "nbconvert_exporter": "python",
   "pygments_lexer": "ipython3",
   "version": "3.7.12"
  }
 },
 "nbformat": 4,
 "nbformat_minor": 5
}
