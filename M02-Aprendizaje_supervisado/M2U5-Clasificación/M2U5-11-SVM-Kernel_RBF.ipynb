{
 "cells": [
  {
   "cell_type": "markdown",
   "id": "ccfddb7f-4dab-49f6-8c98-b96f539571e9",
   "metadata": {},
   "source": [
    "# SVM: Kernel RBF\n",
    "M2U5 - Ejercicio 11\n",
    "\n",
    "## ¿Qué vamos a hacer?\n",
    "- Generar un dataset sintético de 2 clases (binario)\n",
    "- Preprocesar el dataset\n",
    "- Entrenar un modelo de clasificación por SVM sobre el mismo\n",
    "- Comprobar su idoneidad\n",
    "- Optimizar los hiper-parámetros de nuestro modelo por validación\n",
    "- Evaluar nuestro modelo\n",
    "\n",
    "Recuerda seguir las instrucciones para las entregas de prácticas indicadas en [Instrucciones entregas](https://github.com/Tokio-School/Machine-Learning/blob/main/Instrucciones%20entregas.md).\n",
    "\n",
    "## Instrucciones\n",
    "- xxx"
   ]
  }
 ],
 "metadata": {
  "environment": {
   "kernel": "python3",
   "name": "common-cpu.m87",
   "type": "gcloud",
   "uri": "gcr.io/deeplearning-platform-release/base-cpu:m87"
  },
  "kernelspec": {
   "display_name": "Python 3",
   "language": "python",
   "name": "python3"
  },
  "language_info": {
   "codemirror_mode": {
    "name": "ipython",
    "version": 3
   },
   "file_extension": ".py",
   "mimetype": "text/x-python",
   "name": "python",
   "nbconvert_exporter": "python",
   "pygments_lexer": "ipython3",
   "version": "3.7.12"
  }
 },
 "nbformat": 4,
 "nbformat_minor": 5
}
