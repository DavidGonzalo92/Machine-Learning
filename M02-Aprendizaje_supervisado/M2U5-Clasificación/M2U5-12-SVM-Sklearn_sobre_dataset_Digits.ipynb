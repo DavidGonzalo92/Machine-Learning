{
 "cells": [
  {
   "cell_type": "markdown",
   "id": "618abd8b-9a93-4355-bcdf-ad6a4d2b0f6a",
   "metadata": {},
   "source": [
    "# SVM: Scikit-learn sobre dataset Digits\n",
    "M2U5 - Ejercicio 12\n",
    "\n",
    "## ¿Qué vamos a hacer?\n",
    "- Descargar el dataset Digits para clasificarlo por OCR\n",
    "- Preprocesaer el dataset con métodos de Scikit-learn\n",
    "- Entrenar un modelo de clasificación multiclase con SVM\n",
    "- Evaluar la precisión del modelo y representarla gráficamente\n",
    "\n",
    "Recuerda seguir las instrucciones para las entregas de prácticas indicadas en [Instrucciones entregas](https://github.com/Tokio-School/Machine-Learning/blob/main/Instrucciones%20entregas.md).\n",
    "\n",
    "## Instrucciones\n",
    "En un ejercicio anterior, hemos resuelto el problema de la clasificación de dígitos escritos a mano por OCR por regresión logística usando Scikit-learn.\n",
    "\n",
    "Esta aplicación o dataset puede ser complejo, por lo que esperamos que un modelo de clasificación por SVM tenga más precisión sobre el mismo que la regresión logística lineal.\n",
    "\n",
    "Repite los pasos para entrenar un modelo SVM sobre dicho dataset, optimizarlo por CV con K-fold y evaluarlo finalmente.\n",
    "\n",
    "Referencias:\n",
    "- Características del dataset aquí: [Optical recognition of handwritten digits dataset](https://scikit-learn.org/stable/datasets/toy_dataset.html#digits-dataset)\n",
    "- Función de carga: [sklearn.datasets.load_digits](https://scikit-learn.org/stable/modules/generated/sklearn.datasets.load_digits.html)\n",
    "- Referencia este notebook: [Recognizing hand-written digits](https://scikit-learn.org/stable/auto_examples/classification/plot_digits_classification.html)"
   ]
  },
  {
   "cell_type": "code",
   "execution_count": null,
   "id": "17dbdde5-6267-41c9-9688-13a1bd278b42",
   "metadata": {},
   "outputs": [],
   "source": [
    "# TODO: Importa todos los módulos necesarios en esta celda"
   ]
  },
  {
   "cell_type": "markdown",
   "id": "e0d21357-631e-4d60-9d47-f3947970af95",
   "metadata": {},
   "source": [
    "## Cargar el dataset Digits\n",
    "\n",
    "Representa gráficamente algunos de los ejemplos y sus clases o dígitos asociados:"
   ]
  },
  {
   "cell_type": "code",
   "execution_count": null,
   "id": "d1acf85e-d09c-4382-8a4b-2963d0fe99d0",
   "metadata": {},
   "outputs": [],
   "source": [
    "# TODO: Carga el dataset Digits como arrays X e Y y representa algunos de los ejemplos"
   ]
  },
  {
   "cell_type": "markdown",
   "id": "56ecfe35-a31e-49a4-a739-20396aaf5c51",
   "metadata": {},
   "source": [
    "## Preprocesar los datos\n",
    "\n",
    "Preprocesa los datos con métodos de Scikit-learn, del mismo modo que hiciste en el ejercicio de Scikit-learn de regresión logística:\n",
    "\n",
    "- Reordénalos aleatoriamente.\n",
    "- Normalízalos si es necesario.\n",
    "- Divídelos en subsets de entrenamiento y test.\n",
    "\n",
    "En esta ocasión, de nuevo, haremos la validación cruzada por K-fold."
   ]
  },
  {
   "cell_type": "code",
   "execution_count": null,
   "id": "d5daf04c-1e71-44da-a390-8b07259e872f",
   "metadata": {},
   "outputs": [],
   "source": [
    "# TODO: Reordena los datos aleatoriamente"
   ]
  },
  {
   "cell_type": "code",
   "execution_count": null,
   "id": "dcd58951-5534-4fd9-85c0-a7bd9d2ecced",
   "metadata": {},
   "outputs": [],
   "source": [
    "# TODO: Normalízalos sólo si es necesario"
   ]
  },
  {
   "cell_type": "code",
   "execution_count": null,
   "id": "4a296801-2dab-4a87-af79-8dd3d6e020ea",
   "metadata": {},
   "outputs": [],
   "source": [
    "# TODO: Divídelos en subsets de entrenamiento y test"
   ]
  },
  {
   "cell_type": "markdown",
   "id": "01014324-4b90-4a25-b7e5-86c20895242f",
   "metadata": {},
   "source": [
    "## Entrena un modelo de clasificación por SVM inicial\n",
    "\n",
    "Para comprobar el funcionamiento de nuestro clasificador SVC, vamos a entrenar un modelo inicial sobre el subset de entrenamiento y validarlo sobre el subset de test.\n",
    "\n",
    "Recuerda usar la función [decision_function_shape](https://scikit-learn.org/stable/modules/svm.html#multi-class-classification) para usar el esquema \"uno contra el resto\" (OVR).\n",
    "\n",
    "Usa los valores por defecto de *C* y *gamma* para no influir sobre su regularización:"
   ]
  },
  {
   "cell_type": "code",
   "execution_count": null,
   "id": "c4a17d31-5678-4073-8dad-12831c79ddd5",
   "metadata": {},
   "outputs": [],
   "source": [
    "# TODO: Entrena un modelo de SVC sin modificar los parámetros de regularización sobre el subset de entrenamiento"
   ]
  },
  {
   "cell_type": "markdown",
   "id": "c75b9417-633c-4a48-9833-46570d582d7b",
   "metadata": {},
   "source": [
    "Para evaluar el modelo podemos usar una matriz de confusión. En dicha matriz representamos, para cada una de las clases (10 en este caso), cuántos ejemplos se han predicho correctamente, en cuántos hemos fallado y qué clases habíamos predicho para los mismos.\n",
    "\n",
    "Puedes representar la matriz de confusión usando la función [sklearn.metrics.plot_confusion_matrix](https://scikit-learn.org/stable/modules/generated/sklearn.metrics.plot_confusion_matrix.html) que encontrarás en este ejemplo: [Recognizing hand-written digits](https://scikit-learn.org/stable/auto_examples/classification/plot_digits_classification.html)\n",
    "\n",
    "*NOTA:* ¿Te atreves a usar una escala de colores más adecuada para este caso?"
   ]
  },
  {
   "cell_type": "code",
   "execution_count": null,
   "id": "6523e812-57bb-4986-8e51-98d10eadd398",
   "metadata": {},
   "outputs": [],
   "source": [
    "# TODO: Evalúa el modelo con su model.score() sobre el subset de test"
   ]
  },
  {
   "cell_type": "code",
   "execution_count": null,
   "id": "d1889b36-744d-41e0-a5d6-d9c4b1b64264",
   "metadata": {},
   "outputs": [],
   "source": [
    "# TODO: Representa gráficamente la matriz de confusión del modelo"
   ]
  }
 ],
 "metadata": {
  "environment": {
   "kernel": "python3",
   "name": "common-cpu.m87",
   "type": "gcloud",
   "uri": "gcr.io/deeplearning-platform-release/base-cpu:m87"
  },
  "kernelspec": {
   "display_name": "Python 3",
   "language": "python",
   "name": "python3"
  },
  "language_info": {
   "codemirror_mode": {
    "name": "ipython",
    "version": 3
   },
   "file_extension": ".py",
   "mimetype": "text/x-python",
   "name": "python",
   "nbconvert_exporter": "python",
   "pygments_lexer": "ipython3",
   "version": "3.7.12"
  }
 },
 "nbformat": 4,
 "nbformat_minor": 5
}
