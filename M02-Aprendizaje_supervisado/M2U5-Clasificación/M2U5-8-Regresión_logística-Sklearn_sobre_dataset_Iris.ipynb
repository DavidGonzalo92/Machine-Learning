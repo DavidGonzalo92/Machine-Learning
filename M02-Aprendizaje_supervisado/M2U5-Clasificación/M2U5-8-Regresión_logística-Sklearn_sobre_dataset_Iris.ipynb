{
 "cells": [
  {
   "cell_type": "markdown",
   "id": "e4855011-3b93-4a3e-bc31-eef0e0ebb5ce",
   "metadata": {},
   "source": [
    "# Regresión logística: Scikit-learn sobre dataset Iris\n",
    "M2U5 - Ejercicio 8\n",
    "\n",
    "## ¿Qué vamos a hacer?\n",
    "- Descargar el dataset Iris\n",
    "- Preprocesar el dataset usando métodos de Scikit-learn\n",
    "- Entrenar un modelo de clasificación multiclase con Scikit-learn\n",
    "\n",
    "Recuerda seguir las instrucciones para las entregas de prácticas indicadas en [Instrucciones entregas](https://github.com/Tokio-School/Machine-Learning/blob/main/Instrucciones%20entregas.md).\n",
    "\n",
    "## Instrucciones\n",
    "- xxx"
   ]
  }
 ],
 "metadata": {
  "environment": {
   "kernel": "python3",
   "name": "common-cpu.m87",
   "type": "gcloud",
   "uri": "gcr.io/deeplearning-platform-release/base-cpu:m87"
  },
  "kernelspec": {
   "display_name": "Python 3",
   "language": "python",
   "name": "python3"
  },
  "language_info": {
   "codemirror_mode": {
    "name": "ipython",
    "version": 3
   },
   "file_extension": ".py",
   "mimetype": "text/x-python",
   "name": "python",
   "nbconvert_exporter": "python",
   "pygments_lexer": "ipython3",
   "version": "3.7.12"
  }
 },
 "nbformat": 4,
 "nbformat_minor": 5
}
