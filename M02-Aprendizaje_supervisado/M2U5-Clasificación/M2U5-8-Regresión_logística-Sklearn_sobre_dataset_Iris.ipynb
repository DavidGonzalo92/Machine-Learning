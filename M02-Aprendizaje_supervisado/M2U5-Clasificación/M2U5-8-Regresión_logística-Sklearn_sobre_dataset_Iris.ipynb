{
 "cells": [
  {
   "cell_type": "markdown",
   "id": "e4855011-3b93-4a3e-bc31-eef0e0ebb5ce",
   "metadata": {},
   "source": [
    "# Regresión logística: Scikit-learn sobre dataset Iris\n",
    "M2U5 - Ejercicio 8\n",
    "\n",
    "## ¿Qué vamos a hacer?\n",
    "- Descargar el dataset Iris\n",
    "- Preprocesar el dataset usando métodos de Scikit-learn\n",
    "- Entrenar un modelo de clasificación multiclase con Scikit-learn\n",
    "\n",
    "Recuerda seguir las instrucciones para las entregas de prácticas indicadas en [Instrucciones entregas](https://github.com/Tokio-School/Machine-Learning/blob/main/Instrucciones%20entregas.md).\n",
    "\n",
    "## Instrucciones\n",
    "Ahora vamos a resolver el mismo modelo usando métodos de Scikit-learn.\n",
    "\n",
    "Puedes tener como referencia este ejemplo: [Logistic regression 3-class classifier](https://scikit-learn.org/stable/auto_examples/linear_model/plot_iris_logistic.html):"
   ]
  },
  {
   "cell_type": "code",
   "execution_count": null,
   "id": "96019293-1fb4-4588-92d7-65ce9faf3cd5",
   "metadata": {},
   "outputs": [],
   "source": [
    "# TODO: Importa todos los módulos necesarios en esta celda"
   ]
  },
  {
   "cell_type": "markdown",
   "id": "96e9a277-8410-432b-9283-abb326208c4f",
   "metadata": {},
   "source": [
    "## Cargar el dataset Iris"
   ]
  },
  {
   "cell_type": "code",
   "execution_count": null,
   "id": "c9b20f51-eb3f-44bc-ae17-e3d778870944",
   "metadata": {},
   "outputs": [],
   "source": [
    "# TODO: Carga el dataset Iris como arrays X e Y"
   ]
  },
  {
   "cell_type": "markdown",
   "id": "8a9ea0c8-8c2e-43e7-a2eb-f8d7625f6e81",
   "metadata": {},
   "source": [
    "## Preprocesar los datos\n",
    "\n",
    "Preprocesa los datos con métodos de Scikit-learn, del mismo modo que hiciste en el ejercicio de Scikit-learn de regresión lineal:\n",
    "\n",
    "- Reordénalos aleatoriamente.\n",
    "- Normalízalos si es necesario.\n",
    "- Divídelos en subsets de entrenamiento y test.\n",
    "\n",
    "En esta ocasión, de nuevo, haremos la validación cruzada por K-fold, ya que el dataset es muy pequeño (150 ejemplos)."
   ]
  },
  {
   "cell_type": "code",
   "execution_count": null,
   "id": "4c28c5f5-97c0-4b2d-8eb5-18c30d1eaaff",
   "metadata": {},
   "outputs": [],
   "source": [
    "# TODO: Reordena los datos aleatoriamente, normalízalos sólo si es necesario y divídelos en subsets de entrenamiento y test"
   ]
  },
  {
   "cell_type": "markdown",
   "id": "5e92842c-70a6-4841-801e-6f153a68fb2e",
   "metadata": {},
   "source": [
    "## Entrenar un modelo inicial\n",
    "- Entrena un modelo inicial sobre el subset de entrenamiento sin regularización.\n",
    "- Comprueba la idoneidad del modelo y reentrénalo si es necesario.\n",
    "\n",
    "La función de Scikit-learn que puedes utilizar es [sklearn.linear_model.LogisticRegression](https://scikit-learn.org/stable/modules/generated/sklearn.linear_model.LogisticRegression.html) con esquema OvR (\"one-vs-rest\", una clase contra el resto).\n",
    "\n",
    "Evalúalo sobre el subset de test con su método `model.score()`:"
   ]
  },
  {
   "cell_type": "code",
   "execution_count": null,
   "id": "edbc88c4-de10-4db3-ae16-df0daf2326f2",
   "metadata": {},
   "outputs": [],
   "source": [
    "# TODO: Entrena tu modelo sobre el subset de entrenamiento sin regularizar y evalúalo sobre el de test"
   ]
  },
  {
   "cell_type": "markdown",
   "id": "36c71a85-f30d-435a-812c-66e91d700107",
   "metadata": {},
   "source": [
    "## Hallar la regularización óptima por validación cruzada\n",
    "- Entrena un modelo por cada valor de regularización a considerar.\n",
    "- Entrénalos y evalúalos sobre un fold del subset de entrenamiento usando K-fold.\n",
    "- Escoge el modelo y su regularización óptimas.\n",
    "\n",
    "El método LogisticRegression aplica por defecto una regularización L2, aunque usa el parámetro *C* que representa la inversa de *lambda*. Por lo tanto, a valores menores, mayor regularización:"
   ]
  },
  {
   "cell_type": "code",
   "execution_count": null,
   "id": "b7d895f0-9fc9-408b-85b6-ccde84b6d333",
   "metadata": {},
   "outputs": [],
   "source": [
    "# TODO: Entrena un modelo diferente por cada C sobre un fold de K-fold diferente\n",
    "\n",
    "# Usa los valores de lambda que considerábamos en ejercicios anteriores\n",
    "lambdas = [0., 1e-1, 1e1, 1e2, 1e3]\n",
    "# Calcula la C correspondiente a cada uno\n",
    "cs = [...]\n",
    "\n",
    "# Crea 5 splits de K-fold\n",
    "kf = [...]\n",
    "\n",
    "# Itera sobre los 5 splits para tus modelos y evalúalos en el subset de CV generado\n",
    "log_models = []\n",
    "best_model = None\n",
    "for train, cv in kf.split(X):\n",
    "    # Entrena un modelo sobre el subset train\n",
    "    # Recuerda establecer el parámetro C correspondiente\n",
    "    # Evalúalo sobre el subset cv usando su método score()\n",
    "    # Guarda el modelo con el mejor score en la variable best_model y muestra el C del mejor modelo\n",
    "    c = [...]\n",
    "    print('Regularización L2 usada:', c)\n",
    "    \n",
    "    log_models[...] = [...]\n",
    "    \n",
    "    # Si el modelo es mejor que el mejor modelo hasta ahora...\n",
    "    best_model = [...]\n",
    "    print('Regularización L2 del mejor modelo hasta ahora:', c)"
   ]
  },
  {
   "cell_type": "markdown",
   "id": "2616aade-4137-469a-9d8f-b034c0526adf",
   "metadata": {},
   "source": [
    "## Evaluar el modelo finalmente sobre el subset de test\n",
    "\n",
    "- Muestra los coeficientes e intercept del mejor modelo.\n",
    "- Evalúa el mejor modelo sobre el subset de test.\n",
    "- Calcula los aciertos y fallos sobre el subset de test como en el ejamplo enlazado."
   ]
  },
  {
   "cell_type": "code",
   "execution_count": null,
   "id": "462cc168-03a0-4a10-afb4-1d7737f97802",
   "metadata": {},
   "outputs": [],
   "source": [
    "# TODO: Evalúa el mejor modelo sobre el subset de test inicial\n",
    "\n",
    "# Muestra los coeficientes e intercept del mejor modelo entrenado\n",
    "print('Coeficientes de intercept del modelo entrenado')\n",
    "print()    # Muestra el intercept como el primer coeficiente\n",
    "\n",
    "# Realiza las predicciones sobre el subset de test\n",
    "y_test_pred = [...]\n",
    "\n",
    "# Calcula la métricas de evaluación del modelo de precisión (\"accuracy\") media (su método score())\n",
    "mean_accuracy = [...]\n",
    "\n",
    "print('Precisión media: %.2f' % mean_accuracy)\n",
    "\n",
    "# Calcula los aciertos y fallos sobre el subset de test y represéntalos gráficamente\n",
    "results = [...]\n",
    "\n",
    "# Represéntalos gráficamente\n",
    "plt.figure(1)\n",
    "\n",
    "# Completa con tu código\n",
    "\n",
    "plt.show()"
   ]
  }
 ],
 "metadata": {
  "environment": {
   "kernel": "python3",
   "name": "common-cpu.m87",
   "type": "gcloud",
   "uri": "gcr.io/deeplearning-platform-release/base-cpu:m87"
  },
  "kernelspec": {
   "display_name": "Python 3",
   "language": "python",
   "name": "python3"
  },
  "language_info": {
   "codemirror_mode": {
    "name": "ipython",
    "version": 3
   },
   "file_extension": ".py",
   "mimetype": "text/x-python",
   "name": "python",
   "nbconvert_exporter": "python",
   "pygments_lexer": "ipython3",
   "version": "3.7.12"
  }
 },
 "nbformat": 4,
 "nbformat_minor": 5
}
