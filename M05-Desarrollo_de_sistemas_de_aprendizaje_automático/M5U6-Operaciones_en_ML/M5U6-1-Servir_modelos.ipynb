{
 "cells": [
  {
   "cell_type": "markdown",
   "id": "5ddb215d-badb-4bdb-8e93-b24b7a705315",
   "metadata": {},
   "source": [
    "# MLOps: Servir modelos\n",
    "M5U6 - Ejercicio 1\n",
    "\n",
    "## ¿Qué vamos a hacer?\n",
    "- Entrenar un modelo simple y comprobar la realización de predicciones con el mismo\n",
    "- Desplegar dicho modelo tras una API de forma contenerizada\n",
    "- Realizar peticiones de predicción online y en batch al modelo\n",
    "\n",
    "Recuerda seguir las instrucciones para las entregas de prácticas indicadas en [Instrucciones entregas](https://github.com/Tokio-School/Machine-Learning/blob/main/Instrucciones%20entregas.md).\n",
    "\n",
    "## Instrucciones\n",
    "- xxx"
   ]
  }
 ],
 "metadata": {
  "environment": {
   "kernel": "python3",
   "name": "common-cpu.m87",
   "type": "gcloud",
   "uri": "gcr.io/deeplearning-platform-release/base-cpu:m87"
  },
  "kernelspec": {
   "display_name": "Python 3",
   "language": "python",
   "name": "python3"
  },
  "language_info": {
   "codemirror_mode": {
    "name": "ipython",
    "version": 3
   },
   "file_extension": ".py",
   "mimetype": "text/x-python",
   "name": "python",
   "nbconvert_exporter": "python",
   "pygments_lexer": "ipython3",
   "version": "3.7.12"
  }
 },
 "nbformat": 4,
 "nbformat_minor": 5
}
