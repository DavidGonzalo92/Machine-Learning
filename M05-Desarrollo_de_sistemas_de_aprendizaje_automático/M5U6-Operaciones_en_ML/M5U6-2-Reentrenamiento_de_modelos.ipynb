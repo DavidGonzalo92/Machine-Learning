{
 "cells": [
  {
   "cell_type": "markdown",
   "id": "3aeb0384-b56c-4ce4-9e38-61d3da76cf02",
   "metadata": {},
   "source": [
    "# MLOps: Reentrenamiento de modelos\n",
    "M5U6 - Ejercicio 2\n",
    "\n",
    "## ¿Qué vamos a hacer?\n",
    "- Entrenar un modelo simple y ponerlo en servicio\n",
    "- Detectar cuándo necesitamos reentrenar el modelo\n",
    "- Reentrenarlo de forma manual\n",
    "- Evaluar la nueva versión\n",
    "- Desplegar la nueva versión en producción\n",
    "\n",
    "Recuerda seguir las instrucciones para las entregas de prácticas indicadas en [Instrucciones entregas](https://github.com/Tokio-School/Machine-Learning/blob/main/Instrucciones%20entregas.md).\n",
    "\n",
    "## Instrucciones\n",
    "- xxx"
   ]
  },
  {
   "cell_type": "markdown",
   "id": "23ecf4f8-1c3d-4dfd-825e-88185cd549b0",
   "metadata": {},
   "source": [
    "## Creación del dataset original\n",
    "xxx\n",
    "\n",
    "- creación del dataset, regresión lineal, con algo de error"
   ]
  },
  {
   "cell_type": "code",
   "execution_count": null,
   "id": "e9699bfe-6d63-455a-ba7c-6afaffea985b",
   "metadata": {},
   "outputs": [],
   "source": [
    "# TODO:"
   ]
  },
  {
   "cell_type": "markdown",
   "id": "181293f7-a061-4ed8-89fc-b4efc8505501",
   "metadata": {},
   "source": [
    "### Preprocesamiento de datos\n",
    "xxx\n",
    "\n",
    "- reordenación\n",
    "- normalización\n",
    "- división en 3"
   ]
  },
  {
   "cell_type": "code",
   "execution_count": null,
   "id": "4d9393e4-197d-4af5-a92c-ba48447a3275",
   "metadata": {},
   "outputs": [],
   "source": [
    "# TODO:"
   ]
  },
  {
   "cell_type": "markdown",
   "id": "f1414635-6ec9-45cf-a303-8921ea30d653",
   "metadata": {},
   "source": [
    "## Entrenamiento del modelo original\n",
    "xxx\n",
    "\n",
    "- entrenamiento\n",
    "- validación con gridshearchcv\n",
    "- guardar modelo como model1\n",
    "- mostrar parámetros"
   ]
  },
  {
   "cell_type": "code",
   "execution_count": null,
   "id": "9bb15b7b-076c-4e51-a320-9d002918e22e",
   "metadata": {},
   "outputs": [],
   "source": [
    "# TODO:"
   ]
  },
  {
   "cell_type": "markdown",
   "id": "ff48ca72-5ba8-4ba2-b387-ed9476be0ca7",
   "metadata": {},
   "source": [
    "## Evaluación del modelo original\n",
    "xxx\n",
    "\n",
    "- evaluación simple"
   ]
  },
  {
   "cell_type": "code",
   "execution_count": null,
   "id": "8400cfba-a79a-4f39-a6a8-70e91766626c",
   "metadata": {},
   "outputs": [],
   "source": [
    "# TODO:"
   ]
  },
  {
   "cell_type": "markdown",
   "id": "9cb648db-4931-4a32-8ae7-2f92a5e99705",
   "metadata": {},
   "source": [
    "## Despliegue del modelo original\n",
    "xxx"
   ]
  },
  {
   "cell_type": "markdown",
   "id": "1559b38a-b1f2-452b-855e-f534ec0c600f",
   "metadata": {},
   "source": [
    "### Predicciones\n",
    "xxx\n",
    "\n",
    "- generar nuevos datos uno a uno, x e y, con término de error menos elevado\n",
    "- pd: por qué menos error? para que el modelo se equivoque\n",
    "- añadir a nuevo dataset\n",
    "- requerir predicciones al modelo"
   ]
  },
  {
   "cell_type": "code",
   "execution_count": null,
   "id": "04aec842-af76-4f03-ad8b-c91fba6fe371",
   "metadata": {},
   "outputs": [],
   "source": [
    "# TODO:"
   ]
  },
  {
   "cell_type": "markdown",
   "id": "382ceb50-c43b-44ef-8b79-ae6952ea7e36",
   "metadata": {},
   "source": [
    "### Evaluación de las predicciones\n",
    "xxx\n",
    "\n",
    "- evaluamos con la y de nuevas predicciones"
   ]
  },
  {
   "cell_type": "code",
   "execution_count": null,
   "id": "43161601-654c-4d85-ad34-2065c977b806",
   "metadata": {},
   "outputs": [],
   "source": [
    "# TODO:"
   ]
  },
  {
   "cell_type": "markdown",
   "id": "015ff946-a766-492c-9d81-6bfbb5ecbabe",
   "metadata": {},
   "source": [
    "## Reentrenamiento del modelo\n",
    "xxx\n",
    "\n",
    "- añadir nuevo dataset al original\n",
    "- nuevo modelo model2\n",
    "- mostrar y comparar params"
   ]
  },
  {
   "cell_type": "code",
   "execution_count": null,
   "id": "713fec62-3f45-4549-a20a-4044254e5af9",
   "metadata": {},
   "outputs": [],
   "source": [
    "# TODO:"
   ]
  },
  {
   "cell_type": "markdown",
   "id": "92838f4f-dfc7-45a3-ae2b-92357b7b6c08",
   "metadata": {},
   "source": [
    "### Evaluación del nuevo modelo\n",
    "xxx"
   ]
  },
  {
   "cell_type": "code",
   "execution_count": null,
   "id": "bdbcaeef-ff0c-47c2-a662-b69c9d363eac",
   "metadata": {},
   "outputs": [],
   "source": [
    "# TODO:"
   ]
  },
  {
   "cell_type": "markdown",
   "id": "b7153f0a-1763-4d78-aa85-07cf88c0e40c",
   "metadata": {},
   "source": [
    "### Predicciones\n",
    "xxx\n",
    "\n",
    "- generar nuevos datos\n",
    "- requerir predicciones al modelo"
   ]
  }
 ],
 "metadata": {
  "environment": {
   "kernel": "python3",
   "name": "common-cpu.m91",
   "type": "gcloud",
   "uri": "gcr.io/deeplearning-platform-release/base-cpu:m91"
  },
  "kernelspec": {
   "display_name": "Python 3",
   "language": "python",
   "name": "python3"
  },
  "language_info": {
   "codemirror_mode": {
    "name": "ipython",
    "version": 3
   },
   "file_extension": ".py",
   "mimetype": "text/x-python",
   "name": "python",
   "nbconvert_exporter": "python",
   "pygments_lexer": "ipython3",
   "version": "3.7.12"
  }
 },
 "nbformat": 4,
 "nbformat_minor": 5
}
