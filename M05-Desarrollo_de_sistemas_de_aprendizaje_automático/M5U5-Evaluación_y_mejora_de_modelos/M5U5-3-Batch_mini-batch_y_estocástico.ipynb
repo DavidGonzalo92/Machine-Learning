{
 "cells": [
  {
   "cell_type": "markdown",
   "id": "3fb77f4a-5b33-473c-83d3-dfff59c18787",
   "metadata": {},
   "source": [
    "# Gradient descent por batch vs mini-batch vs estocástico\n",
    "M5U5 - Ejercicio 3\n",
    "\n",
    "## ¿Qué vamos a hacer?\n",
    "- Modificar nuestra implementación de batch gradient descent a mini-batch y estocástico\n",
    "- Comprobar las diferencias entre el entrenamiento según los 3 métodos\n",
    "\n",
    "Recuerda seguir las instrucciones para las entregas de prácticas indicadas en [Instrucciones entregas](https://github.com/Tokio-School/Machine-Learning/blob/main/Instrucciones%20entregas.md).\n",
    "\n",
    "## Instrucciones\n",
    "- xxx"
   ]
  }
 ],
 "metadata": {
  "environment": {
   "kernel": "python3",
   "name": "common-cpu.m87",
   "type": "gcloud",
   "uri": "gcr.io/deeplearning-platform-release/base-cpu:m87"
  },
  "kernelspec": {
   "display_name": "Python 3",
   "language": "python",
   "name": "python3"
  },
  "language_info": {
   "codemirror_mode": {
    "name": "ipython",
    "version": 3
   },
   "file_extension": ".py",
   "mimetype": "text/x-python",
   "name": "python",
   "nbconvert_exporter": "python",
   "pygments_lexer": "ipython3",
   "version": "3.7.12"
  }
 },
 "nbformat": 4,
 "nbformat_minor": 5
}
