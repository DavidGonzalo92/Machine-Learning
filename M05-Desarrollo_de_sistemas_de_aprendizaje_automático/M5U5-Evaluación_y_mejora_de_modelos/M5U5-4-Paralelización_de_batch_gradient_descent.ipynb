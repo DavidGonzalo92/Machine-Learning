{
 "cells": [
  {
   "cell_type": "markdown",
   "id": "ff9edb1e-1b9a-46ab-87a6-b5ea072f4f65",
   "metadata": {},
   "source": [
    "# Paralelización de batch gradient descent\n",
    "M5U5 - Ejercicio 4\n",
    "\n",
    "## ¿Qué vamos a hacer?\n",
    "- Modificar la implementación de batch gradient descent para paralelizarlo\n",
    "- Utilizar las capacidades de multi-procesamiento de Python\n",
    "\n",
    "Recuerda seguir las instrucciones para las entregas de prácticas indicadas en [Instrucciones entregas](https://github.com/Tokio-School/Machine-Learning/blob/main/Instrucciones%20entregas.md).\n",
    "\n",
    "## Instrucciones\n",
    "- xxx"
   ]
  }
 ],
 "metadata": {
  "environment": {
   "kernel": "python3",
   "name": "common-cpu.m87",
   "type": "gcloud",
   "uri": "gcr.io/deeplearning-platform-release/base-cpu:m87"
  },
  "kernelspec": {
   "display_name": "Python 3",
   "language": "python",
   "name": "python3"
  },
  "language_info": {
   "codemirror_mode": {
    "name": "ipython",
    "version": 3
   },
   "file_extension": ".py",
   "mimetype": "text/x-python",
   "name": "python",
   "nbconvert_exporter": "python",
   "pygments_lexer": "ipython3",
   "version": "3.7.12"
  }
 },
 "nbformat": 4,
 "nbformat_minor": 5
}
