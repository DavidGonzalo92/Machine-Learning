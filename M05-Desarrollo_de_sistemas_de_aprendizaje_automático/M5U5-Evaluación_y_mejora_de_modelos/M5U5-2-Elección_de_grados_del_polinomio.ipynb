{
 "cells": [
  {
   "cell_type": "markdown",
   "id": "671f2138-334b-4dbe-8465-c110632bf188",
   "metadata": {},
   "source": [
    "# Evaluación y mejora de modelos: Elección de grados del polinomio\n",
    "M5U5 - Ejercicio 2\n",
    "\n",
    "## ¿Qué vamos a hacer?\n",
    "- Transformar las características para aplicar polinomios de varios grados\n",
    "- Identificar el grado de polinomio idóneo para cada característica\n",
    "- Identificar cuando sufrimos desviación o sobre-ajuste debido a utilizar un grado de polinomio incorrecto\n",
    "\n",
    "Recuerda seguir las instrucciones para las entregas de prácticas indicadas en [Instrucciones entregas](https://github.com/Tokio-School/Machine-Learning/blob/main/Instrucciones%20entregas.md).\n",
    "\n",
    "## Instrucciones\n",
    "- xxx"
   ]
  }
 ],
 "metadata": {
  "environment": {
   "kernel": "python3",
   "name": "common-cpu.m87",
   "type": "gcloud",
   "uri": "gcr.io/deeplearning-platform-release/base-cpu:m87"
  },
  "kernelspec": {
   "display_name": "Python 3",
   "language": "python",
   "name": "python3"
  },
  "language_info": {
   "codemirror_mode": {
    "name": "ipython",
    "version": 3
   },
   "file_extension": ".py",
   "mimetype": "text/x-python",
   "name": "python",
   "nbconvert_exporter": "python",
   "pygments_lexer": "ipython3",
   "version": "3.7.12"
  }
 },
 "nbformat": 4,
 "nbformat_minor": 5
}
