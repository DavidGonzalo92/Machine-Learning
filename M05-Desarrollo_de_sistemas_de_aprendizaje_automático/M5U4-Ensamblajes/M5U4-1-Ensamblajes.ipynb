{
 "cells": [
  {
   "cell_type": "markdown",
   "id": "4db781d2-5e63-4fad-b2a4-f207545449d8",
   "metadata": {},
   "source": [
    "# Ensamblajes\n",
    "M5U4 - Ejercicio 1\n",
    "\n",
    "## ¿Qué vamos a hacer?\n",
    "- Resolver un modelo por árboles de decisión y comprobar su idoneidad\n",
    "- Mejorar la precisión utilizando un ensamblaje con Scikit-learn\n",
    "\n",
    "Recuerda seguir las instrucciones para las entregas de prácticas indicadas en [Instrucciones entregas](https://github.com/Tokio-School/Machine-Learning/blob/main/Instrucciones%20entregas.md).\n",
    "\n",
    "## Instrucciones\n",
    "En este ejercicio vamos a resolver una aplicación de clasificación por ML con árboles de decisión mejorados con ensamblajes de boosting y votación. Los métodos de ensamblaje creaban un estimador \"fuerte\" a partir de múltiples estimadores \"débiles\", para intentar solventar el problema de la variación o sobre-ajuste.\n",
    "\n",
    "Para ello, utilizaremos los módulos de [ensamblaje de Scikit Learn](https://scikit-learn.org/stable/modules/ensemble.html)."
   ]
  },
  {
   "cell_type": "code",
   "execution_count": null,
   "id": "8e3714a1-e5e0-46f2-a7a2-bd2d610675dd",
   "metadata": {},
   "outputs": [],
   "source": [
    "# TODO: Importa aquí todas las librerías necesarias"
   ]
  },
  {
   "cell_type": "markdown",
   "id": "4496d920-2117-472d-a880-2667ee2d3db8",
   "metadata": {},
   "source": [
    "## Preparación del dataset\n",
    "\n",
    "Comienza por crear un dataset para clasificación por los métodos habituales, de forma manual o con los métodos de Scikit-learn. Asegúrate de tener un término de ruido o error más elevado de lo habitual, para intentar forzar que exista un efecto de sobre-ajuste:"
   ]
  },
  {
   "cell_type": "code",
   "execution_count": null,
   "id": "dc1d6536-859e-4893-ba97-6e233a3475c1",
   "metadata": {},
   "outputs": [],
   "source": [
    "# TODO: Crea un dataset de clasificación\n",
    "m = 1000\n",
    "n = 19\n",
    "n_clases = 2\n",
    "\n",
    "X, Y = [...]\n",
    "\n",
    "# Comprueba las dimensiones de X e Y\n",
    "[...]"
   ]
  },
  {
   "cell_type": "markdown",
   "id": "9179cab0-d9e0-4f54-917a-3737578f038d",
   "metadata": {},
   "source": [
    "### Preprocesamiento de datos\n",
    "\n",
    "Preprocesa tus datos, reordenándolos aleatoriamente, normalizándolos si es necesario y dividiéndolos en subsets de entrenamiento, validación y test:"
   ]
  },
  {
   "cell_type": "code",
   "execution_count": null,
   "id": "057cdaca-a277-4ee5-af79-d132c35850e7",
   "metadata": {},
   "outputs": [],
   "source": [
    "# TODO: Reordena, normaliza y divide el dataset en subsets de entrenamiento, validación y test"
   ]
  },
  {
   "cell_type": "markdown",
   "id": "bcff1107-3ff2-4f70-958c-d3c0b6187607",
   "metadata": {},
   "source": [
    "## Modelo base\n",
    "\n",
    "Vamos a comparar en todo momento nuestros ensamblajes con un modelo de clasificación por árbol de decisión base.\n",
    "\n",
    "Entrena un árbol de decisión de clasificación por [tree.DecisionTreeClassifier](https://scikit-learn.org/stable/modules/generated/sklearn.tree.DecisionTreeClassifier.html) sin regularización y evalúa su [F1-score](https://scikit-learn.org/stable/modules/generated/sklearn.metrics.f1_score.html) sobre el subset de validación:"
   ]
  },
  {
   "cell_type": "code",
   "execution_count": null,
   "id": "bca4bedf-7d26-4ce9-a421-7631b591e1f6",
   "metadata": {},
   "outputs": [],
   "source": [
    "# TODO: Entrena un árbol de decisión y evalúa su F1-score\n",
    "\n",
    "modelo_base = [...]\n",
    "\n",
    "f1_modelo_base = [...]"
   ]
  },
  {
   "cell_type": "markdown",
   "id": "4b312819-3eaa-401e-a2fa-443ba06ccfb2",
   "metadata": {},
   "source": [
    "*NOTA:* Si su F1-score supera el 90%, incrementa el ratio de error del dataset hasta hacerlo inferior a dicha cifra, para poder compararlo con más sentido con los diferentes ensamblajes."
   ]
  },
  {
   "cell_type": "markdown",
   "id": "55599cda-3ab9-4161-93cc-78139921726b",
   "metadata": {},
   "source": [
    "## AdaBoost\n",
    "\n",
    "Vamos a entrenar un ensamblaje de clasificación por AdaBoost. Esta técnica entrena secuencialmente múltiples modelos, modificando los pesos de los datos de entrenamiento en función de la precisión sobre los mismos para modelos anteriores, combinando como un meta-estimador múltiples estimadores \"débiles\" en un estimador \"fuerte\" de mayor precisión.\n",
    "\n",
    "Guíate por la documentación de Scikit-learn:\n",
    "- [AdaBoost](https://scikit-learn.org/stable/modules/ensemble.html#adaboost)\n",
    "- [ensemble.AdaBoostClassifier](https://scikit-learn.org/stable/modules/generated/sklearn.ensemble.AdaBoostClassifier.html)\n",
    "\n",
    "Entrena un ensamblaje de AdaBoost de clasificación por árboles de decisión con los parámetros por defecto:"
   ]
  },
  {
   "cell_type": "code",
   "execution_count": null,
   "id": "22430968-afe6-4afd-886d-1331a4bb7039",
   "metadata": {},
   "outputs": [],
   "source": [
    "# TODO: Entrena un ensamblaje de AdaBoost con Scikit-learn con los parámetros por defecto y evalua su F1-score final sobre el subset de validación\n",
    "\n",
    "modelo_adaboost = [...]\n",
    "\n",
    "f1_modelo_adaboost = [...]"
   ]
  },
  {
   "cell_type": "markdown",
   "id": "034270aa-32e0-4a3e-b50c-75e3e447bdaf",
   "metadata": {},
   "source": [
    "*PREGUNTA:* ¿Si no le hemos indicado en ningún momento que queremos utilizar un árbol de decisión, ¿cómo sabemos que este método lo ha utilizado?\n",
    "\n",
    "*Pista:* `base_estimator`."
   ]
  },
  {
   "cell_type": "markdown",
   "id": "30873949-f845-417a-986f-82a69705f1e3",
   "metadata": {},
   "source": [
    "Compara la F1-score del modelo por AdaBoost con el modelo base:\n",
    "\n",
    "*PREGUNTA:* ¿Qué porcentaje de F1-score hemos ganado al utilizar un ensamblaje?"
   ]
  },
  {
   "cell_type": "code",
   "execution_count": null,
   "id": "8e4b50d9-8721-4398-9c0a-0d56bb7d8f76",
   "metadata": {},
   "outputs": [],
   "source": [
    "# TODO: Calcula la diferencia de F1-score entre ambos modelos de forma absoluta y porcentual"
   ]
  },
  {
   "cell_type": "markdown",
   "id": "8980b00d-583f-47a3-b460-8eab0076f350",
   "metadata": {},
   "source": [
    "## Random Forest\n",
    "\n",
    "Ahora vamos a entrenar también un meta-estimador de random forest sobre el mismo dataset. Vamos a utilizar una variación por boosting + muestreo aleatorio de características/estimadores con el método ExtraTreesClassifier, para maximizar la variación entre modelos.\n",
    "\n",
    "Guíate por la documentación de Scikit-learn:\n",
    "- [Forests of randomized trees](https://scikit-learn.org/stable/modules/ensemble.html#forest)\n",
    "- [ensemble.ExtraTreesClassifier](https://scikit-learn.org/stable/modules/generated/sklearn.ensemble.ExtraTreesClassifier.html)\n",
    "\n",
    "Entrena un ensamblaje de Random Forest de clasificación por árboles de decisión con `bootstrap = True` y el resto de parámetros por defecto:"
   ]
  },
  {
   "cell_type": "code",
   "execution_count": null,
   "id": "16675a3b-675a-4a05-a9b4-ecb1ed9eee7c",
   "metadata": {},
   "outputs": [],
   "source": [
    "# TODO: Entrena un ensamblaje de Random Forest con Scikit-learn con los parámetros por defecto y evalua su F1-score final sobre el subset de validación\n",
    "\n",
    "modelo_random_forest = [...]\n",
    "\n",
    "f1_modelo_random_forest = [...]"
   ]
  },
  {
   "cell_type": "markdown",
   "id": "10a436a0-9ea2-4474-bc40-ac8330515cf8",
   "metadata": {},
   "source": [
    "Compara la F1-score del modelo por Random Forest con el modelo base:\n",
    "\n",
    "*PREGUNTA:* ¿Qué porcentaje de F1-score hemos ganado al utilizar un ensamblaje?"
   ]
  },
  {
   "cell_type": "code",
   "execution_count": null,
   "id": "e09c4494-9721-4e1c-bfe8-a6605b833634",
   "metadata": {},
   "outputs": [],
   "source": [
    "# TODO: Calcula la diferencia de F1-score entre ambos modelos de forma absoluta y porcentual"
   ]
  },
  {
   "cell_type": "markdown",
   "id": "a676d670-8c4f-4878-bc50-77d8fd06662f",
   "metadata": {},
   "source": [
    "## Evaluación final\n",
    "\n",
    "Una vez entrenados ambos modelos, escoge el de mayor F1-score sobr el subset de validación y evalúalo sobre el subset de test, comparándolo con el modelo base:"
   ]
  },
  {
   "cell_type": "code",
   "execution_count": null,
   "id": "a5145c03-6b2a-46f8-8d4a-291e29303f5f",
   "metadata": {},
   "outputs": [],
   "source": [
    "# TODO: Calcula la diferencia de F1-score sobre el subset de test entre ambos modelos de forma absoluta y porcentual"
   ]
  }
 ],
 "metadata": {
  "environment": {
   "kernel": "python3",
   "name": "common-cpu.m91",
   "type": "gcloud",
   "uri": "gcr.io/deeplearning-platform-release/base-cpu:m91"
  },
  "kernelspec": {
   "display_name": "Python 3",
   "language": "python",
   "name": "python3"
  },
  "language_info": {
   "codemirror_mode": {
    "name": "ipython",
    "version": 3
   },
   "file_extension": ".py",
   "mimetype": "text/x-python",
   "name": "python",
   "nbconvert_exporter": "python",
   "pygments_lexer": "ipython3",
   "version": "3.7.12"
  }
 },
 "nbformat": 4,
 "nbformat_minor": 5
}
