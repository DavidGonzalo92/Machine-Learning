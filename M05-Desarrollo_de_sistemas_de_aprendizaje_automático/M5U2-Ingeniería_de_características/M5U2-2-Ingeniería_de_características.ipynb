{
 "cells": [
  {
   "cell_type": "markdown",
   "id": "776b8217-5c8c-412f-ad29-fc7794eab41a",
   "metadata": {},
   "source": [
    "# Ingeniería de características\n",
    "M5U2 - Ejercicio 2\n",
    "\n",
    "## ¿Qué vamos a hacer?\n",
    "- Aplicar principios de ingeniería de características para crear el conjunto de datos de entrenamiento definitivo\n",
    "- Integrar varios conjuntos como fuente de datos\n",
    "- Evaluar la idoneidad e influencia de cada característica para escoger cuáles incluir o no\n",
    "- Transformar los datos iniciales según cada característica\n",
    "\n",
    "Recuerda seguir las instrucciones para las entregas de prácticas indicadas en [Instrucciones entregas](https://github.com/Tokio-School/Machine-Learning/blob/main/Instrucciones%20entregas.md).\n",
    "\n",
    "## Instrucciones\n",
    "- xxx"
   ]
  }
 ],
 "metadata": {
  "environment": {
   "kernel": "python3",
   "name": "common-cpu.m87",
   "type": "gcloud",
   "uri": "gcr.io/deeplearning-platform-release/base-cpu:m87"
  },
  "kernelspec": {
   "display_name": "Python 3",
   "language": "python",
   "name": "python3"
  },
  "language_info": {
   "codemirror_mode": {
    "name": "ipython",
    "version": 3
   },
   "file_extension": ".py",
   "mimetype": "text/x-python",
   "name": "python",
   "nbconvert_exporter": "python",
   "pygments_lexer": "ipython3",
   "version": "3.7.12"
  }
 },
 "nbformat": 4,
 "nbformat_minor": 5
}
