{
 "cells": [
  {
   "cell_type": "markdown",
   "id": "776b8217-5c8c-412f-ad29-fc7794eab41a",
   "metadata": {},
   "source": [
    "# Ingeniería de características: Limpieza de datos\n",
    "M5U2 - Ejercicio 1\n",
    "\n",
    "## ¿Qué vamos a hacer?\n",
    "- Buscar y descargar conjuntos de datos reales\n",
    "- Identificar outliers en los datos\n",
    "- Identificar datos inválidos, imprecisos, incorrectos, incompletos y no uniformes\n",
    "- Aplicar algunas estrategias para resolver problemas de calidad en los datos\n",
    "\n",
    "Recuerda seguir las instrucciones para las entregas de prácticas indicadas en [Instrucciones entregas](https://github.com/Tokio-School/Machine-Learning/blob/main/Instrucciones%20entregas.md).\n",
    "\n",
    "## Instrucciones\n",
    "- xxx"
   ]
  }
 ],
 "metadata": {
  "environment": {
   "kernel": "python3",
   "name": "common-cpu.m87",
   "type": "gcloud",
   "uri": "gcr.io/deeplearning-platform-release/base-cpu:m87"
  },
  "kernelspec": {
   "display_name": "Python 3",
   "language": "python",
   "name": "python3"
  },
  "language_info": {
   "codemirror_mode": {
    "name": "ipython",
    "version": 3
   },
   "file_extension": ".py",
   "mimetype": "text/x-python",
   "name": "python",
   "nbconvert_exporter": "python",
   "pygments_lexer": "ipython3",
   "version": "3.7.12"
  }
 },
 "nbformat": 4,
 "nbformat_minor": 5
}
