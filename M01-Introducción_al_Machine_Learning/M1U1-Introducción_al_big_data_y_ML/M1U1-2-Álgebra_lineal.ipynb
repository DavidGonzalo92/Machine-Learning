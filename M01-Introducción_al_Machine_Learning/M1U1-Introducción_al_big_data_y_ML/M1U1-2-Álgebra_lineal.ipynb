{
 "cells": [
  {
   "cell_type": "markdown",
   "id": "565e9f17-04b9-43ef-9694-d20e6b4a521e",
   "metadata": {},
   "source": [
    "# Álgebra lineal\n",
    "M1U1 - Ejercicio 2\n",
    "\n",
    "## ¿Qué vamos a hacer?\n",
    "- Resolver una serie de problemas de operaciones matemáticas de álgebra lineal\n",
    "\n",
    "Recuerda seguir las instrucciones para las entregas de prácticas indicadas en [Instrucciones entregas](https://github.com/Tokio-School/Machine-Learning/blob/main/Instrucciones%20entregas.md).\n",
    "\n",
    "## Instrucciones\n",
    "\n",
    "Vamos a realizar una serie de operaciones matemáticas de álgebra lineal, para ayudar a que interioricemos estos conceptos plenamente.\n",
    "\n",
    "Para este ejercicio se pide que resuelvas estos ejercicios de la forma que prefieras: usando un editor de texto con capacidad de incluir fórmulas matemáticas, LaTeX, un documento escaneado o incluso una fotografía de una hoja donde se aprecie claramente la solución.\n",
    "\n",
    "Por favor, recuerda resolverlos paso a paso de forma manual. Eso sí, puedes usar cualquier calculadora para comprobar el resultado, pero queremos asentar las características de la operación para comprenderla bien.\n",
    "\n",
    "Una vez completadas estas operaciones de forma manual, te asegurarás no tener ningún problema al realizarlas a través de código en implementaciones más complejas, como las que haremos durante el curso.\n",
    "\n",
    "*Nota del profesor: Aunque pueda no sonar muy sexy hacer un ejercicio de matemáticas de bachillerato, preocuparte por poder resolverlo sin problema e interiorizar estos conceptos te va a ayudar a evitar muchos problemas durante el curso y en tu trabajo, en mi experiencia con ML :).*"
   ]
  },
  {
   "cell_type": "markdown",
   "id": "9407f0bb-63a3-41ca-9a1e-a7e5e9a0f7c6",
   "metadata": {},
   "source": [
    "### Matrices y vectores\n",
    "\n",
    "$A_{3\\times3} = \\begin{bmatrix}\n",
    "1 & 2 & 3 \\\\\n",
    "4 & 5 & 6 \\\\\n",
    "7 & 8 & 9 \\\\\n",
    "\\end{bmatrix}$\n",
    "\n",
    "$B_{3\\times3} = \\begin{bmatrix}\n",
    "10 & 20 & 30 \\\\\n",
    "40 & 50 & 60 \\\\\n",
    "70 & 80 & 90 \\\\\n",
    "\\end{bmatrix}$\n",
    "\n",
    "$V_{3\\times1} = \\begin{bmatrix}\n",
    "a \\\\\n",
    "b \\\\\n",
    "c \\\\\n",
    "\\end{bmatrix}$\n",
    "\n",
    "$C_{3\\times2} = \\begin{bmatrix}\n",
    "a & b \\\\\n",
    "c & d \\\\\n",
    "e & f \\\\\n",
    "\\end{bmatrix}$\n",
    "\n",
    "$D_{2\\times3} = \\begin{bmatrix}\n",
    "g & h & i \\\\\n",
    "j & k & l\n",
    "\\end{bmatrix}$\n",
    "\n",
    "$Y_{4\\times1} = \\begin{bmatrix}\n",
    "y_1 \\\\\n",
    "y_2 \\\\\n",
    "y_3 \\\\\n",
    "y_4\n",
    "\\end{bmatrix}$\n",
    "\n",
    "$\\Theta_{1\\times3} = \\begin{bmatrix}\n",
    "\\theta_1 & \\theta_2 & \\theta_3\n",
    "\\end{bmatrix}$\n",
    "\n",
    "$X_{4\\times3} = \\begin{bmatrix}\n",
    "1 & 2 & 3 \\\\\n",
    "4 & 5 & 6 \\\\\n",
    "7 & 8 & 9 \\\\\n",
    "10 & 11 & 12\n",
    "\\end{bmatrix}$"
   ]
  },
  {
   "cell_type": "markdown",
   "id": "c0ba2cfc-fc36-4f5b-8a07-261b698f39d1",
   "metadata": {},
   "source": [
    "### Ejercicios\n",
    "\n",
    "1. Transpón la matriz *A*.\n",
    "1. Halla la suma de la matriz *A* y *B*.\n",
    "1. Multiplica la matriz *A* por el nº escalar 3.\n",
    "1. Multiplica la matriz *A* por el vector *V*.\n",
    "1. Multiplica la matriz *A* por la matriz *C*.\n",
    "1. Multiplica la matriz *B* por la matriz *C*.\n",
    "1. Multiplica la matriz *B* por la matriz *D*.\n",
    "1. Sabiendo que, en una regresión lineal, *Y* es igual a la multiplicación del vector *Θ* y la matriz *X*, plantea la ecuación y resuélvela para cada elemento de *Y*, teniendo en cuenta:\n",
    "    1. *Y* y *Theta* son vectores fila o columna, podemos transponerlos sin ningún problema.\n",
    "    1. Podemos transponer *X* sólo si no queda otra opción.\n",
    "    1. Podemos escoger el orden de la multiplicación que estimemos."
   ]
  },
  {
   "cell_type": "markdown",
   "id": "cbade501-7db3-490f-82a9-cc32082ffd7e",
   "metadata": {},
   "source": [
    "## Hemos aprendido que...\n",
    "\n",
    "- La implementación del machine learning depende de cálculos del álgebra lineal.\n",
    "- Debemos saber cómo multiplicar matrices paso a paso para saber cómo aprovechar estas operaciones a la hora de implementar los algoritmos de machine learning.\n",
    "- No todas las operaciones son siempre posibles.\n",
    "- Cuidado con las dimensiones de los vectores y matrices, *¡pero mucho cuidado!*."
   ]
  }
 ],
 "metadata": {
  "environment": {
   "kernel": "python3",
   "name": "common-cpu.m87",
   "type": "gcloud",
   "uri": "gcr.io/deeplearning-platform-release/base-cpu:m87"
  },
  "kernelspec": {
   "display_name": "Python 3",
   "language": "python",
   "name": "python3"
  },
  "language_info": {
   "codemirror_mode": {
    "name": "ipython",
    "version": 3
   },
   "file_extension": ".py",
   "mimetype": "text/x-python",
   "name": "python",
   "nbconvert_exporter": "python",
   "pygments_lexer": "ipython3",
   "version": "3.7.12"
  }
 },
 "nbformat": 4,
 "nbformat_minor": 5
}
